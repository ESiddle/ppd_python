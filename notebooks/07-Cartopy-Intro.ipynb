{
 "cells": [
  {
   "cell_type": "markdown",
   "metadata": {},
   "source": [
    "# Brief look at Cartopy\n",
    "\n",
    "Cartopy is a Python package that provides easy creation of maps with matplotlib."
   ]
  },
  {
   "cell_type": "markdown",
   "metadata": {},
   "source": [
    "#### Cartopy *vs* Basemap"
   ]
  },
  {
   "cell_type": "markdown",
   "metadata": {},
   "source": [
    "* Cartopy is replacing Basemap, which is nearing its [end-of-life in 2020](https://matplotlib.org/basemap/users/intro.html#cartopy-new-management-and-eol-announcement). All new software development should try to use Cartopy whenever possible.\n",
    "* Cartopy is better integrated with matplotlib and in a more active development state\n",
    "* Proper handling of datelines in cartopy - one of the bugs in basemap (example: [Challenger circumnavigation](http://ocefpaf.github.io/python4oceanographers/blog/2013/09/23/cartopy/))\n",
    "* Cartopy offers powerful vector data handling by integrating shapefile reading with Shapely capabilities\n",
    "* Basemap: gridline labels for any projection; limited to a few in cartopy ([workaround](http://stackoverflow.com/questions/27962953/cartopy-axis-label-workaround) for Lambert Conic)\n",
    "* Basemap has a map scale bar feature (can be [buggy](https://github.com/matplotlib/basemap/issues/165)); still [not implemented](https://github.com/SciTools/cartopy/issues/490) in cartopy, but there are some messy [workarounds](http://stackoverflow.com/questions/32333870/how-can-i-show-a-km-ruler-on-a-cartopy-matplotlib-plot)"
   ]
  },
  {
   "cell_type": "markdown",
   "metadata": {},
   "source": [
    "As for the standard matplotlib plots, we first need to import `pyplot` submodule and make the graphical output appear in the notebook:"
   ]
  },
  {
   "cell_type": "markdown",
   "metadata": {},
   "source": [
    "In order to create a map with cartopy and matplotlib, we typically need to import pyplot from matplotlib and cartopy's crs (coordinate reference system) submodule. These are typically imported as follows:"
   ]
  },
  {
   "cell_type": "code",
   "execution_count": null,
   "metadata": {},
   "outputs": [],
   "source": [
    "import matplotlib.pyplot as plt"
   ]
  },
  {
   "cell_type": "markdown",
   "metadata": {},
   "source": [
    "Then let's import the cartopy"
   ]
  },
  {
   "cell_type": "code",
   "execution_count": null,
   "metadata": {},
   "outputs": [],
   "source": [
    "import cartopy"
   ]
  },
  {
   "cell_type": "markdown",
   "metadata": {},
   "source": [
    "In addition, we import cartopy's **coordinate reference system** submodule:"
   ]
  },
  {
   "cell_type": "code",
   "execution_count": null,
   "metadata": {},
   "outputs": [],
   "source": [
    "import cartopy.crs as ccrs"
   ]
  },
  {
   "cell_type": "code",
   "execution_count": null,
   "metadata": {},
   "outputs": [],
   "source": [
    "import warnings\n",
    "warnings.filterwarnings(\"ignore\") # Python will warn you when cartopy downloads sample data for plotting. Here we supress those warnings"
   ]
  },
  {
   "cell_type": "markdown",
   "metadata": {},
   "source": [
    "## Creating GeoAxes"
   ]
  },
  {
   "cell_type": "markdown",
   "metadata": {},
   "source": [
    "* Cartopy-matplotlib interface is set up via the `projection` keyword when constructing `Axes` / `SubAxes`\n",
    "* The resulting instance (`cartopy.mpl.geoaxes.GeoAxesSubplot`) has new methods specific to drawing cartographic data, e.g. **coastlines**:"
   ]
  },
  {
   "cell_type": "code",
   "execution_count": null,
   "metadata": {},
   "outputs": [],
   "source": [
    "ax = plt.axes(projection=ccrs.PlateCarree())\n",
    "ax.coastlines()"
   ]
  },
  {
   "cell_type": "code",
   "execution_count": null,
   "metadata": {},
   "outputs": [],
   "source": [
    "print('axes type:', type(ax))"
   ]
  },
  {
   "cell_type": "markdown",
   "metadata": {},
   "source": [
    "Here we are using a Plate Carrée projection, which is one of *equidistant cylindrical projections*.\n",
    "\n",
    "A full list of Cartopy projections is available at http://scitools.org.uk/cartopy/docs/latest/crs/projections.html."
   ]
  },
  {
   "cell_type": "markdown",
   "metadata": {},
   "source": [
    "### Putting georeferenced data on a map"
   ]
  },
  {
   "cell_type": "markdown",
   "metadata": {},
   "source": [
    "* Use the standard matplotlib plotting routines with an additional `transform` keyword.\n",
    "* The value of the `transform` argument should be the cartopy coordinate reference system *of the data being plotted*"
   ]
  },
  {
   "cell_type": "code",
   "execution_count": null,
   "metadata": {},
   "outputs": [],
   "source": [
    "ax = plt.axes(projection=ccrs.PlateCarree())\n",
    "ax.coastlines()\n",
    "ax.set_global()\n",
    "plt.plot([-100, 50], [25, 25], linewidth=4, color='r', transform=ccrs.PlateCarree())\n",
    "plt.plot([-100, 50], [25, 25], linewidth=4, color='b', transform=ccrs.Geodetic())"
   ]
  },
  {
   "cell_type": "markdown",
   "metadata": {},
   "source": [
    "Notice that unless we specify a map extent (we did so via the **``set_global``** method in this case) the map will zoom into the range of the plotted data."
   ]
  },
  {
   "cell_type": "markdown",
   "metadata": {},
   "source": [
    "### Decorating the map"
   ]
  },
  {
   "cell_type": "markdown",
   "metadata": {},
   "source": [
    "We can add grid lines and tick labels to the map using the `gridlines()` method:"
   ]
  },
  {
   "cell_type": "code",
   "execution_count": null,
   "metadata": {},
   "outputs": [],
   "source": [
    "ax = plt.axes(projection=ccrs.Mercator())\n",
    "ax.coastlines()\n",
    "gl = ax.gridlines(draw_labels=True)"
   ]
  },
  {
   "cell_type": "markdown",
   "metadata": {},
   "source": [
    "Unfortunately, gridline labels work only in PlateCarree and Mercator projections."
   ]
  },
  {
   "cell_type": "markdown",
   "metadata": {},
   "source": [
    "We can control the specific tick values by using matplotlib's locator object, and the formatting can be controlled with matplotlib formatters:"
   ]
  },
  {
   "cell_type": "code",
   "execution_count": null,
   "metadata": {
    "scrolled": true
   },
   "outputs": [],
   "source": [
    "import matplotlib.ticker as mticker\n",
    "from cartopy.mpl.gridliner import LATITUDE_FORMATTER\n",
    "\n",
    "ax = plt.axes(projection=ccrs.PlateCarree())\n",
    "ax.coastlines()\n",
    "gl = ax.gridlines(draw_labels=True)\n",
    "\n",
    "gl.xlocator = mticker.FixedLocator([-180, -45, 0, 45, 180])\n",
    "gl.yformatter = LATITUDE_FORMATTER"
   ]
  },
  {
   "cell_type": "code",
   "execution_count": null,
   "metadata": {
    "scrolled": true
   },
   "outputs": [],
   "source": [
    "fig = plt.figure(figsize=(9, 6))\n",
    "ax = fig.add_subplot(111, projection=ccrs.PlateCarree())\n",
    "ax.set_global()\n",
    "\n",
    "lons = -75, 77.2, 151.2, -75\n",
    "lats = 43, 28.6, -33.9, 43\n",
    "\n",
    "\n",
    "ax.plot(lons, lats,\n",
    "        color='green', linewidth=2, marker='o', ms=10,\n",
    "        transform=ccrs.Geodetic())\n",
    "\n",
    "# feature = cartopy.feature.LAND\n",
    "feature = cartopy.feature.NaturalEarthFeature(name='land', category='physical',\n",
    "                                              scale='110m',\n",
    "                                              edgecolor='red', facecolor='black')\n",
    "ax.add_feature(feature)\n",
    "_ = ax.add_feature(cartopy.feature.LAKES, facecolor='b')\n",
    "states = cartopy.feature.NaturalEarthFeature(category='cultural', scale='50m', facecolor='none',\n",
    "                                             name='admin_1_states_provinces_lines')\n",
    "_ = ax.add_feature(states, edgecolor='gray')"
   ]
  },
  {
   "cell_type": "markdown",
   "metadata": {},
   "source": [
    "# A worked example with GEBCO 2019 bathymetry"
   ]
  },
  {
   "cell_type": "markdown",
   "metadata": {},
   "source": [
    "Loading some extra modules for data input and manipulation and updating default parameters to increase font sizes"
   ]
  },
  {
   "cell_type": "code",
   "execution_count": null,
   "metadata": {},
   "outputs": [],
   "source": [
    "import xarray as xr\n",
    "import numpy as np\n",
    "import pandas as pd\n",
    "from cartopy.mpl.gridliner import LONGITUDE_FORMATTER\n",
    "from cartopy.io import shapereader\n",
    "\n",
    "plt.rcParams.update({'font.size': 20})\n",
    "SMALL_SIZE = 22\n",
    "MEDIUM_SIZE = 22\n",
    "LARGE_SIZE = 26\n",
    "plt.rc('font', size=SMALL_SIZE)\n",
    "plt.rc('xtick', labelsize=SMALL_SIZE)\n",
    "plt.rc('ytick', labelsize=SMALL_SIZE)\n",
    "plt.rc('axes', titlesize=SMALL_SIZE)\n",
    "plt.rc('legend', fontsize=SMALL_SIZE)"
   ]
  },
  {
   "cell_type": "markdown",
   "metadata": {},
   "source": [
    "A cell to find the path to the bathymetry data on your system"
   ]
  },
  {
   "cell_type": "code",
   "execution_count": null,
   "metadata": {},
   "outputs": [],
   "source": [
    "from pathlib import Path # A module for dealing with paths that is operating system agnostic\n",
    "notebook_dir = Path.cwd() # Get the current working directory\n",
    "base_dir = notebook_dir.parent.absolute() # Get the parent directory (folder that contains out working directory)\n",
    "data_dir = base_dir / 'data'# Get diretory where the data is stored"
   ]
  },
  {
   "cell_type": "markdown",
   "metadata": {},
   "source": [
    "### Note on bathymetry data\n",
    "To save space and time I have subset the bathymetry plotted in this example. If you wish to map a different area you will need to download the GEBCO topography data found [here](https://www.gebco.net/data_and_products/gridded_bathymetry_data) then uncomment and run the code block below for whatever are you desire. I suggest doing this once only as it takes some time! After running this your bathymetry selection will replace the example bathy in the file `data/bathy.nc`"
   ]
  },
  {
   "cell_type": "code",
   "execution_count": null,
   "metadata": {},
   "outputs": [],
   "source": [
    "#from netCDF4 import Dataset\n",
    "## A function to find the nearest item to a given point. Very handy with coordinates\n",
    "#def argnearest(items,pivot):\n",
    "#    near_item=min(items, key=lambda x: abs(x - pivot))\n",
    "#    for i in range(len(items)): \n",
    "#        if items[i]==near_item:\n",
    "#            return i\n",
    "## Enter the coordinates of your desired box here [lon,lat] -180<lon<180\n",
    "#SW_vertex = [-42,-60]\n",
    "#NE_vertex = [-23,-50]\n",
    " \n",
    "#gebco = Dataset(\"/path/to/your/GEBCO/folder/GEBCO_2014_2D.nc\", \"r\", format=\"NETCDF4\")\n",
    "#all_lat = gebco['lat'][:]\n",
    "#all_lon = gebco['lon'][:]\n",
    "\n",
    "#SW_indices = [argnearest(all_lon,SW_vertex[0]),argnearest(all_lat,SW_vertex[1])]\n",
    "#NE_indices = [argnearest(all_lon,NE_vertex[0]),argnearest(all_lat,NE_vertex[1])]\n",
    "\n",
    "#bathy_lon = all_lon[SW_indices[0]:NE_indices[0]+1]\n",
    "#bathy_lat = all_lat[SW_indices[1]:NE_indices[1]+1]\n",
    "\n",
    "#bath_lat_selec = gebco['elevation'][np.logical_and(all_lat>=bathy_lat[0],all_lat<=bathy_lat[-1])][:]\n",
    "#bathy_h = bath_lat_selec[:,np.logical_and(all_lon>=bathy_lon[0],all_lon<=bathy_lon[-1])]"
   ]
  },
  {
   "cell_type": "code",
   "execution_count": null,
   "metadata": {},
   "outputs": [],
   "source": [
    "## To save our bathymetry data\n",
    "#xlon = xr.IndexVariable(dims=\"longitude\", data=bathy_lon, attrs={\"units\": \"degrees_east\"})\n",
    "#xlat = xr.IndexVariable(dims=\"latitude\", data=bathy_lat, attrs={\"units\": \"degrees_north\"})\n",
    "\n",
    "#bathy_arr = xr.DataArray(\n",
    "#    bathy_h,\n",
    "#    name=\"bathymetry\",\n",
    "#    attrs={\"units\": \"metres\"},\n",
    "#    dims=(\"latitude\", \"longitude\"),\n",
    "#    coords={\"longitude\": xlon, \"latitude\": xlat},\n",
    "#)\n",
    "#bathy_arr.to_netcdf(data_dir/'bathy.nc')"
   ]
  },
  {
   "cell_type": "markdown",
   "metadata": {},
   "source": [
    "Load the stored bathymetry data"
   ]
  },
  {
   "cell_type": "code",
   "execution_count": null,
   "metadata": {},
   "outputs": [],
   "source": [
    "bathy_ds = xr.open_dataset(data_dir/'bathy.nc')\n",
    "bathy_lon, bathy_lat, bathy_h = bathy_ds.bathymetry.longitude, bathy_ds.bathymetry.latitude, bathy_ds.bathymetry.values"
   ]
  },
  {
   "cell_type": "markdown",
   "metadata": {},
   "source": [
    "We're just interested in bathy here, so set any height values greater than 0 to to 0 and set contour levels to plot later"
   ]
  },
  {
   "cell_type": "code",
   "execution_count": null,
   "metadata": {},
   "outputs": [],
   "source": [
    "bathy_h[bathy_h>0] = 0\n",
    "bathy_conts = np.arange(-9000,500,500)"
   ]
  },
  {
   "cell_type": "markdown",
   "metadata": {},
   "source": [
    "Here we load some scatter data from a two column csv for plotting later"
   ]
  },
  {
   "cell_type": "code",
   "execution_count": null,
   "metadata": {},
   "outputs": [],
   "source": [
    "# Load some scatter data of smaple locations near South Georgia\n",
    "data = pd.read_csv('../data/scatter_coords.csv')\n",
    "lons = data.Longitude.values\n",
    "lats = data.Latitude.values\n",
    "\n",
    "# Subset of sampling locations\n",
    "sample_lon = lons[[0,2,7]]\n",
    "sample_lat = lats[[0,2,7]]\n"
   ]
  },
  {
   "cell_type": "markdown",
   "metadata": {},
   "source": [
    "Now to make the map itself. First we define our coordinate system, create figure and axes instances and set the plotting extent in degrees [West, East, South, North]"
   ]
  },
  {
   "cell_type": "code",
   "execution_count": null,
   "metadata": {},
   "outputs": [],
   "source": [
    "coord=ccrs.PlateCarree()\n",
    "fig = plt.figure(figsize=(20,10))\n",
    "ax = fig.add_subplot(111, projection=coord)\n",
    "ax.set_extent([-42, -23, -60, -50], crs=coord)"
   ]
  },
  {
   "cell_type": "markdown",
   "metadata": {},
   "source": [
    "Now we contour the bathymetry data"
   ]
  },
  {
   "cell_type": "code",
   "execution_count": null,
   "metadata": {},
   "outputs": [],
   "source": [
    "fig = plt.figure(figsize=(20,10))\n",
    "ax = fig.add_subplot(111, projection=coord)\n",
    "ax.set_extent([-42, -23, -60, -50], crs=coord)\n",
    "bathy=ax.contourf(bathy_lon,bathy_lat,bathy_h,bathy_conts,transform=coord,cmap='Blues_r')"
   ]
  },
  {
   "cell_type": "markdown",
   "metadata": {},
   "source": [
    "A good start. To make it more map like we add gridlines, formatted labels and a colorbar"
   ]
  },
  {
   "cell_type": "code",
   "execution_count": null,
   "metadata": {},
   "outputs": [],
   "source": [
    "fig = plt.figure(figsize=(20,10))\n",
    "ax = fig.add_subplot(111, projection=coord)\n",
    "ax.set_extent([-42, -23, -60, -50], crs=coord)\n",
    "bathy=ax.contourf(bathy_lon,bathy_lat,bathy_h,bathy_conts,transform=coord,cmap='Blues_r')\n",
    "\n",
    "gl = ax.gridlines(crs=ccrs.PlateCarree(), draw_labels=True,\n",
    "                  linewidth=1, color='k', alpha=0.5, linestyle='--')\n",
    "gl.xlabels_top = False\n",
    "gl.ylabels_right = False\n",
    "gl.xformatter = LONGITUDE_FORMATTER\n",
    "gl.yformatter = LATITUDE_FORMATTER\n",
    "gl.ylines = True\n",
    "gl.xlines = True\n",
    "fig.colorbar(bathy,ax=ax,orientation='horizontal',label='Bathymetry (m)',shrink=0.7,pad=0.08,aspect=40);"
   ]
  },
  {
   "cell_type": "markdown",
   "metadata": {},
   "source": [
    "Now to add a few more features. First coastlines from cartopy's natural features toolbox. Then scatters of the samples we imported earlier"
   ]
  },
  {
   "cell_type": "code",
   "execution_count": null,
   "metadata": {},
   "outputs": [],
   "source": [
    "fig = plt.figure(figsize=(20,10))\n",
    "ax = fig.add_subplot(111, projection=coord)\n",
    "ax.set_extent([-42, -23, -60, -50], crs=coord)\n",
    "bathy=ax.contourf(bathy_lon,bathy_lat,bathy_h,bathy_conts,transform=coord,cmap='Blues_r')\n",
    "\n",
    "gl = ax.gridlines(crs=ccrs.PlateCarree(), draw_labels=True,\n",
    "                  linewidth=1, color='k', alpha=0.5, linestyle='--')\n",
    "gl.xlabels_top = False\n",
    "gl.ylabels_right = False\n",
    "gl.xformatter = LONGITUDE_FORMATTER\n",
    "gl.yformatter = LATITUDE_FORMATTER\n",
    "gl.ylines = True\n",
    "gl.xlines = True\n",
    "fig.colorbar(bathy,ax=ax,orientation='horizontal',label='Bathymetry (m)',shrink=0.7,pad=0.08,aspect=40)\n",
    "\n",
    "\n",
    "feature = cartopy.feature.NaturalEarthFeature(name='coastline',\n",
    "                                              category='physical',\n",
    "                                              scale='50m',\n",
    "                                              edgecolor='0.5',\n",
    "                                              facecolor='0.8')\n",
    "ax.add_feature(feature)\n",
    "ax.scatter(lons,lats,zorder=5,color='red',label='Samples collected')\n",
    "ax.scatter(sample_lon,sample_lat,zorder=10,color='k',marker='D',s=50,label='Samples sequenced');"
   ]
  },
  {
   "cell_type": "markdown",
   "metadata": {},
   "source": [
    "To finish off the map we add a legend for the scatter plot, an inset map showing the area at a larger scale and some text identifying the islands"
   ]
  },
  {
   "cell_type": "code",
   "execution_count": null,
   "metadata": {},
   "outputs": [],
   "source": [
    "# Initiate the figure and axes, specifying the projection.\n",
    "fig = plt.figure(figsize=(20,10))\n",
    "ax = fig.add_subplot(111, projection=coord)\n",
    "\n",
    "# Set the extent of the map [W,E,S,N]\n",
    "ax.set_extent([-42, -23, -60, -50], crs=coord)\n",
    "\n",
    "# Plot the bathymetry here, could change the contour levels by making a new bathy_conts\n",
    "# or try a different colormap\n",
    "bathy=ax.contourf(bathy_lon,bathy_lat,bathy_h,bathy_conts,transform=coord,cmap='Blues_r')\n",
    "\n",
    "# Set the color and style of the gridlines\n",
    "gl = ax.gridlines(crs=ccrs.PlateCarree(), draw_labels=True,\n",
    "                  linewidth=1, color='k', alpha=0.5, linestyle='--')\n",
    "\n",
    "# Format those gridlines, turn off labels on the top and right side\n",
    "gl.xlabels_top = False\n",
    "gl.ylabels_right = False\n",
    "gl.xformatter = LONGITUDE_FORMATTER\n",
    "gl.yformatter = LATITUDE_FORMATTER\n",
    "gl.ylines = True\n",
    "gl.xlines = True\n",
    "\n",
    "# Add a colorbar for the bathymetry data\n",
    "fig.colorbar(bathy,ax=ax,orientation='horizontal',label='Bathymetry (m)',shrink=0.7,pad=0.08,aspect=40)\n",
    "\n",
    "# Add the coastlines\n",
    "ax.add_feature(feature)\n",
    "\n",
    "# Add the scatter data, we could change the symbols\n",
    "ax.scatter(lons,lats,zorder=5,color='red',label='Samples collected')\n",
    "ax.scatter(sample_lon,sample_lat,zorder=10,color='k',marker='D',s=50,label='Samples sequenced')\n",
    "\n",
    "# Add the legend, try changing its position\n",
    "fig .legend( bbox_to_anchor=(0.12,0.2),loc='lower left')\n",
    "\n",
    "# Here we add the inset map sub axes in the top right, note the different projection\n",
    "tr2=ccrs.Stereographic(central_latitude=-55,central_longitude=-35)\n",
    "sub_ax = plt.axes([0.63, 0.65, 0.2, 0.2], projection=ccrs.Stereographic(central_latitude=-55,central_longitude=-35))\n",
    "\n",
    "# Try changing the extent of our inset map here\n",
    "sub_ax.set_extent([-70, -15, -75, 10])\n",
    "\n",
    "# Here we make a line that plots the vertices of our main plot to put on the inset map\n",
    "x_co = [-42,-42,-23,-23,-42]\n",
    "y_co = [-60,-50,-50,-60,-60]\n",
    "sub_ax.add_feature(feature)\n",
    "sub_ax.plot(x_co,y_co,transform=coord,zorder=10,color='red')\n",
    "\n",
    "# Finally we add a couple of text labels for the islands\n",
    "ax.text(-38.5,-54.9,'South\\nGeorgia',fontsize=14)\n",
    "ax.text(-26.8,-58.2,'South\\nSandwich\\nIslands',fontsize=14);"
   ]
  }
 ],
 "metadata": {
  "anaconda-cloud": {},
  "kernelspec": {
   "display_name": "Python 3",
   "language": "python",
   "name": "python3"
  },
  "language_info": {
   "codemirror_mode": {
    "name": "ipython",
    "version": 3
   },
   "file_extension": ".py",
   "mimetype": "text/x-python",
   "name": "python",
   "nbconvert_exporter": "python",
   "pygments_lexer": "ipython3",
   "version": "3.7.3"
  }
 },
 "nbformat": 4,
 "nbformat_minor": 1
}
