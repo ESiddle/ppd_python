{
 "cells": [
  {
   "cell_type": "markdown",
   "metadata": {},
   "source": [
    "# Things that are not Python, but will help you with Python"
   ]
  },
  {
   "cell_type": "markdown",
   "metadata": {},
   "source": [
    "### 1. Use version control e.g. [git](https://git-scm.com/)\n",
    "Use a version control systemto keep track of your own work and collaborate with others. There are [many](https://docs.gitlab.com/ee/gitlab-basics/start-using-git.html) [tutorials](https://try.github.io/)\n",
    "\n",
    "The advantages of using version control are manifold:\n",
    "- Your have one copy of the files and can step back to any point it their history. No more data_process-ver2-final-improved-andy_edit-FINAL.py or processing-susan.py, processsing-keith.py...\n",
    "- Nothing commited to git is ever lost or overwritten and you can back it up/host it for free in places like github and bitbucket\n",
    "- git frees you to experiment. You can make changes to dozens of files and undo/redo them all with a single command. No need to switch around files frantically hitting ctrl-z until things run again\n",
    "- git allows you to create branches, working on promising aspects of a project in isolation, without messing up the core functionality of the codebase\n",
    "\n",
    "**Let's take a moment to visualise how git works with the whiteboard**\n",
    "\n",
    "- git allows you to collaborate with others without ever risking overwirting someone else's work\n",
    "- git is decentralised and offline. There is no central controlling server, you can collaborate over the internet, a local network or even by passing around data on USB memory sticks\n",
    "- git works with all files. You can version control your diary, a text based calendar, your LaTeX thesis chapter...\n",
    "- git, like Python is open source. It is free and always will be.\n",
    "\n",
    "I wrote this course using git. I have a branch for improvements to make next year, incorporating feedbcak from the intro to Python and Figures in Python sessions\n",
    "\n",
    "### 2. Try a rich IDE like [Pycharm](https://www.jetbrains.com/pycharm/) \n",
    "The coimmunity edition is free, open source and incredibly powerful. The developer version is [free for academics](https://www.jetbrains.com/student/) and comes with even more features to make your code writing more efficient\n",
    "### 3. Create backups (and regularly update them)\n",
    "There are two types of people in the world. Those who make regular backups and those who have not suffered from loss of data.\n",
    "### 4. Make the most of Anaconda'a package management\n",
    "As discussed previously, while it may seem a chore to activate and manage environments before getting started with your coding, this allows for great flexibility and safe experimentation with your Python installation.\n",
    "\n",
    "### 5. Accept Python Into Your Life (optional)\n",
    "The more you use Python, the more comfortable you will become with it. You can:\n",
    "\n",
    "- listen to a [great Python podcast](https://talkpython.fm/home)\n",
    "- Get inspired by [awesome things that are built with Python](https://github.com/mahmoud/awesome-python-applications/blob/master/README.md)\n",
    "- Share you code on [Github](https://github.com/), and read other people's code\n",
    "- [Contribute to an open source project](https://opensource.guide/how-to-contribute/). Whether it's writing tests, adding cool features or fixing typos. Everyone can help open source \n",
    "- Join the UEA Scientific Python group! (email me c.rollo@uea.ac.uk)\n"
   ]
  }
 ],
 "metadata": {
  "kernelspec": {
   "display_name": "Python 3",
   "language": "python",
   "name": "python3"
  },
  "language_info": {
   "codemirror_mode": {
    "name": "ipython",
    "version": 3
   },
   "file_extension": ".py",
   "mimetype": "text/x-python",
   "name": "python",
   "nbconvert_exporter": "python",
   "pygments_lexer": "ipython3",
   "version": "3.7.3"
  }
 },
 "nbformat": 4,
 "nbformat_minor": 2
}
