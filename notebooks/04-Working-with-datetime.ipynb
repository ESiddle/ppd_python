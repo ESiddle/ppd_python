{
 "cells": [
  {
   "cell_type": "markdown",
   "metadata": {},
   "source": [
    "# Working with dates and times\n",
    "\n",
    "## The datetime library"
   ]
  },
  {
   "cell_type": "markdown",
   "metadata": {},
   "source": [
    "A combined date and time can be represented by the datetime class.\n"
   ]
  },
  {
   "cell_type": "code",
   "execution_count": 14,
   "metadata": {},
   "outputs": [
    {
     "data": {
      "text/plain": [
       "datetime.datetime(2020, 10, 25, 14, 38, 31, 268338)"
      ]
     },
     "execution_count": 14,
     "metadata": {},
     "output_type": "execute_result"
    }
   ],
   "source": [
    "import datetime\n",
    "\n",
    "# This exact moment:\n",
    "now = datetime.datetime.now()\n",
    "now"
   ]
  },
  {
   "cell_type": "markdown",
   "metadata": {},
   "source": [
    "Each datetime component can be accessed by an attribute:"
   ]
  },
  {
   "cell_type": "code",
   "execution_count": 15,
   "metadata": {},
   "outputs": [
    {
     "name": "stdout",
     "output_type": "stream",
     "text": [
      "year: 2020\n",
      "month: 10\n",
      "day: 25\n",
      "hours: 14\n",
      "minute: 38\n",
      "second: 31\n",
      "microsecond: 268338\n"
     ]
    }
   ],
   "source": [
    "print('year:',  now.year)\n",
    "print('month:', now.month)\n",
    "print('day:',   now.day)\n",
    "print('hours:',  now.hour)\n",
    "print('minute:',now.minute)\n",
    "print('second:',now.second)\n",
    "print('microsecond:',now.microsecond)"
   ]
  },
  {
   "cell_type": "markdown",
   "metadata": {},
   "source": [
    "### Make a datetime object\n",
    "Minimum arguments: (year, month, day)"
   ]
  },
  {
   "cell_type": "code",
   "execution_count": 16,
   "metadata": {},
   "outputs": [
    {
     "data": {
      "text/plain": [
       "datetime.datetime(1066, 10, 14, 0, 0)"
      ]
     },
     "execution_count": 16,
     "metadata": {},
     "output_type": "execute_result"
    }
   ],
   "source": [
    "datetime.datetime(1066,10,14)"
   ]
  },
  {
   "cell_type": "markdown",
   "metadata": {},
   "source": [
    "More exact with (year, month, day, hours, minutes seconds)"
   ]
  },
  {
   "cell_type": "code",
   "execution_count": 17,
   "metadata": {},
   "outputs": [
    {
     "data": {
      "text/plain": [
       "datetime.datetime(1969, 7, 16, 13, 32, 10)"
      ]
     },
     "execution_count": 17,
     "metadata": {},
     "output_type": "execute_result"
    }
   ],
   "source": [
    "datetime.datetime(1969,7,20,20,17,0)"
   ]
  },
  {
   "cell_type": "markdown",
   "metadata": {},
   "source": [
    "## Convert text to datetime\n",
    "\n",
    "Parse datetime with `strptime`\n",
    "\n",
    "    datetime.strptime(date_string, format)\n",
    "\n",
    "See the full list of [directives](https://docs.python.org/2/library/datetime.html#strftime-strptime-behavior) for `format`. "
   ]
  },
  {
   "cell_type": "code",
   "execution_count": 18,
   "metadata": {},
   "outputs": [
    {
     "data": {
      "text/plain": [
       "datetime.datetime(2009, 12, 31, 11, 5)"
      ]
     },
     "execution_count": 18,
     "metadata": {},
     "output_type": "execute_result"
    }
   ],
   "source": [
    " datetime.datetime.strptime('2009/12/31 11:05','%Y/%m/%d %H:%M')"
   ]
  },
  {
   "cell_type": "code",
   "execution_count": 19,
   "metadata": {},
   "outputs": [
    {
     "data": {
      "text/plain": [
       "datetime.datetime(2009, 12, 31, 11, 5, 6, 999900)"
      ]
     },
     "execution_count": 19,
     "metadata": {},
     "output_type": "execute_result"
    }
   ],
   "source": [
    "datetime.datetime.strptime('2009/12/31T11:05:06.9999','%Y/%m/%dT%H:%M:%S.%f')"
   ]
  },
  {
   "cell_type": "markdown",
   "metadata": {},
   "source": [
    "<table border=\"1\" class=\"docutils\">\n",
    "<colgroup>\n",
    "<col width=\"15%\" />\n",
    "<col width=\"43%\" />\n",
    "<col width=\"32%\" />\n",
    "<col width=\"9%\" />\n",
    "</colgroup>\n",
    "<thead valign=\"bottom\">\n",
    "<tr class=\"row-odd\"><th class=\"head\">Directive</th>\n",
    "<th class=\"head\">Meaning</th>\n",
    "<th class=\"head\">Example</th>\n",
    "<th class=\"head\">Notes</th>\n",
    "</tr>\n",
    "</thead>\n",
    "<tbody valign=\"top\">\n",
    "<tr class=\"row-even\"><td><code class=\"docutils literal notranslate\"><span class=\"pre\">%a</span></code></td>\n",
    "<td>Weekday as locale’s\n",
    "abbreviated name.</td>\n",
    "<td><div class=\"first last line-block\">\n",
    "<div class=\"line\">Sun, Mon, …, Sat\n",
    "(en_US);</div>\n",
    "<div class=\"line\">So, Mo, …, Sa\n",
    "(de_DE)</div>\n",
    "</div>\n",
    "</td>\n",
    "<td>(1)</td>\n",
    "</tr>\n",
    "<tr class=\"row-odd\"><td><code class=\"docutils literal notranslate\"><span class=\"pre\">%A</span></code></td>\n",
    "<td>Weekday as locale’s full name.</td>\n",
    "<td><div class=\"first last line-block\">\n",
    "<div class=\"line\">Sunday, Monday, …,\n",
    "Saturday (en_US);</div>\n",
    "<div class=\"line\">Sonntag, Montag, …,\n",
    "Samstag (de_DE)</div>\n",
    "</div>\n",
    "</td>\n",
    "<td>(1)</td>\n",
    "</tr>\n",
    "<tr class=\"row-even\"><td><code class=\"docutils literal notranslate\"><span class=\"pre\">%w</span></code></td>\n",
    "<td>Weekday as a decimal number,\n",
    "where 0 is Sunday and 6 is\n",
    "Saturday.</td>\n",
    "<td>0, 1, …, 6</td>\n",
    "<td>&#160;</td>\n",
    "</tr>\n",
    "<tr class=\"row-odd\"><td><code class=\"docutils literal notranslate\"><span class=\"pre\">%d</span></code></td>\n",
    "<td>Day of the month as a\n",
    "zero-padded decimal number.</td>\n",
    "<td>01, 02, …, 31</td>\n",
    "<td>&#160;</td>\n",
    "</tr>\n",
    "<tr class=\"row-even\"><td><code class=\"docutils literal notranslate\"><span class=\"pre\">%b</span></code></td>\n",
    "<td>Month as locale’s abbreviated\n",
    "name.</td>\n",
    "<td><div class=\"first last line-block\">\n",
    "<div class=\"line\">Jan, Feb, …, Dec\n",
    "(en_US);</div>\n",
    "<div class=\"line\">Jan, Feb, …, Dez\n",
    "(de_DE)</div>\n",
    "</div>\n",
    "</td>\n",
    "<td>(1)</td>\n",
    "</tr>\n",
    "<tr class=\"row-odd\"><td><code class=\"docutils literal notranslate\"><span class=\"pre\">%B</span></code></td>\n",
    "<td>Month as locale’s full name.</td>\n",
    "<td><div class=\"first last line-block\">\n",
    "<div class=\"line\">January, February,\n",
    "…, December (en_US);</div>\n",
    "<div class=\"line\">Januar, Februar, …,\n",
    "Dezember (de_DE)</div>\n",
    "</div>\n",
    "</td>\n",
    "<td>(1)</td>\n",
    "</tr>\n",
    "<tr class=\"row-even\"><td><code class=\"docutils literal notranslate\"><span class=\"pre\">%m</span></code></td>\n",
    "<td>Month as a zero-padded\n",
    "decimal number.</td>\n",
    "<td>01, 02, …, 12</td>\n",
    "<td>&#160;</td>\n",
    "</tr>\n",
    "<tr class=\"row-odd\"><td><code class=\"docutils literal notranslate\"><span class=\"pre\">%y</span></code></td>\n",
    "<td>Year without century as a\n",
    "zero-padded decimal number.</td>\n",
    "<td>00, 01, …, 99</td>\n",
    "<td>&#160;</td>\n",
    "</tr>\n",
    "<tr class=\"row-even\"><td><code class=\"docutils literal notranslate\"><span class=\"pre\">%Y</span></code></td>\n",
    "<td>Year with century as a decimal\n",
    "number.</td>\n",
    "<td>1970, 1988, 2001, 2013</td>\n",
    "<td>&#160;</td>\n",
    "</tr>\n",
    "<tr class=\"row-odd\"><td><code class=\"docutils literal notranslate\"><span class=\"pre\">%H</span></code></td>\n",
    "<td>Hour (24-hour clock) as a\n",
    "zero-padded decimal number.</td>\n",
    "<td>00, 01, …, 23</td>\n",
    "<td>&#160;</td>\n",
    "</tr>\n",
    "<tr class=\"row-even\"><td><code class=\"docutils literal notranslate\"><span class=\"pre\">%I</span></code></td>\n",
    "<td>Hour (12-hour clock) as a\n",
    "zero-padded decimal number.</td>\n",
    "<td>01, 02, …, 12</td>\n",
    "<td>&#160;</td>\n",
    "</tr>\n",
    "<tr class=\"row-odd\"><td><code class=\"docutils literal notranslate\"><span class=\"pre\">%p</span></code></td>\n",
    "<td>Locale’s equivalent of either\n",
    "AM or PM.</td>\n",
    "<td><div class=\"first last line-block\">\n",
    "<div class=\"line\">AM, PM (en_US);</div>\n",
    "<div class=\"line\">am, pm (de_DE)</div>\n",
    "</div>\n",
    "</td>\n",
    "<td>(1),\n",
    "(2)</td>\n",
    "</tr>\n",
    "<tr class=\"row-even\"><td><code class=\"docutils literal notranslate\"><span class=\"pre\">%M</span></code></td>\n",
    "<td>Minute as a zero-padded\n",
    "decimal number.</td>\n",
    "<td>00, 01, …, 59</td>\n",
    "<td>&#160;</td>\n",
    "</tr>\n",
    "<tr class=\"row-odd\"><td><code class=\"docutils literal notranslate\"><span class=\"pre\">%S</span></code></td>\n",
    "<td>Second as a zero-padded\n",
    "decimal number.</td>\n",
    "<td>00, 01, …, 59</td>\n",
    "<td>(3)</td>\n",
    "</tr>\n",
    "<tr class=\"row-even\"><td><code class=\"docutils literal notranslate\"><span class=\"pre\">%f</span></code></td>\n",
    "<td>Microsecond as a decimal\n",
    "number, zero-padded on the\n",
    "left.</td>\n",
    "<td>000000, 000001, …,\n",
    "999999</td>\n",
    "<td>(4)</td>\n",
    "</tr>\n",
    "<tr class=\"row-odd\"><td><code class=\"docutils literal notranslate\"><span class=\"pre\">%z</span></code></td>\n",
    "<td>UTC offset in the form +HHMM\n",
    "or -HHMM (empty string if the\n",
    "the object is naive).</td>\n",
    "<td>(empty), +0000, -0400,\n",
    "+1030</td>\n",
    "<td>(5)</td>\n",
    "</tr>\n",
    "<tr class=\"row-even\"><td><code class=\"docutils literal notranslate\"><span class=\"pre\">%Z</span></code></td>\n",
    "<td>Time zone name (empty string\n",
    "if the object is naive).</td>\n",
    "<td>(empty), UTC, EST, CST</td>\n",
    "<td>&#160;</td>\n",
    "</tr>\n",
    "<tr class=\"row-odd\"><td><code class=\"docutils literal notranslate\"><span class=\"pre\">%j</span></code></td>\n",
    "<td>Day of the year as a\n",
    "zero-padded decimal number.</td>\n",
    "<td>001, 002, …, 366</td>\n",
    "<td>&#160;</td>\n",
    "</tr>\n",
    "<tr class=\"row-even\"><td><code class=\"docutils literal notranslate\"><span class=\"pre\">%U</span></code></td>\n",
    "<td>Week number of the year\n",
    "(Sunday as the first day of\n",
    "the week) as a zero padded\n",
    "decimal number. All days in a\n",
    "new year preceding the first\n",
    "Sunday are considered to be in\n",
    "week 0.</td>\n",
    "<td>00, 01, …, 53</td>\n",
    "<td>(6)</td>\n",
    "</tr>\n",
    "<tr class=\"row-odd\"><td><code class=\"docutils literal notranslate\"><span class=\"pre\">%W</span></code></td>\n",
    "<td>Week number of the year\n",
    "(Monday as the first day of\n",
    "the week) as a decimal number.\n",
    "All days in a new year\n",
    "preceding the first Monday\n",
    "are considered to be in\n",
    "week 0.</td>\n",
    "<td>00, 01, …, 53</td>\n",
    "<td>(6)</td>\n",
    "</tr>\n",
    "<tr class=\"row-even\"><td><code class=\"docutils literal notranslate\"><span class=\"pre\">%c</span></code></td>\n",
    "<td>Locale’s appropriate date and\n",
    "time representation.</td>\n",
    "<td><div class=\"first last line-block\">\n",
    "<div class=\"line\">Tue Aug 16 21:30:00\n",
    "1988 (en_US);</div>\n",
    "<div class=\"line\">Di 16 Aug 21:30:00\n",
    "1988 (de_DE)</div>\n",
    "</div>\n",
    "</td>\n",
    "<td>(1)</td>\n",
    "</tr>\n",
    "<tr class=\"row-odd\"><td><code class=\"docutils literal notranslate\"><span class=\"pre\">%x</span></code></td>\n",
    "<td>Locale’s appropriate date\n",
    "representation.</td>\n",
    "<td><div class=\"first last line-block\">\n",
    "<div class=\"line\">08/16/88 (None);</div>\n",
    "<div class=\"line\">08/16/1988 (en_US);</div>\n",
    "<div class=\"line\">16.08.1988 (de_DE)</div>\n",
    "</div>\n",
    "</td>\n",
    "<td>(1)</td>\n",
    "</tr>\n",
    "<tr class=\"row-even\"><td><code class=\"docutils literal notranslate\"><span class=\"pre\">%X</span></code></td>\n",
    "<td>Locale’s appropriate time\n",
    "representation.</td>\n",
    "<td><div class=\"first last line-block\">\n",
    "<div class=\"line\">21:30:00 (en_US);</div>\n",
    "<div class=\"line\">21:30:00 (de_DE)</div>\n",
    "</div>\n",
    "</td>\n",
    "<td>(1)</td>\n",
    "</tr>\n",
    "<tr class=\"row-odd\"><td><code class=\"docutils literal notranslate\"><span class=\"pre\">%%</span></code></td>\n",
    "<td>A literal <code class=\"docutils literal notranslate\"><span class=\"pre\">'%'</span></code> character.</td>\n",
    "<td>%</td>\n",
    "<td>&#160;</td>\n",
    "</tr>\n",
    "</tbody>\n",
    "</table>"
   ]
  },
  {
   "cell_type": "markdown",
   "metadata": {},
   "source": [
    "## Convert datetime to text\n",
    "\n",
    "print will use a default format to print a datetimte object"
   ]
  },
  {
   "cell_type": "code",
   "execution_count": 20,
   "metadata": {},
   "outputs": [
    {
     "name": "stdout",
     "output_type": "stream",
     "text": [
      "2020-10-25 14:38:31.268338\n"
     ]
    }
   ],
   "source": [
    "print(now)"
   ]
  },
  {
   "cell_type": "markdown",
   "metadata": {},
   "source": [
    "strftime works with the same directives but to print a dattetime object to text. It is essentially the inverse of strptime\n",
    "\n",
    "    datetime.strftime(format)¶"
   ]
  },
  {
   "cell_type": "code",
   "execution_count": 21,
   "metadata": {},
   "outputs": [
    {
     "data": {
      "text/plain": [
       "'2020/10/25___14:38:31'"
      ]
     },
     "execution_count": 21,
     "metadata": {},
     "output_type": "execute_result"
    }
   ],
   "source": [
    "now.strftime('%Y/%m/%d___%H:%M:%S')"
   ]
  },
  {
   "cell_type": "markdown",
   "metadata": {},
   "source": [
    "## Exercises\n",
    "\n",
    "Make a datime object for the May the 4th 2020\n",
    "\n"
   ]
  },
  {
   "cell_type": "code",
   "execution_count": 22,
   "metadata": {},
   "outputs": [],
   "source": [
    "# Your code here"
   ]
  },
  {
   "cell_type": "markdown",
   "metadata": {},
   "source": [
    "Print this datetime in the format '20-05-04'"
   ]
  },
  {
   "cell_type": "code",
   "execution_count": 23,
   "metadata": {},
   "outputs": [],
   "source": [
    "# Your code here"
   ]
  },
  {
   "cell_type": "markdown",
   "metadata": {},
   "source": [
    "Using `datetime.datetime.strptime`, convert the US date format string below to a datetime"
   ]
  },
  {
   "cell_type": "code",
   "execution_count": 24,
   "metadata": {},
   "outputs": [],
   "source": [
    "dt_string = '04-30-2012 14:50'\n",
    "# Your code here"
   ]
  },
  {
   "cell_type": "markdown",
   "metadata": {},
   "source": [
    "Convert the date and time strings in the list below then print them in the following format:\n",
    "\n",
    "`30-11-2009 Mon 12h12 PM`\n",
    "\n",
    "hints:\n",
    "- a loop will be necessary\n",
    "- Work in two steps: convert records to datetime, then convert from datetime to strings in desired format"
   ]
  },
  {
   "cell_type": "code",
   "execution_count": 25,
   "metadata": {},
   "outputs": [],
   "source": [
    "txtrecords = ['2009-11-30 12:12','2010-01-23 15:15','2010-07-01 17:59', '2011-11-11 11:11']"
   ]
  },
  {
   "cell_type": "markdown",
   "metadata": {},
   "source": [
    "## Matplotlib understands datetime objects"
   ]
  },
  {
   "cell_type": "code",
   "execution_count": 37,
   "metadata": {},
   "outputs": [
    {
     "name": "stdout",
     "output_type": "stream",
     "text": [
      "First element of random_dates:  2019-05-13 00:00:00\n",
      "First element of random_y_values:  0.8007044742264265\n"
     ]
    },
    {
     "data": {
      "image/png": "[encoded data removed]",
      "text/plain": [
       "<Figure size 864x144 with 1 Axes>"
      ]
     },
     "metadata": {
      "needs_background": "light"
     },
     "output_type": "display_data"
    }
   ],
   "source": [
    "import numpy as np\n",
    "%matplotlib inline\n",
    "import matplotlib.pyplot as plt\n",
    "\n",
    "# method toordinal coverts to day number as integer\n",
    "start_dt = datetime.datetime(2018,1,1).toordinal()\n",
    "end_dt = datetime.datetime.today().toordinal()\n",
    "\n",
    "#generate random ordinals\n",
    "random_ordinals = np.random.randint(start_dt, end_dt,size=20)\n",
    "\n",
    "# convert from ordinal to datetime\n",
    "random_dates = [datetime.datetime.fromordinal(date) for date in random_ordinals]\n",
    "random_y_values = np.random.random(size=20)\n",
    "print('First element of random_dates: ', random_dates[0]) \n",
    "print('First element of random_y_values: ', random_y_values[0]) \n",
    "\n",
    "plt.figure(figsize=(12,2))\n",
    "plt.scatter(random_dates, random_y_values)\n",
    "plt.xlabel('random dates');\n",
    "plt.ylabel('random values');"
   ]
  },
  {
   "cell_type": "markdown",
   "metadata": {},
   "source": [
    "---\n",
    "## Bonus: cftime\n",
    "Climate models often work with years of 360 days in which all months have an equal length of 30 days. This calendar is not supported by the standard Python `datetime` library. Instead, you can use [`cftime`](https://unidata.github.io/cftime/index.html), which can decode time units of netCDF files that conform to Climate Forcasting (CF) conventions. "
   ]
  },
  {
   "cell_type": "code",
   "execution_count": 1,
   "metadata": {},
   "outputs": [],
   "source": [
    "import cftime"
   ]
  },
  {
   "cell_type": "markdown",
   "metadata": {},
   "source": [
    "The following calendars are supported in cftime:\n",
    "- standard (a mixed Julian/Gregorian calendar)\n",
    "- gregorian \n",
    "- proleptic_gregorian \n",
    "- noleap \n",
    "- 365_day \n",
    "- 360_day \n",
    "- julian \n",
    "- all_leap \n",
    "- 366_day"
   ]
  },
  {
   "cell_type": "markdown",
   "metadata": {},
   "source": [
    "The behaviour of the cftime types mimics that of the python datetime library:"
   ]
  },
  {
   "cell_type": "code",
   "execution_count": 72,
   "metadata": {},
   "outputs": [
    {
     "data": {
      "text/plain": [
       "cftime.DatetimeNoLeap(1969, 7, 20, 20, 17, 0, 0)"
      ]
     },
     "execution_count": 72,
     "metadata": {},
     "output_type": "execute_result"
    }
   ],
   "source": [
    "cftime.DatetimeNoLeap(1969,7,20,20,17,0)"
   ]
  },
  {
   "cell_type": "code",
   "execution_count": 66,
   "metadata": {},
   "outputs": [
    {
     "data": {
      "text/plain": [
       "'30 February 2020'"
      ]
     },
     "execution_count": 66,
     "metadata": {},
     "output_type": "execute_result"
    }
   ],
   "source": [
    "d = cftime.Datetime360Day(2020,2,30)  # 30 february is valid in the 360-day calendar\n",
    "d.strftime('%d %B %Y') "
   ]
  },
  {
   "cell_type": "code",
   "execution_count": 65,
   "metadata": {},
   "outputs": [
    {
     "ename": "ValueError",
     "evalue": "invalid day number provided in cftime.DatetimeJulian(2020, 2, 30, 0, 0, 0, 0)",
     "output_type": "error",
     "traceback": [
      "\u001b[0;31m---------------------------------------------------------------------------\u001b[0m",
      "\u001b[0;31mValueError\u001b[0m                                Traceback (most recent call last)",
      "\u001b[0;32m<ipython-input-65-80badc51e849>\u001b[0m in \u001b[0;36m<module>\u001b[0;34m\u001b[0m\n\u001b[0;32m----> 1\u001b[0;31m \u001b[0mcftime\u001b[0m\u001b[0;34m.\u001b[0m\u001b[0mDatetimeJulian\u001b[0m\u001b[0;34m(\u001b[0m\u001b[0;36m2020\u001b[0m\u001b[0;34m,\u001b[0m\u001b[0;36m2\u001b[0m\u001b[0;34m,\u001b[0m\u001b[0;36m30\u001b[0m\u001b[0;34m)\u001b[0m  \u001b[0;31m# 30 february does not exist in the Julian calendar\u001b[0m\u001b[0;34m\u001b[0m\u001b[0;34m\u001b[0m\u001b[0m\n\u001b[0m",
      "\u001b[0;32mcftime/_cftime.pyx\u001b[0m in \u001b[0;36mcftime._cftime.DatetimeJulian.__init__\u001b[0;34m()\u001b[0m\n",
      "\u001b[0;32mcftime/_cftime.pyx\u001b[0m in \u001b[0;36mcftime._cftime.assert_valid_date\u001b[0;34m()\u001b[0m\n",
      "\u001b[0;31mValueError\u001b[0m: invalid day number provided in cftime.DatetimeJulian(2020, 2, 30, 0, 0, 0, 0)"
     ]
    }
   ],
   "source": [
    "cftime.DatetimeJulian(2020,2,30)  # 30 february does not exist in the Julian calendar"
   ]
  },
  {
   "cell_type": "markdown",
   "metadata": {},
   "source": [
    "Contrary to Python's standard datetime object, matplotlib doesn't automatically understand cftime datetime-types! To make matplotlib work with cftime formats, we need an additional library called `nc-time-axis` (conda installation: `conda install -c conda-forge nc-time-axis`):"
   ]
  },
  {
   "cell_type": "code",
   "execution_count": 84,
   "metadata": {},
   "outputs": [],
   "source": [
    "import nc_time_axis"
   ]
  },
  {
   "cell_type": "code",
   "execution_count": 108,
   "metadata": {
    "scrolled": true
   },
   "outputs": [
    {
     "data": {
      "image/png": "[encoded data removed]",
      "text/plain": [
       "<Figure size 864x144 with 1 Axes>"
      ]
     },
     "metadata": {
      "needs_background": "light"
     },
     "output_type": "display_data"
    }
   ],
   "source": [
    "# generate dates and values\n",
    "years = range(2012,2020)\n",
    "gcm_birthdays = [cftime.Datetime360Day(year, 8,5, calendar='360') for year in years]\n",
    "random_y1_values = np.random.random(len(gcm_birthdays))\n",
    "\n",
    "# make plot\n",
    "plt.figure(figsize=(12,2))\n",
    "plt.plot(gcm_birthdays, random_y1_values, 'rd');  # 'rd': red color, diamond shape"
   ]
  },
  {
   "cell_type": "code",
   "execution_count": null,
   "metadata": {},
   "outputs": [],
   "source": []
  }
 ],
 "metadata": {
  "kernelspec": {
   "display_name": "Python 3",
   "language": "python",
   "name": "python3"
  },
  "language_info": {
   "codemirror_mode": {
    "name": "ipython",
    "version": 3
   },
   "file_extension": ".py",
   "mimetype": "text/x-python",
   "name": "python",
   "nbconvert_exporter": "python",
   "pygments_lexer": "ipython3",
   "version": "3.8.5"
  }
 },
 "nbformat": 4,
 "nbformat_minor": 2
}
