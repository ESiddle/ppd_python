{
 "cells": [
  {
   "cell_type": "markdown",
   "metadata": {},
   "source": [
    "# Things that are not Python, but will help you with Python"
   ]
  },
  {
   "cell_type": "markdown",
   "metadata": {},
   "source": [
    "### 1. Use version control like git\n",
    "### 2. Try a rich IDE like [Pycharm](https://www.jetbrains.com/pycharm/) \n",
    "The coimmunity edition is free, open source and incredibly powerful. The developer version is [free for academics](https://www.jetbrains.com/student/) and comes with even more features to make your code writing more efficient\n",
    "### 3. Make the most of Anaconda'a package management\n",
    "While it may seem a chore to activate and manage environments before gettgin started with Python, this allows for great flexibility and safe experimentation with your Python installation"
   ]
  },
  {
   "cell_type": "code",
   "execution_count": null,
   "metadata": {},
   "outputs": [],
   "source": []
  }
 ],
 "metadata": {
  "kernelspec": {
   "display_name": "Python 3",
   "language": "python",
   "name": "python3"
  },
  "language_info": {
   "codemirror_mode": {
    "name": "ipython",
    "version": 3
   },
   "file_extension": ".py",
   "mimetype": "text/x-python",
   "name": "python",
   "nbconvert_exporter": "python",
   "pygments_lexer": "ipython3",
   "version": "3.7.3"
  }
 },
 "nbformat": 4,
 "nbformat_minor": 2
}
