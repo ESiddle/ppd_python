{
 "cells": [
  {
   "cell_type": "markdown",
   "metadata": {},
   "source": [
    "# Course Complete\n",
    "### You made it! Congratulations"
   ]
  },
  {
   "cell_type": "markdown",
   "metadata": {},
   "source": [
    "Now is your time to look back over the notebooks and ask us about anything you're unsure of. If you haven't tried Pycharm yet I encourage you to give it a go. If you have data in .csv or netCDF we can help you get it into Python.\n",
    "\n",
    "If you want to go over anything from this course after you've had some time to digest it, we are running a **coding drop in next Wednesday 18th 9-12 in the Constable Terrace PGR social space**"
   ]
  },
  {
   "cell_type": "markdown",
   "metadata": {},
   "source": [
    "---------\n",
    "### Further reading and useful resources"
   ]
  },
  {
   "cell_type": "markdown",
   "metadata": {},
   "source": [
    "Much of this short course is condensed/stolen from the UEA Cefas 3 day \"Python for data science\" course. The materials are available as jupyter notebooks [here](https://github.com/ueapy/pythoncourse2019-materials/tree/master/notebooks). You can find the Binder hosted cloud based notebooks [here](https://gke.mybinder.org/v2/gh/ueapy/pythoncourse2019-materials/master)."
   ]
  },
  {
   "cell_type": "markdown",
   "metadata": {},
   "source": [
    "If you enjoyed the \"friends of Python\" notebook and would like to code more effectivly, Anthoy De-Gol gave a great talk to the Scientific Python group last month. You can find my notes on the talk here\n",
    "\n",
    "[Become a 10x programmer](https://ueapy.github.io/become-a-10x-programmer-lessons-from-academia-and-industry.html)"
   ]
  },
  {
   "cell_type": "markdown",
   "metadata": {},
   "source": [
    "-------------\n",
    "### Course evaluation (2 mins)"
   ]
  },
  {
   "cell_type": "markdown",
   "metadata": {},
   "source": [
    "This is the first time I have run this advanced Python session. Sorry it's rather rough around the edges. Please feedback anything you think may help the course next time. You can talk to me, email me, put an [anonymous cut and pasted note](https://tvtropes.org/pmwiki/pmwiki.php/Main/CutAndPasteNote) under my door in SCI 3.16, or take a moment to complete this course survey:\n",
    "\n",
    "https://forms.gle/VC2FiU2yoN7PZqbo8"
   ]
  },
  {
   "cell_type": "markdown",
   "metadata": {},
   "source": [
    "To join the UEA Scientific Python mailing list and recieve info on all things Python at UEA, drop me an email c.rollo@uea.ac.uk\n",
    "\n",
    "We meet every month or so for demonstrations/tutorials, drop in coding sessions and informal pub chats"
   ]
  },
  {
   "cell_type": "markdown",
   "metadata": {},
   "source": [
    "### One final plug (and xkcd comic)\n",
    "\n",
    "#### If you like Python, you'll love Linux\n"
   ]
  },
  {
   "cell_type": "code",
   "execution_count": 1,
   "metadata": {},
   "outputs": [
    {
     "data": {
      "text/html": [
       "<img src=\"https://imgs.xkcd.com/comics/linux_user_at_best_buy.png\"/>"
      ],
      "text/plain": [
       "<IPython.core.display.Image object>"
      ]
     },
     "execution_count": 1,
     "metadata": {},
     "output_type": "execute_result"
    }
   ],
   "source": [
    "from IPython.core.display import Image \n",
    "Image(url='https://imgs.xkcd.com/comics/linux_user_at_best_buy.png')"
   ]
  },
  {
   "cell_type": "markdown",
   "metadata": {},
   "source": [
    "I recommend installing Ubuntu or Linux Mint. This can easily be done as a dual boot (Linux + Windows) if you are relucatant to make the change immediatly, or need some Windows only software. You can try out any Linux distro easily and risk free by isntalling it on a [virtual machine](https://techsviewer.com/ubuntu-virtual-machine/).\n",
    "\n",
    "Due to their refusal to grant `sudo` (administrator rights) to users, I do not recommend UEA Ubuntu. If you wish to make the most of all that Linux and the free software community can offer, do not let ITCS anywhere near your machine."
   ]
  }
 ],
 "metadata": {
  "kernelspec": {
   "display_name": "Python 3",
   "language": "python",
   "name": "python3"
  },
  "language_info": {
   "codemirror_mode": {
    "name": "ipython",
    "version": 3
   },
   "file_extension": ".py",
   "mimetype": "text/x-python",
   "name": "python",
   "nbconvert_exporter": "python",
   "pygments_lexer": "ipython3",
   "version": "3.7.3"
  }
 },
 "nbformat": 4,
 "nbformat_minor": 2
}
