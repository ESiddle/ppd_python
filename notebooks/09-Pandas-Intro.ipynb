{
 "cells": [
  {
   "cell_type": "markdown",
   "metadata": {},
   "source": [
    "# Introduction to pandas"
   ]
  },
  {
   "cell_type": "markdown",
   "metadata": {},
   "source": [
    "* **pandas** is a Python package providing convenient data structures to work with labelled data.\n",
    "\n",
    "* **pandas** is perfectly suited for observational / statistical data sets, having many similarities with Excel spreadsheets."
   ]
  },
  {
   "cell_type": "markdown",
   "metadata": {},
   "source": [
    "* Key features:\n",
    "\n",
    "    - easy handling of **missing data**\n",
    "    - **size mutability**: columns can be inserted and deleted from DataFrame\n",
    "    - automatic and explicit **data alignment**: objects can be explicitly aligned to a set of labels, or the user can simply ignore the labels and let Series, DataFrame, etc. automatically align the data for you in computations\n",
    "    - powerful, flexible **group by** functionality to perform split-apply-combine operations on data sets\n",
    "    - make it **easy to convert** ragged, differently-indexed data in other Python and NumPy data structures into DataFrame objects\n",
    "    - intelligent label-based **slicing**, **fancy indexing**, and **subsetting** of large data sets\n",
    "    - intuitive **merging** and **joining** data sets\n",
    "    - flexible **reshaping** and pivoting of data sets\n",
    "    - **hierarchical** labeling of axes (possible to have multiple labels per tick)\n",
    "    - robust IO tools for loading data from **flat files** (CSV and delimited), Excel files, databases, and saving / loading data from the ultrafast HDF5 format\n",
    "    - **time series**-specific functionality"
   ]
  },
  {
   "cell_type": "markdown",
   "metadata": {},
   "source": [
    "### Primary data structures of pandas\n",
    "* **Series** (1-dimensional)\n",
    "* **DataFrame** (2-dimensional)"
   ]
  },
  {
   "cell_type": "markdown",
   "metadata": {},
   "source": [
    "pandas is built on top of **NumPy** and is intended to integrate well within a scientific computing environment with many other 3rd party libraries."
   ]
  },
  {
   "cell_type": "markdown",
   "metadata": {},
   "source": [
    "## Loading data"
   ]
  },
  {
   "cell_type": "markdown",
   "metadata": {},
   "source": [
    "First, we import pandas module. We use an alias \"pd\" to write code quicker."
   ]
  },
  {
   "cell_type": "code",
   "execution_count": 1,
   "metadata": {},
   "outputs": [],
   "source": [
    "import pandas as pd"
   ]
  },
  {
   "cell_type": "markdown",
   "metadata": {},
   "source": [
    "And `numpy` with `matplotlib` just in case too."
   ]
  },
  {
   "cell_type": "code",
   "execution_count": 2,
   "metadata": {},
   "outputs": [],
   "source": [
    "import matplotlib.pyplot as plt\n",
    "import numpy as np"
   ]
  },
  {
   "cell_type": "code",
   "execution_count": 3,
   "metadata": {},
   "outputs": [],
   "source": [
    "import warnings\n",
    "warnings.filterwarnings('ignore')"
   ]
  },
  {
   "cell_type": "markdown",
   "metadata": {},
   "source": [
    "The following cell finds the path to the data on your system so we can read it in"
   ]
  },
  {
   "cell_type": "code",
   "execution_count": 4,
   "metadata": {},
   "outputs": [],
   "source": [
    "from pathlib import Path # A module for dealing with paths that is operating system agnostic\n",
    "notebook_dir = Path.cwd() # Get the current working directory\n",
    "base_dir = notebook_dir.parent.absolute() # Get the parent directory (folder that contains out working directory)\n",
    "data_dir = base_dir / 'data'# Get diretory where the data is stored\n",
    "fname = data_dir/'ship_ctd_short.csv'"
   ]
  },
  {
   "cell_type": "markdown",
   "metadata": {},
   "source": [
    "Let's read the data using `pandas.read_csv()` function."
   ]
  },
  {
   "cell_type": "code",
   "execution_count": 5,
   "metadata": {},
   "outputs": [],
   "source": [
    "ctd_data = pd.read_csv(fname)"
   ]
  },
  {
   "cell_type": "markdown",
   "metadata": {},
   "source": [
    "## Data structures: `DataFrame` and `Series`"
   ]
  },
  {
   "cell_type": "markdown",
   "metadata": {},
   "source": [
    "Let's interrogate the `DataFrame` object!"
   ]
  },
  {
   "cell_type": "code",
   "execution_count": 6,
   "metadata": {},
   "outputs": [
    {
     "data": {
      "text/plain": [
       "pandas.core.frame.DataFrame"
      ]
     },
     "execution_count": 6,
     "metadata": {},
     "output_type": "execute_result"
    }
   ],
   "source": [
    "type(ctd_data)"
   ]
  },
  {
   "cell_type": "code",
   "execution_count": 7,
   "metadata": {},
   "outputs": [
    {
     "name": "stdout",
     "output_type": "stream",
     "text": [
      "(1180, 5)\n",
      "\n",
      "Depth          float64\n",
      "Temperature    float64\n",
      "Oxygen         float64\n",
      "Irradiance     float64\n",
      "Salinity       float64\n",
      "dtype: object\n"
     ]
    }
   ],
   "source": [
    "# Internal nature of the object\n",
    "print(ctd_data.shape)\n",
    "print()\n",
    "print(ctd_data.dtypes)"
   ]
  },
  {
   "cell_type": "code",
   "execution_count": 13,
   "metadata": {
    "scrolled": true
   },
   "outputs": [
    {
     "data": {
      "text/html": [
       "<div>\n",
       "<style scoped>\n",
       "    .dataframe tbody tr th:only-of-type {\n",
       "        vertical-align: middle;\n",
       "    }\n",
       "\n",
       "    .dataframe tbody tr th {\n",
       "        vertical-align: top;\n",
       "    }\n",
       "\n",
       "    .dataframe thead th {\n",
       "        text-align: right;\n",
       "    }\n",
       "</style>\n",
       "<table border=\"1\" class=\"dataframe\">\n",
       "  <thead>\n",
       "    <tr style=\"text-align: right;\">\n",
       "      <th></th>\n",
       "      <th>Depth</th>\n",
       "      <th>Temperature</th>\n",
       "      <th>Oxygen</th>\n",
       "      <th>Irradiance</th>\n",
       "      <th>Salinity</th>\n",
       "    </tr>\n",
       "  </thead>\n",
       "  <tbody>\n",
       "    <tr>\n",
       "      <th>0</th>\n",
       "      <td>0.5</td>\n",
       "      <td>16.5080</td>\n",
       "      <td>5.83945</td>\n",
       "      <td>60.4</td>\n",
       "      <td>35.7685</td>\n",
       "    </tr>\n",
       "    <tr>\n",
       "      <th>1</th>\n",
       "      <td>1.0</td>\n",
       "      <td>16.5315</td>\n",
       "      <td>5.85881</td>\n",
       "      <td>57.0</td>\n",
       "      <td>35.7679</td>\n",
       "    </tr>\n",
       "    <tr>\n",
       "      <th>2</th>\n",
       "      <td>1.5</td>\n",
       "      <td>16.5183</td>\n",
       "      <td>5.88355</td>\n",
       "      <td>53.0</td>\n",
       "      <td>35.7681</td>\n",
       "    </tr>\n",
       "    <tr>\n",
       "      <th>3</th>\n",
       "      <td>2.0</td>\n",
       "      <td>16.4921</td>\n",
       "      <td>5.87417</td>\n",
       "      <td>51.3</td>\n",
       "      <td>35.7685</td>\n",
       "    </tr>\n",
       "    <tr>\n",
       "      <th>4</th>\n",
       "      <td>2.5</td>\n",
       "      <td>16.4626</td>\n",
       "      <td>5.86818</td>\n",
       "      <td>50.3</td>\n",
       "      <td>35.7688</td>\n",
       "    </tr>\n",
       "    <tr>\n",
       "      <th>5</th>\n",
       "      <td>3.0</td>\n",
       "      <td>16.4265</td>\n",
       "      <td>5.87387</td>\n",
       "      <td>50.0</td>\n",
       "      <td>35.7691</td>\n",
       "    </tr>\n",
       "  </tbody>\n",
       "</table>\n",
       "</div>"
      ],
      "text/plain": [
       "   Depth  Temperature   Oxygen  Irradiance  Salinity\n",
       "0    0.5      16.5080  5.83945        60.4   35.7685\n",
       "1    1.0      16.5315  5.85881        57.0   35.7679\n",
       "2    1.5      16.5183  5.88355        53.0   35.7681\n",
       "3    2.0      16.4921  5.87417        51.3   35.7685\n",
       "4    2.5      16.4626  5.86818        50.3   35.7688\n",
       "5    3.0      16.4265  5.87387        50.0   35.7691"
      ]
     },
     "execution_count": 13,
     "metadata": {},
     "output_type": "execute_result"
    }
   ],
   "source": [
    "# View just the tip of data\n",
    "ctd_data.head(6)"
   ]
  },
  {
   "cell_type": "code",
   "execution_count": 11,
   "metadata": {},
   "outputs": [
    {
     "data": {
      "text/html": [
       "<div>\n",
       "<style scoped>\n",
       "    .dataframe tbody tr th:only-of-type {\n",
       "        vertical-align: middle;\n",
       "    }\n",
       "\n",
       "    .dataframe tbody tr th {\n",
       "        vertical-align: top;\n",
       "    }\n",
       "\n",
       "    .dataframe thead th {\n",
       "        text-align: right;\n",
       "    }\n",
       "</style>\n",
       "<table border=\"1\" class=\"dataframe\">\n",
       "  <thead>\n",
       "    <tr style=\"text-align: right;\">\n",
       "      <th></th>\n",
       "      <th>Depth</th>\n",
       "      <th>Temperature</th>\n",
       "      <th>Oxygen</th>\n",
       "      <th>Irradiance</th>\n",
       "      <th>Salinity</th>\n",
       "    </tr>\n",
       "  </thead>\n",
       "  <tbody>\n",
       "    <tr>\n",
       "      <th>1178</th>\n",
       "      <td>589.5</td>\n",
       "      <td>11.6760</td>\n",
       "      <td>3.99465</td>\n",
       "      <td>1.000000e-12</td>\n",
       "      <td>35.9688</td>\n",
       "    </tr>\n",
       "    <tr>\n",
       "      <th>1179</th>\n",
       "      <td>590.0</td>\n",
       "      <td>11.6765</td>\n",
       "      <td>3.99631</td>\n",
       "      <td>1.000000e-12</td>\n",
       "      <td>35.9686</td>\n",
       "    </tr>\n",
       "  </tbody>\n",
       "</table>\n",
       "</div>"
      ],
      "text/plain": [
       "      Depth  Temperature   Oxygen    Irradiance  Salinity\n",
       "1178  589.5      11.6760  3.99465  1.000000e-12   35.9688\n",
       "1179  590.0      11.6765  3.99631  1.000000e-12   35.9686"
      ]
     },
     "execution_count": 11,
     "metadata": {},
     "output_type": "execute_result"
    }
   ],
   "source": [
    "# View the last rows of data\n",
    "ctd_data.tail(n = 2)  # Note the optional argument (available for head() too)"
   ]
  },
  {
   "cell_type": "markdown",
   "metadata": {},
   "source": [
    "Get descriptors for the **vertical** axis (rows):"
   ]
  },
  {
   "cell_type": "code",
   "execution_count": 14,
   "metadata": {},
   "outputs": [
    {
     "data": {
      "text/plain": [
       "RangeIndex(start=0, stop=1180, step=1)"
      ]
     },
     "execution_count": 14,
     "metadata": {},
     "output_type": "execute_result"
    }
   ],
   "source": [
    "ctd_data.index"
   ]
  },
  {
   "cell_type": "markdown",
   "metadata": {},
   "source": [
    "Get descriptors for the **horizontal** axis (columns):"
   ]
  },
  {
   "cell_type": "code",
   "execution_count": 15,
   "metadata": {},
   "outputs": [
    {
     "data": {
      "text/plain": [
       "Index(['Depth', 'Temperature', 'Oxygen', 'Irradiance', 'Salinity'], dtype='object')"
      ]
     },
     "execution_count": 15,
     "metadata": {},
     "output_type": "execute_result"
    }
   ],
   "source": [
    "ctd_data.columns"
   ]
  },
  {
   "cell_type": "markdown",
   "metadata": {},
   "source": [
    "A lot of information at once including memory usage:"
   ]
  },
  {
   "cell_type": "code",
   "execution_count": 16,
   "metadata": {},
   "outputs": [
    {
     "name": "stdout",
     "output_type": "stream",
     "text": [
      "<class 'pandas.core.frame.DataFrame'>\n",
      "RangeIndex: 1180 entries, 0 to 1179\n",
      "Data columns (total 5 columns):\n",
      " #   Column       Non-Null Count  Dtype  \n",
      "---  ------       --------------  -----  \n",
      " 0   Depth        1180 non-null   float64\n",
      " 1   Temperature  1180 non-null   float64\n",
      " 2   Oxygen       1180 non-null   float64\n",
      " 3   Irradiance   1180 non-null   float64\n",
      " 4   Salinity     1180 non-null   float64\n",
      "dtypes: float64(5)\n",
      "memory usage: 46.2 KB\n"
     ]
    }
   ],
   "source": [
    "ctd_data.info()"
   ]
  },
  {
   "cell_type": "markdown",
   "metadata": {},
   "source": [
    "### Series, pandas' 1D data containter"
   ]
  },
  {
   "cell_type": "markdown",
   "metadata": {},
   "source": [
    "A series can be constructed with the `pd.Series` constructor (passing an array of values) or from a `DataFrame`, by extracting one of its columns."
   ]
  },
  {
   "cell_type": "code",
   "execution_count": 17,
   "metadata": {
    "scrolled": true
   },
   "outputs": [],
   "source": [
    "temp = ctd_data['Temperature']"
   ]
  },
  {
   "cell_type": "markdown",
   "metadata": {},
   "source": [
    "Some of its attributes:"
   ]
  },
  {
   "cell_type": "code",
   "execution_count": 18,
   "metadata": {},
   "outputs": [
    {
     "name": "stdout",
     "output_type": "stream",
     "text": [
      "<class 'pandas.core.series.Series'>\n",
      "float64\n",
      "(1180,)\n",
      "9440\n"
     ]
    }
   ],
   "source": [
    "print(type(temp))\n",
    "print(temp.dtype)\n",
    "print(temp.shape)\n",
    "print(temp.nbytes)"
   ]
  },
  {
   "cell_type": "markdown",
   "metadata": {},
   "source": [
    "And this is what's in it:"
   ]
  },
  {
   "cell_type": "code",
   "execution_count": 19,
   "metadata": {},
   "outputs": [
    {
     "data": {
      "text/plain": [
       "0       16.5080\n",
       "1       16.5315\n",
       "2       16.5183\n",
       "3       16.4921\n",
       "4       16.4626\n",
       "         ...   \n",
       "1175    11.6755\n",
       "1176    11.6757\n",
       "1177    11.6758\n",
       "1178    11.6760\n",
       "1179    11.6765\n",
       "Name: Temperature, Length: 1180, dtype: float64"
      ]
     },
     "execution_count": 19,
     "metadata": {},
     "output_type": "execute_result"
    }
   ],
   "source": [
    "temp"
   ]
  },
  {
   "cell_type": "markdown",
   "metadata": {},
   "source": [
    "Note it has both the index and data coloumn, but the shape is still only 1D. The index is more like a coordinate meta rather than data in itself. (In module like Iris the coordinate arrays are also seperate from the data)"
   ]
  },
  {
   "cell_type": "markdown",
   "metadata": {},
   "source": [
    "### Numpy as pandas's backend"
   ]
  },
  {
   "cell_type": "markdown",
   "metadata": {},
   "source": [
    "It is always possible to fall back to a good old NumPy array to pass on to scientific libraries that need them: SciPy, scikit-learn, etc"
   ]
  },
  {
   "cell_type": "code",
   "execution_count": 21,
   "metadata": {},
   "outputs": [
    {
     "data": {
      "text/plain": [
       "array([16.508 , 16.5315, 16.5183, ..., 11.6758, 11.676 , 11.6765])"
      ]
     },
     "execution_count": 21,
     "metadata": {},
     "output_type": "execute_result"
    }
   ],
   "source": [
    "ctd_data['Temperature'].values"
   ]
  },
  {
   "cell_type": "code",
   "execution_count": 22,
   "metadata": {},
   "outputs": [
    {
     "data": {
      "text/plain": [
       "numpy.ndarray"
      ]
     },
     "execution_count": 22,
     "metadata": {},
     "output_type": "execute_result"
    }
   ],
   "source": [
    "type(ctd_data['Temperature'].values)"
   ]
  },
  {
   "cell_type": "markdown",
   "metadata": {},
   "source": [
    "## Cleaning data"
   ]
  },
  {
   "cell_type": "markdown",
   "metadata": {},
   "source": [
    "<blockquote class=\"twitter-tweet\" data-lang=\"en\"><p lang=\"en\" dir=\"ltr\">The truth about data science: cleaning your data is 90% of the work. Fitting the model is easy. Interpreting the results is the other 90%.</p>&mdash; Jake VanderPlas (@jakevdp) <a href=\"https://twitter.com/jakevdp/status/742406386525446144\">June 13, 2016</a></blockquote>\n",
    "<script async src=\"//platform.twitter.com/widgets.js\" charset=\"utf-8\"></script>"
   ]
  },
  {
   "cell_type": "code",
   "execution_count": 23,
   "metadata": {},
   "outputs": [
    {
     "data": {
      "text/plain": [
       "['Depth', 'Temperature', 'Oxygen', 'Irradiance', 'Salinity']"
      ]
     },
     "execution_count": 23,
     "metadata": {},
     "output_type": "execute_result"
    }
   ],
   "source": [
    "list(ctd_data)"
   ]
  },
  {
   "cell_type": "markdown",
   "metadata": {},
   "source": [
    "### Renaming columns"
   ]
  },
  {
   "cell_type": "markdown",
   "metadata": {},
   "source": [
    "If we know the units of the variables, we can rename the columns to include these units. This is especailly useful if you plan to carry out unit conversions later"
   ]
  },
  {
   "cell_type": "code",
   "execution_count": 24,
   "metadata": {},
   "outputs": [
    {
     "data": {
      "text/plain": [
       "Index(['Depth_m', 'Temperature_C', 'Oxygen_ml/l', 'Irradiance',\n",
       "       'Salinity_psu'],\n",
       "      dtype='object')"
      ]
     },
     "execution_count": 24,
     "metadata": {},
     "output_type": "execute_result"
    }
   ],
   "source": [
    "ctd_data.columns = ['Depth_m', 'Temperature_C', 'Oxygen_ml/l', 'Irradiance', 'Salinity_psu']\n",
    "ctd_data.columns"
   ]
  },
  {
   "cell_type": "markdown",
   "metadata": {},
   "source": [
    "Note the use of underscores `_` in the renaming. It may not be pretty, but putting spaces in variable names will cause problems later on in your processing"
   ]
  },
  {
   "cell_type": "markdown",
   "metadata": {},
   "source": [
    "### Deleting columns"
   ]
  },
  {
   "cell_type": "markdown",
   "metadata": {},
   "source": [
    "Let us concentrate our attention on temperature, salinity and oxygen, dropping irradiance from the data frame"
   ]
  },
  {
   "cell_type": "code",
   "execution_count": 25,
   "metadata": {},
   "outputs": [],
   "source": [
    "ctd_data = ctd_data.drop('Irradiance', 1)"
   ]
  },
  {
   "cell_type": "code",
   "execution_count": 26,
   "metadata": {},
   "outputs": [
    {
     "data": {
      "text/html": [
       "<div>\n",
       "<style scoped>\n",
       "    .dataframe tbody tr th:only-of-type {\n",
       "        vertical-align: middle;\n",
       "    }\n",
       "\n",
       "    .dataframe tbody tr th {\n",
       "        vertical-align: top;\n",
       "    }\n",
       "\n",
       "    .dataframe thead th {\n",
       "        text-align: right;\n",
       "    }\n",
       "</style>\n",
       "<table border=\"1\" class=\"dataframe\">\n",
       "  <thead>\n",
       "    <tr style=\"text-align: right;\">\n",
       "      <th></th>\n",
       "      <th>Depth_m</th>\n",
       "      <th>Temperature_C</th>\n",
       "      <th>Oxygen_ml/l</th>\n",
       "      <th>Salinity_psu</th>\n",
       "    </tr>\n",
       "  </thead>\n",
       "  <tbody>\n",
       "    <tr>\n",
       "      <th>0</th>\n",
       "      <td>0.5</td>\n",
       "      <td>16.5080</td>\n",
       "      <td>5.83945</td>\n",
       "      <td>35.7685</td>\n",
       "    </tr>\n",
       "    <tr>\n",
       "      <th>1</th>\n",
       "      <td>1.0</td>\n",
       "      <td>16.5315</td>\n",
       "      <td>5.85881</td>\n",
       "      <td>35.7679</td>\n",
       "    </tr>\n",
       "    <tr>\n",
       "      <th>2</th>\n",
       "      <td>1.5</td>\n",
       "      <td>16.5183</td>\n",
       "      <td>5.88355</td>\n",
       "      <td>35.7681</td>\n",
       "    </tr>\n",
       "    <tr>\n",
       "      <th>3</th>\n",
       "      <td>2.0</td>\n",
       "      <td>16.4921</td>\n",
       "      <td>5.87417</td>\n",
       "      <td>35.7685</td>\n",
       "    </tr>\n",
       "    <tr>\n",
       "      <th>4</th>\n",
       "      <td>2.5</td>\n",
       "      <td>16.4626</td>\n",
       "      <td>5.86818</td>\n",
       "      <td>35.7688</td>\n",
       "    </tr>\n",
       "  </tbody>\n",
       "</table>\n",
       "</div>"
      ],
      "text/plain": [
       "   Depth_m  Temperature_C  Oxygen_ml/l  Salinity_psu\n",
       "0      0.5        16.5080      5.83945       35.7685\n",
       "1      1.0        16.5315      5.85881       35.7679\n",
       "2      1.5        16.5183      5.88355       35.7681\n",
       "3      2.0        16.4921      5.87417       35.7685\n",
       "4      2.5        16.4626      5.86818       35.7688"
      ]
     },
     "execution_count": 26,
     "metadata": {},
     "output_type": "execute_result"
    }
   ],
   "source": [
    "ctd_data.head()"
   ]
  },
  {
   "cell_type": "markdown",
   "metadata": {},
   "source": [
    "Really it would make more sense to have Depth as the index, as the other variables are expected to vary with depth. Make it so!"
   ]
  },
  {
   "cell_type": "code",
   "execution_count": 27,
   "metadata": {},
   "outputs": [
    {
     "data": {
      "text/html": [
       "<div>\n",
       "<style scoped>\n",
       "    .dataframe tbody tr th:only-of-type {\n",
       "        vertical-align: middle;\n",
       "    }\n",
       "\n",
       "    .dataframe tbody tr th {\n",
       "        vertical-align: top;\n",
       "    }\n",
       "\n",
       "    .dataframe thead th {\n",
       "        text-align: right;\n",
       "    }\n",
       "</style>\n",
       "<table border=\"1\" class=\"dataframe\">\n",
       "  <thead>\n",
       "    <tr style=\"text-align: right;\">\n",
       "      <th></th>\n",
       "      <th>Temperature_C</th>\n",
       "      <th>Oxygen_ml/l</th>\n",
       "      <th>Salinity_psu</th>\n",
       "    </tr>\n",
       "    <tr>\n",
       "      <th>Depth_m</th>\n",
       "      <th></th>\n",
       "      <th></th>\n",
       "      <th></th>\n",
       "    </tr>\n",
       "  </thead>\n",
       "  <tbody>\n",
       "    <tr>\n",
       "      <th>0.5</th>\n",
       "      <td>16.5080</td>\n",
       "      <td>5.83945</td>\n",
       "      <td>35.7685</td>\n",
       "    </tr>\n",
       "    <tr>\n",
       "      <th>1.0</th>\n",
       "      <td>16.5315</td>\n",
       "      <td>5.85881</td>\n",
       "      <td>35.7679</td>\n",
       "    </tr>\n",
       "    <tr>\n",
       "      <th>1.5</th>\n",
       "      <td>16.5183</td>\n",
       "      <td>5.88355</td>\n",
       "      <td>35.7681</td>\n",
       "    </tr>\n",
       "    <tr>\n",
       "      <th>2.0</th>\n",
       "      <td>16.4921</td>\n",
       "      <td>5.87417</td>\n",
       "      <td>35.7685</td>\n",
       "    </tr>\n",
       "    <tr>\n",
       "      <th>2.5</th>\n",
       "      <td>16.4626</td>\n",
       "      <td>5.86818</td>\n",
       "      <td>35.7688</td>\n",
       "    </tr>\n",
       "    <tr>\n",
       "      <th>...</th>\n",
       "      <td>...</td>\n",
       "      <td>...</td>\n",
       "      <td>...</td>\n",
       "    </tr>\n",
       "    <tr>\n",
       "      <th>588.0</th>\n",
       "      <td>11.6755</td>\n",
       "      <td>3.99643</td>\n",
       "      <td>35.9688</td>\n",
       "    </tr>\n",
       "    <tr>\n",
       "      <th>588.5</th>\n",
       "      <td>11.6757</td>\n",
       "      <td>3.99618</td>\n",
       "      <td>35.9689</td>\n",
       "    </tr>\n",
       "    <tr>\n",
       "      <th>589.0</th>\n",
       "      <td>11.6758</td>\n",
       "      <td>3.99506</td>\n",
       "      <td>35.9689</td>\n",
       "    </tr>\n",
       "    <tr>\n",
       "      <th>589.5</th>\n",
       "      <td>11.6760</td>\n",
       "      <td>3.99465</td>\n",
       "      <td>35.9688</td>\n",
       "    </tr>\n",
       "    <tr>\n",
       "      <th>590.0</th>\n",
       "      <td>11.6765</td>\n",
       "      <td>3.99631</td>\n",
       "      <td>35.9686</td>\n",
       "    </tr>\n",
       "  </tbody>\n",
       "</table>\n",
       "<p>1180 rows × 3 columns</p>\n",
       "</div>"
      ],
      "text/plain": [
       "         Temperature_C  Oxygen_ml/l  Salinity_psu\n",
       "Depth_m                                          \n",
       "0.5            16.5080      5.83945       35.7685\n",
       "1.0            16.5315      5.85881       35.7679\n",
       "1.5            16.5183      5.88355       35.7681\n",
       "2.0            16.4921      5.87417       35.7685\n",
       "2.5            16.4626      5.86818       35.7688\n",
       "...                ...          ...           ...\n",
       "588.0          11.6755      3.99643       35.9688\n",
       "588.5          11.6757      3.99618       35.9689\n",
       "589.0          11.6758      3.99506       35.9689\n",
       "589.5          11.6760      3.99465       35.9688\n",
       "590.0          11.6765      3.99631       35.9686\n",
       "\n",
       "[1180 rows x 3 columns]"
      ]
     },
     "execution_count": 27,
     "metadata": {},
     "output_type": "execute_result"
    }
   ],
   "source": [
    "ctd_data.set_index('Depth_m', inplace=True)\n",
    "ctd_data"
   ]
  },
  {
   "cell_type": "markdown",
   "metadata": {},
   "source": [
    "## Basic visualisation"
   ]
  },
  {
   "cell_type": "markdown",
   "metadata": {},
   "source": [
    "Try calling `plot()` method of the `ctd_data` object:"
   ]
  },
  {
   "cell_type": "code",
   "execution_count": 28,
   "metadata": {},
   "outputs": [
    {
     "data": {
      "text/plain": [
       "<AxesSubplot:xlabel='Depth_m'>"
      ]
     },
     "execution_count": 28,
     "metadata": {},
     "output_type": "execute_result"
    },
    {
     "data": {
      "image/png": "[encoded data removed]",
      "text/plain": [
       "<Figure size 432x288 with 1 Axes>"
      ]
     },
     "metadata": {
      "needs_background": "light"
     },
     "output_type": "display_data"
    }
   ],
   "source": [
    "ctd_data.plot()"
   ]
  },
  {
   "cell_type": "markdown",
   "metadata": {},
   "source": [
    "We can explicitly pass fancy labels to legend if needed"
   ]
  },
  {
   "cell_type": "code",
   "execution_count": 31,
   "metadata": {},
   "outputs": [
    {
     "data": {
      "image/png": "[encoded data removed]",
      "text/plain": [
       "<Figure size 432x288 with 1 Axes>"
      ]
     },
     "metadata": {
      "needs_background": "light"
     },
     "output_type": "display_data"
    }
   ],
   "source": [
    "df = pd.DataFrame({'A':26, 'B':20}, index=['N'])\n",
    "ax = ctd_data.plot()\n",
    "ax.legend([\"Temperature $\\mathrm{(^{\\circ}C}$)\", \"Oxygen (ml/l)\", \"Salinity (psu)\"]);"
   ]
  },
  {
   "cell_type": "markdown",
   "metadata": {},
   "source": [
    "What happens if we pass `subplots=True` as an argument of the `plot()` method?"
   ]
  },
  {
   "cell_type": "code",
   "execution_count": 36,
   "metadata": {
    "scrolled": true
   },
   "outputs": [],
   "source": [
    "# axes = ctd_data.plot( ... )\n"
   ]
  },
  {
   "cell_type": "markdown",
   "metadata": {},
   "source": [
    "It is easy to create other useful plots using `DataFrame`:"
   ]
  },
  {
   "cell_type": "code",
   "execution_count": 38,
   "metadata": {
    "scrolled": true
   },
   "outputs": [
    {
     "data": {
      "image/png": "[encoded data removed]",
      "text/plain": [
       "<Figure size 576x288 with 2 Axes>"
      ]
     },
     "metadata": {
      "needs_background": "light"
     },
     "output_type": "display_data"
    }
   ],
   "source": [
    "fig, (ax0, ax1) = plt.subplots(ncols=2,figsize=(8,4)) # use matplotlib to initialise your figure\n",
    "ctd_data.boxplot(ax=ax0, column=['Salinity_psu']) # choose which coloumn you want plotted\n",
    "ctd_data.boxplot(ax=ax1, column=['Oxygen_ml/l']); # note the axis argument 'ax'"
   ]
  },
  {
   "cell_type": "markdown",
   "metadata": {},
   "source": [
    "Loads more options for visualisation on [the pandas website](https://pandas.pydata.org/pandas-docs/stable/user_guide/visualization.html)"
   ]
  },
  {
   "cell_type": "markdown",
   "metadata": {},
   "source": [
    "### Exporting data\n",
    "\n",
    "One of pandas best features is how it simplifies writing text to a csv (comma seperated value) text file that can be read easily by programs like excel."
   ]
  },
  {
   "cell_type": "code",
   "execution_count": 40,
   "metadata": {},
   "outputs": [],
   "source": [
    "ctd_data.to_csv(data_dir/'ctd_data_out.csv',index=True, header=True)"
   ]
  },
  {
   "cell_type": "markdown",
   "metadata": {},
   "source": [
    "## Some statistics"
   ]
  },
  {
   "cell_type": "code",
   "execution_count": 41,
   "metadata": {
    "scrolled": true
   },
   "outputs": [
    {
     "data": {
      "text/html": [
       "<div>\n",
       "<style scoped>\n",
       "    .dataframe tbody tr th:only-of-type {\n",
       "        vertical-align: middle;\n",
       "    }\n",
       "\n",
       "    .dataframe tbody tr th {\n",
       "        vertical-align: top;\n",
       "    }\n",
       "\n",
       "    .dataframe thead th {\n",
       "        text-align: right;\n",
       "    }\n",
       "</style>\n",
       "<table border=\"1\" class=\"dataframe\">\n",
       "  <thead>\n",
       "    <tr style=\"text-align: right;\">\n",
       "      <th></th>\n",
       "      <th>Temperature_C</th>\n",
       "      <th>Oxygen_ml/l</th>\n",
       "      <th>Salinity_psu</th>\n",
       "    </tr>\n",
       "  </thead>\n",
       "  <tbody>\n",
       "    <tr>\n",
       "      <th>count</th>\n",
       "      <td>1180.000000</td>\n",
       "      <td>1180.000000</td>\n",
       "      <td>1180.000000</td>\n",
       "    </tr>\n",
       "    <tr>\n",
       "      <th>mean</th>\n",
       "      <td>12.349396</td>\n",
       "      <td>4.694360</td>\n",
       "      <td>35.778409</td>\n",
       "    </tr>\n",
       "    <tr>\n",
       "      <th>std</th>\n",
       "      <td>1.003352</td>\n",
       "      <td>0.437966</td>\n",
       "      <td>0.086346</td>\n",
       "    </tr>\n",
       "    <tr>\n",
       "      <th>min</th>\n",
       "      <td>11.479900</td>\n",
       "      <td>3.994650</td>\n",
       "      <td>35.655600</td>\n",
       "    </tr>\n",
       "    <tr>\n",
       "      <th>25%</th>\n",
       "      <td>11.589050</td>\n",
       "      <td>4.226740</td>\n",
       "      <td>35.700775</td>\n",
       "    </tr>\n",
       "    <tr>\n",
       "      <th>50%</th>\n",
       "      <td>12.017850</td>\n",
       "      <td>4.856475</td>\n",
       "      <td>35.766950</td>\n",
       "    </tr>\n",
       "    <tr>\n",
       "      <th>75%</th>\n",
       "      <td>12.691925</td>\n",
       "      <td>4.999835</td>\n",
       "      <td>35.837650</td>\n",
       "    </tr>\n",
       "    <tr>\n",
       "      <th>max</th>\n",
       "      <td>16.531500</td>\n",
       "      <td>5.920030</td>\n",
       "      <td>35.968900</td>\n",
       "    </tr>\n",
       "  </tbody>\n",
       "</table>\n",
       "</div>"
      ],
      "text/plain": [
       "       Temperature_C  Oxygen_ml/l  Salinity_psu\n",
       "count    1180.000000  1180.000000   1180.000000\n",
       "mean       12.349396     4.694360     35.778409\n",
       "std         1.003352     0.437966      0.086346\n",
       "min        11.479900     3.994650     35.655600\n",
       "25%        11.589050     4.226740     35.700775\n",
       "50%        12.017850     4.856475     35.766950\n",
       "75%        12.691925     4.999835     35.837650\n",
       "max        16.531500     5.920030     35.968900"
      ]
     },
     "execution_count": 41,
     "metadata": {},
     "output_type": "execute_result"
    }
   ],
   "source": [
    "ctd_data.describe()"
   ]
  },
  {
   "cell_type": "markdown",
   "metadata": {},
   "source": [
    "Much easier than calling them individually with NumPy!"
   ]
  },
  {
   "cell_type": "markdown",
   "metadata": {},
   "source": [
    "## Computing correlations"
   ]
  },
  {
   "cell_type": "markdown",
   "metadata": {},
   "source": [
    "Both `Series` and `DataFrames` have a **`corr()`** method to compute the correlation coefficient."
   ]
  },
  {
   "cell_type": "markdown",
   "metadata": {},
   "source": [
    "If series are already grouped into a `DataFrame`, computing all correlation coefficients is trivial:"
   ]
  },
  {
   "cell_type": "code",
   "execution_count": 43,
   "metadata": {},
   "outputs": [
    {
     "data": {
      "text/html": [
       "<div>\n",
       "<style scoped>\n",
       "    .dataframe tbody tr th:only-of-type {\n",
       "        vertical-align: middle;\n",
       "    }\n",
       "\n",
       "    .dataframe tbody tr th {\n",
       "        vertical-align: top;\n",
       "    }\n",
       "\n",
       "    .dataframe thead th {\n",
       "        text-align: right;\n",
       "    }\n",
       "</style>\n",
       "<table border=\"1\" class=\"dataframe\">\n",
       "  <thead>\n",
       "    <tr style=\"text-align: right;\">\n",
       "      <th></th>\n",
       "      <th>Temperature_C</th>\n",
       "      <th>Oxygen_ml/l</th>\n",
       "      <th>Salinity_psu</th>\n",
       "    </tr>\n",
       "  </thead>\n",
       "  <tbody>\n",
       "    <tr>\n",
       "      <th>Temperature_C</th>\n",
       "      <td>1.000000</td>\n",
       "      <td>0.833816</td>\n",
       "      <td>0.225029</td>\n",
       "    </tr>\n",
       "    <tr>\n",
       "      <th>Oxygen_ml/l</th>\n",
       "      <td>0.833816</td>\n",
       "      <td>1.000000</td>\n",
       "      <td>-0.239306</td>\n",
       "    </tr>\n",
       "    <tr>\n",
       "      <th>Salinity_psu</th>\n",
       "      <td>0.225029</td>\n",
       "      <td>-0.239306</td>\n",
       "      <td>1.000000</td>\n",
       "    </tr>\n",
       "  </tbody>\n",
       "</table>\n",
       "</div>"
      ],
      "text/plain": [
       "               Temperature_C  Oxygen_ml/l  Salinity_psu\n",
       "Temperature_C       1.000000     0.833816      0.225029\n",
       "Oxygen_ml/l         0.833816     1.000000     -0.239306\n",
       "Salinity_psu        0.225029    -0.239306      1.000000"
      ]
     },
     "execution_count": 43,
     "metadata": {},
     "output_type": "execute_result"
    }
   ],
   "source": [
    "ctd_data.corr()"
   ]
  },
  {
   "cell_type": "markdown",
   "metadata": {},
   "source": [
    "If you want to visualise this correlation matrix, uncomment the following code cell."
   ]
  },
  {
   "cell_type": "code",
   "execution_count": 45,
   "metadata": {},
   "outputs": [],
   "source": [
    "#fig, ax = plt.subplots()\n",
    "#p = ax.imshow(ctd_data.corr(), interpolation=\"nearest\", cmap='RdBu_r', vmin=-1, vmax=1)\n",
    "#ax.set_xticks(np.arange(len(ctd_data.corr().columns)))\n",
    "#ax.set_yticks(np.arange(len(ctd_data.corr().index)))\n",
    "#ax.set_xticklabels(ctd_data.corr().columns)\n",
    "#ax.set_yticklabels(ctd_data.corr().index)\n",
    "#fig.colorbar(p)"
   ]
  },
  {
   "cell_type": "markdown",
   "metadata": {},
   "source": [
    "## Rolling operations"
   ]
  },
  {
   "cell_type": "markdown",
   "metadata": {},
   "source": [
    "Pandas includes functionality to do rolling means, sums, and more, given a specified window size. This is very useful for smoothing noisy data, the same way you can overlay covid infection data with a '7 Day rolling mean'."
   ]
  },
  {
   "cell_type": "markdown",
   "metadata": {},
   "source": [
    "First we'll want to make some noisy data:"
   ]
  },
  {
   "cell_type": "code",
   "execution_count": 60,
   "metadata": {},
   "outputs": [],
   "source": [
    "from numpy import random"
   ]
  },
  {
   "cell_type": "code",
   "execution_count": 72,
   "metadata": {},
   "outputs": [
    {
     "name": "stdout",
     "output_type": "stream",
     "text": [
      "Depth_m\n",
      "0.5      11.015725\n",
      "1.0      10.534503\n",
      "1.5      21.818885\n",
      "2.0       5.307534\n",
      "2.5       8.272620\n",
      "           ...    \n",
      "588.0     1.431972\n",
      "588.5    19.520325\n",
      "589.0    17.804379\n",
      "589.5    10.212508\n",
      "590.0     3.536434\n",
      "Name: Temperature_C, Length: 1180, dtype: float64\n"
     ]
    }
   ],
   "source": [
    "noisy_data = ctd_data['Temperature_C']\n",
    "noisy_data = noisy_data * random.rand(len(noisy_data)) +10* np.ones(len(noisy_data))*np.sin(np.arange(len(noisy_data)))# randomise data to make it super noisy\n",
    "print(noisy_data)"
   ]
  },
  {
   "cell_type": "code",
   "execution_count": 73,
   "metadata": {},
   "outputs": [
    {
     "data": {
      "text/plain": [
       "<AxesSubplot:xlabel='Depth_m'>"
      ]
     },
     "execution_count": 73,
     "metadata": {},
     "output_type": "execute_result"
    },
    {
     "data": {
      "image/png": "[encoded data removed]",
      "text/plain": [
       "<Figure size 432x288 with 1 Axes>"
      ]
     },
     "metadata": {
      "needs_background": "light"
     },
     "output_type": "display_data"
    }
   ],
   "source": [
    "noisy_data.plot()"
   ]
  },
  {
   "cell_type": "code",
   "execution_count": 50,
   "metadata": {},
   "outputs": [
    {
     "data": {
      "text/plain": [
       "Rolling [window=10,center=False,axis=0]"
      ]
     },
     "execution_count": 50,
     "metadata": {},
     "output_type": "execute_result"
    }
   ],
   "source": [
    "noisy_roll = ctd_data.rolling(window = 10)\n",
    "ctd_roll"
   ]
  },
  {
   "cell_type": "code",
   "execution_count": 54,
   "metadata": {},
   "outputs": [
    {
     "data": {
      "text/html": [
       "<div>\n",
       "<style scoped>\n",
       "    .dataframe tbody tr th:only-of-type {\n",
       "        vertical-align: middle;\n",
       "    }\n",
       "\n",
       "    .dataframe tbody tr th {\n",
       "        vertical-align: top;\n",
       "    }\n",
       "\n",
       "    .dataframe thead th {\n",
       "        text-align: right;\n",
       "    }\n",
       "</style>\n",
       "<table border=\"1\" class=\"dataframe\">\n",
       "  <thead>\n",
       "    <tr style=\"text-align: right;\">\n",
       "      <th></th>\n",
       "      <th>Temperature_C</th>\n",
       "      <th>Oxygen_ml/l</th>\n",
       "      <th>Salinity_psu</th>\n",
       "    </tr>\n",
       "    <tr>\n",
       "      <th>Depth_m</th>\n",
       "      <th></th>\n",
       "      <th></th>\n",
       "      <th></th>\n",
       "    </tr>\n",
       "  </thead>\n",
       "  <tbody>\n",
       "    <tr>\n",
       "      <th>0.5</th>\n",
       "      <td>NaN</td>\n",
       "      <td>NaN</td>\n",
       "      <td>NaN</td>\n",
       "    </tr>\n",
       "    <tr>\n",
       "      <th>1.0</th>\n",
       "      <td>NaN</td>\n",
       "      <td>NaN</td>\n",
       "      <td>NaN</td>\n",
       "    </tr>\n",
       "    <tr>\n",
       "      <th>1.5</th>\n",
       "      <td>NaN</td>\n",
       "      <td>NaN</td>\n",
       "      <td>NaN</td>\n",
       "    </tr>\n",
       "    <tr>\n",
       "      <th>2.0</th>\n",
       "      <td>NaN</td>\n",
       "      <td>NaN</td>\n",
       "      <td>NaN</td>\n",
       "    </tr>\n",
       "    <tr>\n",
       "      <th>2.5</th>\n",
       "      <td>NaN</td>\n",
       "      <td>NaN</td>\n",
       "      <td>NaN</td>\n",
       "    </tr>\n",
       "    <tr>\n",
       "      <th>...</th>\n",
       "      <td>...</td>\n",
       "      <td>...</td>\n",
       "      <td>...</td>\n",
       "    </tr>\n",
       "    <tr>\n",
       "      <th>588.0</th>\n",
       "      <td>11.67447</td>\n",
       "      <td>4.000625</td>\n",
       "      <td>35.96810</td>\n",
       "    </tr>\n",
       "    <tr>\n",
       "      <th>588.5</th>\n",
       "      <td>11.67469</td>\n",
       "      <td>3.999842</td>\n",
       "      <td>35.96822</td>\n",
       "    </tr>\n",
       "    <tr>\n",
       "      <th>589.0</th>\n",
       "      <td>11.67490</td>\n",
       "      <td>3.999067</td>\n",
       "      <td>35.96834</td>\n",
       "    </tr>\n",
       "    <tr>\n",
       "      <th>589.5</th>\n",
       "      <td>11.67511</td>\n",
       "      <td>3.998442</td>\n",
       "      <td>35.96844</td>\n",
       "    </tr>\n",
       "    <tr>\n",
       "      <th>590.0</th>\n",
       "      <td>11.67535</td>\n",
       "      <td>3.998145</td>\n",
       "      <td>35.96852</td>\n",
       "    </tr>\n",
       "  </tbody>\n",
       "</table>\n",
       "<p>1180 rows × 3 columns</p>\n",
       "</div>"
      ],
      "text/plain": [
       "         Temperature_C  Oxygen_ml/l  Salinity_psu\n",
       "Depth_m                                          \n",
       "0.5                NaN          NaN           NaN\n",
       "1.0                NaN          NaN           NaN\n",
       "1.5                NaN          NaN           NaN\n",
       "2.0                NaN          NaN           NaN\n",
       "2.5                NaN          NaN           NaN\n",
       "...                ...          ...           ...\n",
       "588.0         11.67447     4.000625      35.96810\n",
       "588.5         11.67469     3.999842      35.96822\n",
       "589.0         11.67490     3.999067      35.96834\n",
       "589.5         11.67511     3.998442      35.96844\n",
       "590.0         11.67535     3.998145      35.96852\n",
       "\n",
       "[1180 rows x 3 columns]"
      ]
     },
     "execution_count": 54,
     "metadata": {},
     "output_type": "execute_result"
    }
   ],
   "source": [
    "ctd_roll.mean()"
   ]
  },
  {
   "cell_type": "code",
   "execution_count": 56,
   "metadata": {},
   "outputs": [
    {
     "data": {
      "text/plain": [
       "<AxesSubplot:xlabel='Depth_m'>"
      ]
     },
     "execution_count": 56,
     "metadata": {},
     "output_type": "execute_result"
    },
    {
     "data": {
      "image/png": "[encoded data removed]",
      "text/plain": [
       "<Figure size 432x288 with 1 Axes>"
      ]
     },
     "metadata": {
      "needs_background": "light"
     },
     "output_type": "display_data"
    }
   ],
   "source": [
    "ctd_roll.mean().plot()"
   ]
  },
  {
   "cell_type": "markdown",
   "metadata": {},
   "source": [
    "## Creating DataFrames"
   ]
  },
  {
   "cell_type": "markdown",
   "metadata": {},
   "source": [
    "* `DataFrame` can also be created manually, by grouping several `Series` together.\n",
    "* Now just for fun we switch to **another dataset**\n",
    "    - create 2 `Series` objects from 2 CSV files\n",
    "    - create a `DataFrame` by combining the two `Series`"
   ]
  },
  {
   "cell_type": "markdown",
   "metadata": {},
   "source": [
    "* Data are monthly values of\n",
    "    - Southern Oscillation Index (SOI)\n",
    "    - Outgoing Longwave Radiation (OLR), which is a proxy for convective precipitation in the western equatorial Pacific\n",
    "* Data were downloaded from NOAA's website: https://www.ncdc.noaa.gov/teleconnections/"
   ]
  },
  {
   "cell_type": "code",
   "execution_count": null,
   "metadata": {},
   "outputs": [],
   "source": [
    "soi_df = pd.read_csv('../data/soi.csv', skiprows=1, parse_dates=[0], index_col=0, na_values=-999.9,\n",
    "                     date_parser=lambda x: pd.datetime.strptime(x, '%Y%m'))"
   ]
  },
  {
   "cell_type": "code",
   "execution_count": null,
   "metadata": {},
   "outputs": [],
   "source": [
    "soi_df.head()"
   ]
  },
  {
   "cell_type": "code",
   "execution_count": null,
   "metadata": {
    "scrolled": true
   },
   "outputs": [],
   "source": [
    "olr_df = pd.read_csv('../data/olr.csv', skiprows=1, parse_dates=[0], index_col=0, na_values=-999.9,\n",
    "                     date_parser=lambda x: pd.datetime.strptime(x, '%Y%m'))"
   ]
  },
  {
   "cell_type": "code",
   "execution_count": null,
   "metadata": {},
   "outputs": [],
   "source": [
    "olr_df.head()"
   ]
  },
  {
   "cell_type": "code",
   "execution_count": null,
   "metadata": {},
   "outputs": [],
   "source": [
    "df = pd.DataFrame({'OLR': olr_df.Value,\n",
    "                   'SOI': soi_df.Value})"
   ]
  },
  {
   "cell_type": "markdown",
   "metadata": {},
   "source": [
    "Note that, although the dataseries do not overlap completely, we can combine them seamlesssly into a dataframe because pandas understands datetime objects for the index."
   ]
  },
  {
   "cell_type": "code",
   "execution_count": null,
   "metadata": {},
   "outputs": [],
   "source": [
    "df.describe()"
   ]
  },
  {
   "cell_type": "markdown",
   "metadata": {},
   "source": [
    "# Groupby operations"
   ]
  },
  {
   "cell_type": "markdown",
   "metadata": {},
   "source": [
    "Often, we want to calculate aggregated values across the values of a certain index or column. For example, we can quickly compute monthly averages across all the years in our dataframe as follows:"
   ]
  },
  {
   "cell_type": "code",
   "execution_count": null,
   "metadata": {},
   "outputs": [],
   "source": [
    "df_monthly_means = df.groupby(df.index.month).mean()\n",
    "\n",
    "# show the result on a plot\n",
    "df_monthly_means.plot()\n",
    "ax.set_xlabel('Month');"
   ]
  },
  {
   "cell_type": "markdown",
   "metadata": {},
   "source": [
    "## Ordinary Least Square (OLS) regressions"
   ]
  },
  {
   "cell_type": "markdown",
   "metadata": {},
   "source": [
    "### Primitive way: using numpy's polynomial fitting"
   ]
  },
  {
   "cell_type": "code",
   "execution_count": null,
   "metadata": {},
   "outputs": [],
   "source": [
    "from numpy.polynomial import polynomial as P"
   ]
  },
  {
   "cell_type": "code",
   "execution_count": null,
   "metadata": {},
   "outputs": [],
   "source": [
    "x = df['OLR'].values\n",
    "y = df['SOI'].values"
   ]
  },
  {
   "cell_type": "code",
   "execution_count": null,
   "metadata": {},
   "outputs": [],
   "source": [
    "idx = np.isfinite(x) & np.isfinite(y)"
   ]
  },
  {
   "cell_type": "code",
   "execution_count": null,
   "metadata": {},
   "outputs": [],
   "source": [
    "coefs, stats = P.polyfit(x[idx], y[idx], 1, full=True)"
   ]
  },
  {
   "cell_type": "code",
   "execution_count": null,
   "metadata": {},
   "outputs": [],
   "source": [
    "y2 = P.polyval(x, coefs)"
   ]
  },
  {
   "cell_type": "code",
   "execution_count": null,
   "metadata": {},
   "outputs": [],
   "source": [
    "plt.plot(x, y, linestyle='', marker='o')\n",
    "plt.plot(x, y2)"
   ]
  },
  {
   "cell_type": "markdown",
   "metadata": {},
   "source": [
    "### Recommended (and more convenient) ways (require additional packages)"
   ]
  },
  {
   "cell_type": "markdown",
   "metadata": {},
   "source": [
    "##### Statsmodels"
   ]
  },
  {
   "cell_type": "code",
   "execution_count": null,
   "metadata": {
    "scrolled": false
   },
   "outputs": [],
   "source": [
    "# import statsmodels.formula.api as sm"
   ]
  },
  {
   "cell_type": "code",
   "execution_count": null,
   "metadata": {},
   "outputs": [],
   "source": [
    "# sm_model = sm.ols(formula=\"SOI ~ OLR\", data=df).fit()"
   ]
  },
  {
   "cell_type": "code",
   "execution_count": null,
   "metadata": {},
   "outputs": [],
   "source": [
    "# df['SOI'].plot()\n",
    "# df['OLR'].plot()\n",
    "# ax = sm_model.fittedvalues.plot(label=\"model prediction\")\n",
    "# ax.legend(loc=\"lower center\", ncol=3)"
   ]
  },
  {
   "cell_type": "markdown",
   "metadata": {},
   "source": [
    "More examples: https://jakevdp.github.io/PythonDataScienceHandbook/05.06-linear-regression.html"
   ]
  },
  {
   "cell_type": "markdown",
   "metadata": {},
   "source": [
    "## References\n",
    "* https://github.com/jonathanrocher/pandas_tutorial\n",
    "* https://github.com/koldunovn/python_for_geosciences\n",
    "* http://pandas.pydata.org/pandas-docs/stable/index.html#module-pandas\n",
    "* http://pandas.pydata.org/pandas-docs/stable/10min.html"
   ]
  }
 ],
 "metadata": {
  "anaconda-cloud": {},
  "kernelspec": {
   "display_name": "Python 3",
   "language": "python",
   "name": "python3"
  },
  "language_info": {
   "codemirror_mode": {
    "name": "ipython",
    "version": 3
   },
   "file_extension": ".py",
   "mimetype": "text/x-python",
   "name": "python",
   "nbconvert_exporter": "python",
   "pygments_lexer": "ipython3",
   "version": "3.8.5"
  }
 },
 "nbformat": 4,
 "nbformat_minor": 1
}
