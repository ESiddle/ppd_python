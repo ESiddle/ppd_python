{
 "cells": [
  {
   "cell_type": "markdown",
   "metadata": {},
   "source": [
    "# Demonstrating some more advanced Python functionality"
   ]
  },
  {
   "cell_type": "markdown",
   "metadata": {},
   "source": [
    "## Pandas\n",
    "\n",
    "A very powerful package included in the base installation of Anaconda is **pandas**. First let's import it"
   ]
  },
  {
   "cell_type": "code",
   "execution_count": 3,
   "metadata": {},
   "outputs": [],
   "source": [
    "import pandas as pd"
   ]
  },
  {
   "cell_type": "markdown",
   "metadata": {},
   "source": [
    "* Key features:\n",
    "\n",
    "    - easy handling of **missing data**\n",
    "    - **size mutability**: columns can be inserted and deleted from DataFrame\n",
    "    - automatic and explicit **data alignment**: objects can be explicitly aligned to a set of labels, or the user can simply ignore the labels and let Series, DataFrame, etc. automatically align the data for you in computations\n",
    "    - powerful, flexible **group by** functionality to perform split-apply-combine operations on data sets\n",
    "    - make it **easy to convert** ragged, differently-indexed data in other Python and NumPy data structures into DataFrame objects\n",
    "    - intelligent label-based **slicing**, **fancy indexing**, and **subsetting** of large data sets\n",
    "    - intuitive **merging** and **joining** data sets\n",
    "    - flexible **reshaping** and pivoting of data sets\n",
    "    - **hierarchical** labeling of axes (possible to have multiple labels per tick)\n",
    "    - robust IO tools for loading data from **flat files** (CSV and delimited), Excel files, databases, and saving / loading data from the ultrafast HDF5 format\n",
    "    - **time series**-specific functionality"
   ]
  },
  {
   "cell_type": "markdown",
   "metadata": {},
   "source": [
    "### Primary data structures of pandas\n",
    "* **Series** (1-dimensional)\n",
    "* **DataFrame** (2-dimensional)\n",
    "\n",
    "pandas is built on top of **NumPy** and is intended to integrate well within a scientific computing environment with many other 3rd party libraries."
   ]
  },
  {
   "cell_type": "markdown",
   "metadata": {},
   "source": [
    "We will start by importing some data"
   ]
  },
  {
   "cell_type": "code",
   "execution_count": 24,
   "metadata": {},
   "outputs": [],
   "source": [
    "file_name = '../data/uitimeseries.txt'"
   ]
  },
  {
   "cell_type": "code",
   "execution_count": 50,
   "metadata": {},
   "outputs": [],
   "source": [
    "df = pd.read_csv(file_name)"
   ]
  },
  {
   "cell_type": "code",
   "execution_count": 51,
   "metadata": {},
   "outputs": [
    {
     "data": {
      "text/html": [
       "<div>\n",
       "<style scoped>\n",
       "    .dataframe tbody tr th:only-of-type {\n",
       "        vertical-align: middle;\n",
       "    }\n",
       "\n",
       "    .dataframe tbody tr th {\n",
       "        vertical-align: top;\n",
       "    }\n",
       "\n",
       "    .dataframe thead th {\n",
       "        text-align: right;\n",
       "    }\n",
       "</style>\n",
       "<table border=\"1\" class=\"dataframe\">\n",
       "  <thead>\n",
       "    <tr style=\"text-align: right;\">\n",
       "      <th></th>\n",
       "      <th>Year</th>\n",
       "      <th>Month</th>\n",
       "      <th>Day</th>\n",
       "      <th>Hour</th>\n",
       "      <th>U (m/s)</th>\n",
       "      <th>V (m/s)</th>\n",
       "      <th>UI</th>\n",
       "    </tr>\n",
       "  </thead>\n",
       "  <tbody>\n",
       "    <tr>\n",
       "      <th>Year</th>\n",
       "      <td>1.000000</td>\n",
       "      <td>-0.056084</td>\n",
       "      <td>-0.002579</td>\n",
       "      <td>-0.000087</td>\n",
       "      <td>-0.005028</td>\n",
       "      <td>-0.070735</td>\n",
       "      <td>0.071021</td>\n",
       "    </tr>\n",
       "    <tr>\n",
       "      <th>Month</th>\n",
       "      <td>-0.056084</td>\n",
       "      <td>1.000000</td>\n",
       "      <td>0.008062</td>\n",
       "      <td>0.000008</td>\n",
       "      <td>-0.043798</td>\n",
       "      <td>0.022801</td>\n",
       "      <td>-0.019779</td>\n",
       "    </tr>\n",
       "    <tr>\n",
       "      <th>Day</th>\n",
       "      <td>-0.002579</td>\n",
       "      <td>0.008062</td>\n",
       "      <td>1.000000</td>\n",
       "      <td>-0.000035</td>\n",
       "      <td>-0.014887</td>\n",
       "      <td>-0.010262</td>\n",
       "      <td>0.011037</td>\n",
       "    </tr>\n",
       "    <tr>\n",
       "      <th>Hour</th>\n",
       "      <td>-0.000087</td>\n",
       "      <td>0.000008</td>\n",
       "      <td>-0.000035</td>\n",
       "      <td>1.000000</td>\n",
       "      <td>0.000502</td>\n",
       "      <td>-0.030999</td>\n",
       "      <td>0.025842</td>\n",
       "    </tr>\n",
       "    <tr>\n",
       "      <th>U (m/s)</th>\n",
       "      <td>-0.005028</td>\n",
       "      <td>-0.043798</td>\n",
       "      <td>-0.014887</td>\n",
       "      <td>0.000502</td>\n",
       "      <td>1.000000</td>\n",
       "      <td>0.545006</td>\n",
       "      <td>-0.532927</td>\n",
       "    </tr>\n",
       "    <tr>\n",
       "      <th>V (m/s)</th>\n",
       "      <td>-0.070735</td>\n",
       "      <td>0.022801</td>\n",
       "      <td>-0.010262</td>\n",
       "      <td>-0.030999</td>\n",
       "      <td>0.545006</td>\n",
       "      <td>1.000000</td>\n",
       "      <td>-0.929491</td>\n",
       "    </tr>\n",
       "    <tr>\n",
       "      <th>UI</th>\n",
       "      <td>0.071021</td>\n",
       "      <td>-0.019779</td>\n",
       "      <td>0.011037</td>\n",
       "      <td>0.025842</td>\n",
       "      <td>-0.532927</td>\n",
       "      <td>-0.929491</td>\n",
       "      <td>1.000000</td>\n",
       "    </tr>\n",
       "  </tbody>\n",
       "</table>\n",
       "</div>"
      ],
      "text/plain": [
       "              Year     Month       Day      Hour   U (m/s)   V (m/s)        UI\n",
       "Year      1.000000 -0.056084 -0.002579 -0.000087 -0.005028 -0.070735  0.071021\n",
       "Month    -0.056084  1.000000  0.008062  0.000008 -0.043798  0.022801 -0.019779\n",
       "Day      -0.002579  0.008062  1.000000 -0.000035 -0.014887 -0.010262  0.011037\n",
       "Hour     -0.000087  0.000008 -0.000035  1.000000  0.000502 -0.030999  0.025842\n",
       " U (m/s) -0.005028 -0.043798 -0.014887  0.000502  1.000000  0.545006 -0.532927\n",
       "V (m/s)  -0.070735  0.022801 -0.010262 -0.030999  0.545006  1.000000 -0.929491\n",
       "UI        0.071021 -0.019779  0.011037  0.025842 -0.532927 -0.929491  1.000000"
      ]
     },
     "execution_count": 51,
     "metadata": {},
     "output_type": "execute_result"
    }
   ],
   "source": [
    "df.corr()"
   ]
  },
  {
   "cell_type": "code",
   "execution_count": 7,
   "metadata": {},
   "outputs": [
    {
     "data": {
      "text/plain": [
       "array([<matplotlib.axes._subplots.AxesSubplot object at 0x7f3aa2b96e10>,\n",
       "       <matplotlib.axes._subplots.AxesSubplot object at 0x7f3aa2269da0>,\n",
       "       <matplotlib.axes._subplots.AxesSubplot object at 0x7f3aa221a240>,\n",
       "       <matplotlib.axes._subplots.AxesSubplot object at 0x7f3aa21c36a0>,\n",
       "       <matplotlib.axes._subplots.AxesSubplot object at 0x7f3aa21e8b00>,\n",
       "       <matplotlib.axes._subplots.AxesSubplot object at 0x7f3aa2192f60>,\n",
       "       <matplotlib.axes._subplots.AxesSubplot object at 0x7f3aa2143400>],\n",
       "      dtype=object)"
      ]
     },
     "execution_count": 7,
     "metadata": {},
     "output_type": "execute_result"
    },
    {
     "data": {
      "image/png": "[encoded data removed]",
      "text/plain": [
       "<Figure size 432x288 with 7 Axes>"
      ]
     },
     "metadata": {
      "needs_background": "light"
     },
     "output_type": "display_data"
    }
   ],
   "source": [
    "df.plot(subplots=True);"
   ]
  },
  {
   "cell_type": "markdown",
   "metadata": {},
   "source": [
    "The standard anaconda installation includes many useful packages but by no means all of them. There are over 600 packages in the [conda library](https://docs.anaconda.com/anaconda/packages/py3.7_win-64/)\n",
    "\n",
    "To make use of these extra packages requires three steps:\n",
    "1. Install the package on your system\n",
    "2. Import the function you wish to use into your workspace, or import the whole package\n",
    "3. Use the function"
   ]
  },
  {
   "cell_type": "markdown",
   "metadata": {},
   "source": [
    "# An anaconda example\n",
    "To make use of the excellent [interpolation tools](https://unidata.github.io/MetPy/latest/examples/gridding/Point_Interpolation.html?highlight=barnes) from the [``MetPy``](https://unidata.github.io/MetPy/latest/) meteorological library takes threee steps:\n",
    "1. Install the package on your system\n",
    "```\n",
    "$ conda install -c conda-forge metpy \n",
    "```\n",
    "2. Import the desired function from the metpy package to your workspace\n",
    "```ipython\n",
    "from metpy.interpolate import interpolate_to_grid\n",
    "```\n",
    "3. Use the function on your data\n",
    "```ipython\n",
    "x_grid,y_grid,temp_grid = interpolate_to_grid(x,y,temp,interp_type='barnes',search_radius=8)\n",
    "```"
   ]
  },
  {
   "cell_type": "code",
   "execution_count": null,
   "metadata": {},
   "outputs": [],
   "source": []
  }
 ],
 "metadata": {
  "kernelspec": {
   "display_name": "Python 3",
   "language": "python",
   "name": "python3"
  },
  "language_info": {
   "codemirror_mode": {
    "name": "ipython",
    "version": 3
   },
   "file_extension": ".py",
   "mimetype": "text/x-python",
   "name": "python",
   "nbconvert_exporter": "python",
   "pygments_lexer": "ipython3",
   "version": "3.7.3"
  }
 },
 "nbformat": 4,
 "nbformat_minor": 2
}
