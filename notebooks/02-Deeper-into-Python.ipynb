{
 "cells": [
  {
   "cell_type": "markdown",
   "metadata": {},
   "source": [
    "# Demonstrating some more advanced Python functionality"
   ]
  },
  {
   "cell_type": "markdown",
   "metadata": {},
   "source": [
    "The standard anaconda installation includes many useful packages but by no means all of them. There are over 600 packages in the [conda library](https://docs.anaconda.com/anaconda/packages/py3.7_win-64/)"
   ]
  },
  {
   "cell_type": "markdown",
   "metadata": {},
   "source": [
    "To make use of these extra packages requires three steps:"
   ]
  },
  {
   "cell_type": "code",
   "execution_count": null,
   "metadata": {},
   "outputs": [],
   "source": []
  },
  {
   "cell_type": "markdown",
   "metadata": {},
   "source": [
    "# An anaconda example\n",
    "To make use of the excellent [interpolation tools](https://unidata.github.io/MetPy/latest/examples/gridding/Point_Interpolation.html?highlight=barnes) from the [``MetPy``](https://unidata.github.io/MetPy/latest/) meteorological library takes threee steps:\n",
    "1. Install the package on your system\n",
    "```\n",
    "$ conda install -c conda-forge metpy \n",
    "```\n",
    "2. Import the desired function from the metpy package to your workspace\n",
    "```ipython\n",
    "from metpy.interpolate import interpolate_to_grid\n",
    "```\n",
    "3. Use the function on your data\n",
    "```ipython\n",
    "x_grid,y_grid,temp_grid = interpolate_to_grid(x,y,temp,interp_type='barnes',search_radius=8)\n",
    "```"
   ]
  },
  {
   "cell_type": "code",
   "execution_count": null,
   "metadata": {},
   "outputs": [],
   "source": []
  }
 ],
 "metadata": {
  "kernelspec": {
   "display_name": "Python 3",
   "language": "python",
   "name": "python3"
  },
  "language_info": {
   "codemirror_mode": {
    "name": "ipython",
    "version": 3
   },
   "file_extension": ".py",
   "mimetype": "text/x-python",
   "name": "python",
   "nbconvert_exporter": "python",
   "pygments_lexer": "ipython3",
   "version": "3.7.3"
  }
 },
 "nbformat": 4,
 "nbformat_minor": 2
}
