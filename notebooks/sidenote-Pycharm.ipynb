{
 "cells": [
  {
   "cell_type": "markdown",
   "metadata": {},
   "source": [
    "# A brief digression: Pycharm\n",
    "\n",
    "While jupyter notebooks are an excellent teaching and presentation resource, they are not an ideal environment for writing extensive coding projects. Instead, I have recently started using [Pycharm](https://www.jetbrains.com/pycharm/) and I suggest you give it a try."
   ]
  },
  {
   "cell_type": "markdown",
   "metadata": {},
   "source": [
    "Pycharm has some great features that lend it to more extensive code writing:\n",
    "- Intelligent search and autocompletion\n",
    "- Error detection and style checking\n",
    "- Code profiling\n",
    "- Autodetection of libraries\n",
    "- A file explorer\n",
    "- Visualisation of variables in the namespace\n",
    "- Tight integration with git (more on this later)\n",
    "- Hundreds of plugins for optional features\n",
    "- And far more than I have time to go into\n",
    "\n",
    "The best way to explore these features it to try them out yourself. Open up Pycharm now"
   ]
  },
  {
   "cell_type": "markdown",
   "metadata": {},
   "source": [
    "Python is an extremely powerful and copmlex editor. It takes time and patience to get used to and you will continue to discover new features for months."
   ]
  }
 ],
 "metadata": {
  "kernelspec": {
   "display_name": "Python 3",
   "language": "python",
   "name": "python3"
  },
  "language_info": {
   "codemirror_mode": {
    "name": "ipython",
    "version": 3
   },
   "file_extension": ".py",
   "mimetype": "text/x-python",
   "name": "python",
   "nbconvert_exporter": "python",
   "pygments_lexer": "ipython3",
   "version": "3.7.3"
  }
 },
 "nbformat": 4,
 "nbformat_minor": 2
}
