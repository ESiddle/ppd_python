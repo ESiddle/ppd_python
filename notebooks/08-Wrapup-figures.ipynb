{
 "cells": [
  {
   "cell_type": "markdown",
   "metadata": {},
   "source": [
    "# That's all folks!"
   ]
  },
  {
   "cell_type": "markdown",
   "metadata": {},
   "source": [
    "Now is your time to look back over the notebooks and ask us about anything you're unsure of. You can experiment with your own data, try to import it to Python and plot it up. Feel free to ask the instructors for help "
   ]
  },
  {
   "cell_type": "markdown",
   "metadata": {},
   "source": [
    "---------\n",
    "### Further reading and useful resources"
   ]
  },
  {
   "cell_type": "markdown",
   "metadata": {},
   "source": [
    "Much of this short course is condensed/stolen from the UEA Cefas 3 day \"Python for data science\" course. The materials are available as jupyter notebooks [here](https://github.com/ueapy/pythoncourse2019-materials/tree/master/notebooks). You can find the Binder hosted cloud based notebooks [here](https://gke.mybinder.org/v2/gh/ueapy/pythoncourse2019-materials/master)."
   ]
  },
  {
   "cell_type": "markdown",
   "metadata": {},
   "source": [
    "-------------\n",
    "### Course evaluation (2 mins)"
   ]
  },
  {
   "cell_type": "markdown",
   "metadata": {},
   "source": [
    "This is the first year we are running this course. Feedback to improve it for next time would be greatly appreciated! \n",
    "\n",
    "https://forms.gle/6SgtzwVdJPQ4E25m8"
   ]
  },
  {
   "cell_type": "markdown",
   "metadata": {},
   "source": [
    "To join the UEA Scientific Python mailing list and recieve info on all things Python at UEA, drop me an email c.rollo@uea.ac.uk\n",
    "\n",
    "We meet every month or so for demonstrations/tutorials, drop in coding sessions and informal pub chats"
   ]
  }
 ],
 "metadata": {
  "kernelspec": {
   "display_name": "Python 3",
   "language": "python",
   "name": "python3"
  },
  "language_info": {
   "codemirror_mode": {
    "name": "ipython",
    "version": 3
   },
   "file_extension": ".py",
   "mimetype": "text/x-python",
   "name": "python",
   "nbconvert_exporter": "python",
   "pygments_lexer": "ipython3",
   "version": "3.7.3"
  }
 },
 "nbformat": 4,
 "nbformat_minor": 2
}
