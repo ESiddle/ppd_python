{
 "cells": [
  {
   "cell_type": "markdown",
   "metadata": {},
   "source": [
    "# A brief glance at the wider Python data visualisation landscape\n",
    "One of the strengths of Python is its community and the numerous packages at your disposal. As a result, there is a wide range of figure making libraries out there.\n",
    "![The Python visualization landscape](../figures/python_visualization_landscape22.png)\n",
    "\n",
    "Now that we are nearing the end, sit back and relax and take a brief look at the possibilities that different Python packages offer for figure making. "
   ]
  },
  {
   "cell_type": "markdown",
   "metadata": {},
   "source": [
    "Generally, if you have an idea of what kind of graph you'd like to make but you aren't sure what Python tools you can use for it, (even though it's not entirely up to date) it's worth taking a look at [The Python Graph Gallery](https://python-graph-gallery.com/). \n",
    "\n",
    "Making maps: \n",
    "- [Cartopy](https://scitools.org.uk/cartopy/docs/latest/): high quality static maps, builds on matplotlib.\n",
    "- [Folium](https://python-visualization.github.io/folium/): for interactive maps, based on the JavaScript library leaflet.js.\n",
    "- [Plotly maps](https://plotly.com/python/maps/): for easy interactive maps, based on the JavaScript library D3.js.\n",
    "- [pyproj](https://pyproj4.github.io/pyproj/stable/) (not a plotting library): if you need to transform your spatial data to another coordinate reference system/geographic projection, see also [Callum's tutorial on the UEA Python website](https://ueapy.github.io/making-a-geographic-grid-with-pyproj.html).\n",
    "\n",
    "Other plotting libraries with more or less specific purposes: \n",
    "- BioPython's [GenomeDiagram]()\n",
    "- [NetworkX](https://networkx.org/documentation/stable/): for working with and displaying network data\n",
    "- ...\n",
    "\n",
    "General purpose plotting libraries: \n",
    "- [matplotlib](https://matplotlib.org/), of course!\n",
    "- [plotnine](https://plotnine.readthedocs.io/en/stable/): Grammar of graphics. Python's answer to R's ggplot2, will feel very familiar for R users!\n",
    "- [seaborn](https://seaborn.pydata.org/index.html): see Notebook 6.\n",
    "\n",
    "Interactive plots and dashboards:\n",
    "- [plotly](https://plotly.com/python/) and its high level wrapper [plotly express](https://plotly.com/python/plotly-express/): interactive, publication-quality graphs\n",
    "  - [Dash](https://dash-gallery.plotly.host/Portal/): interactive dashboards apps, builds on plotly. Comparable to R's Shiny.\n",
    "- [Bokeh](https://docs.bokeh.org/en/latest/index.html): interactive visualisations for modern web browsers."
   ]
  },
  {
   "cell_type": "markdown",
   "metadata": {},
   "source": [
    "# That's all folks!"
   ]
  },
  {
   "cell_type": "markdown",
   "metadata": {},
   "source": [
    "Now is your time to look back over the notebooks and ask us about anything you're unsure of. You can experiment with your own data, try to import it to Python and plot it up. Feel free to ask the instructors for help "
   ]
  },
  {
   "cell_type": "markdown",
   "metadata": {},
   "source": [
    "---------\n",
    "### Further reading and useful resources"
   ]
  },
  {
   "cell_type": "markdown",
   "metadata": {},
   "source": [
    "Much of this short course is condensed/stolen from the UEA Cefas 3 day \"Python for data science\" course. The materials are available as jupyter notebooks [here](https://github.com/ueapy/pythoncourse2019-materials/tree/master/notebooks). You can find the Binder hosted cloud based notebooks [here](https://gke.mybinder.org/v2/gh/ueapy/pythoncourse2019-materials/master)."
   ]
  },
  {
   "cell_type": "markdown",
   "metadata": {},
   "source": [
    "-------------\n",
    "### Course evaluation (2 mins)"
   ]
  },
  {
   "cell_type": "markdown",
   "metadata": {},
   "source": [
    "Your feedback helps us improve this course and is greatly appreciated: "
   ]
  },
  {
   "cell_type": "markdown",
   "metadata": {},
   "source": [
    "---\n",
    "# Join the UEA scientific Python user group"
   ]
  },
  {
   "cell_type": "markdown",
   "metadata": {},
   "source": [
    "To join the UEA scientific Python mailing list and recieve info on all things Python at UEA, let me know or drop Callum an email at C.Rollo@uea.ac.uk. \n",
    "\n",
    "We have weekly coding drop in sessions on our Slack workspace, where we share what we're working on and are there to answer each other's questions. We also have demonstrations/tutorials every month or so, depending on supply and demand. You can get a taste of previous tutorials on our [website](https://ueapy.github.io/)."
   ]
  },
  {
   "cell_type": "code",
   "execution_count": null,
   "metadata": {},
   "outputs": [],
   "source": []
  }
 ],
 "metadata": {
  "kernelspec": {
   "display_name": "Python 3",
   "language": "python",
   "name": "python3"
  },
  "language_info": {
   "codemirror_mode": {
    "name": "ipython",
    "version": 3
   },
   "file_extension": ".py",
   "mimetype": "text/x-python",
   "name": "python",
   "nbconvert_exporter": "python",
   "pygments_lexer": "ipython3",
   "version": "3.8.5"
  }
 },
 "nbformat": 4,
 "nbformat_minor": 2
}
