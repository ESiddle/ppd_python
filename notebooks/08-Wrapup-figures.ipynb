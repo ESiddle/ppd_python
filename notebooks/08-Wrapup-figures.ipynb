{
 "cells": [
  {
   "cell_type": "markdown",
   "metadata": {},
   "source": [
    "# A brief glance at the wider Python datavis landscape\n",
    "In this session, you have been able to get your hands dirty making figures in Python with matplotlib, seaborn and cartopy. One of the strengths of Python is its community and the number of packages at your disposal. As a result, there is a wide range of figure making libraries out there, which can end up being confusing.\n",
    "![The Python visualization landscape](../figures/python_visualization_landscape22.png)\n",
    "\n",
    "Now that we are nearing the end, it is time for you to sit back and relax and take a brief look at the possibilities that different Python packages offer for figure making. "
   ]
  },
  {
   "cell_type": "markdown",
   "metadata": {},
   "source": [
    "Generally, if you have an idea of what kind of graph you'd like to make but you aren't sure what Python tools you can use for it, it's worth taking a look at [The Python Graph Gallery](https://python-graph-gallery.com/). As this webiste is not entirely up to date or complete, see also the lists below.\n",
    "\n",
    "Making maps: \n",
    "- [Cartopy](https://scitools.org.uk/cartopy/docs/latest/): high quality static maps, builds on matplotlib.\n",
    "- [rasterio](https://rasterio.readthedocs.io/en/latest/): for raster data, \n",
    "- [geopandas](https://geopandas.org/): for vector data,\n",
    "- [Folium](https://python-visualization.github.io/folium/): for interactive maps, based on the JavaScript library leaflet.js.\n",
    "- [Plotly maps](https://plotly.com/python/maps/): for interactive maps, based on the JavaScript library D3.js.\n",
    "- [pyproj](https://pyproj4.github.io/pyproj/stable/) (not a plotting library): if you need to transform your spatial data to another coordinate reference system/geographic projection, see also [Callum's tutorial on the UEA Python website](https://ueapy.github.io/making-a-geographic-grid-with-pyproj.html).\n",
    "\n",
    "Other plotting libraries with more or less specific purposes: \n",
    "- BioPython's [GenomeDiagram]()\n",
    "- [NetworkX](https://networkx.org/documentation/stable/): for working with and displaying network data\n",
    "\n",
    "More general purpose plotting libraries: \n",
    "- [plotnine](https://plotnine.readthedocs.io/en/stable/) (Python's answer to R's ggplot2, will feel very familiar for R users!)\n",
    "- [seaborn]: \n",
    "- [plotly] and [plotly express]: "
   ]
  },
  {
   "cell_type": "markdown",
   "metadata": {},
   "source": [
    "# That's all folks!"
   ]
  },
  {
   "cell_type": "markdown",
   "metadata": {},
   "source": [
    "Now is your time to look back over the notebooks and ask us about anything you're unsure of. You can experiment with your own data, try to import it to Python and plot it up. Feel free to ask the instructors for help "
   ]
  },
  {
   "cell_type": "markdown",
   "metadata": {},
   "source": [
    "---------\n",
    "### Further reading and useful resources"
   ]
  },
  {
   "cell_type": "markdown",
   "metadata": {},
   "source": [
    "Much of this short course is condensed/stolen from the UEA Cefas 3 day \"Python for data science\" course. The materials are available as jupyter notebooks [here](https://github.com/ueapy/pythoncourse2019-materials/tree/master/notebooks). You can find the Binder hosted cloud based notebooks [here](https://gke.mybinder.org/v2/gh/ueapy/pythoncourse2019-materials/master)."
   ]
  },
  {
   "cell_type": "markdown",
   "metadata": {},
   "source": [
    "-------------\n",
    "### Course evaluation (2 mins)"
   ]
  },
  {
   "cell_type": "markdown",
   "metadata": {},
   "source": [
    "This is the first year we are running this course. Feedback to improve it for next time would be greatly appreciated! \n",
    "\n",
    "https://forms.gle/6SgtzwVdJPQ4E25m8"
   ]
  },
  {
   "cell_type": "markdown",
   "metadata": {},
   "source": [
    "To join the UEA scientific Python user group on Slack send ma, To join the UEA scientific Python mailing list and recieve info on all things Python at UEA, drop Callum an email c.rollo@uea.ac.uk.\n",
    "\n",
    "We meet every month or so for demonstrations/tutorials, drop in coding sessions and informal pub chats"
   ]
  }
 ],
 "metadata": {
  "kernelspec": {
   "display_name": "Python 3",
   "language": "python",
   "name": "python3"
  },
  "language_info": {
   "codemirror_mode": {
    "name": "ipython",
    "version": 3
   },
   "file_extension": ".py",
   "mimetype": "text/x-python",
   "name": "python",
   "nbconvert_exporter": "python",
   "pygments_lexer": "ipython3",
   "version": "3.8.5"
  }
 },
 "nbformat": 4,
 "nbformat_minor": 2
}
