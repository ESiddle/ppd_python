{
 "cells": [
  {
   "cell_type": "markdown",
   "metadata": {
    "slideshow": {
     "slide_type": "slide"
    }
   },
   "source": [
    "# The netCDF file format"
   ]
  },
  {
   "cell_type": "markdown",
   "metadata": {},
   "source": [
    "* popular scientific file format for ocean and atmospere gridded datasets\n",
    "* netCDF is a collection of formats for storing arrays\n",
    "\n",
    "    * netCDF classic\n",
    "        * more widespread\n",
    "        * 2 GB file limit (if you don't use the unlimited dimension)\n",
    "        * often preffered for distributing products\n",
    "\n",
    "    * netCDF 64 bit offset\n",
    "        * supports larger files\n",
    "\n",
    "    * NetCDF4\n",
    "        * based on HDF5\n",
    "        * compression\n",
    "        * multiple unlimited variables\n",
    "        * new types inc. user defined\n",
    "        * herarchical groups\n",
    "        \n",
    "        \n",
    "\n",
    "* Developed by Unidata-UCAR with the aim of storing climate model data (3D+time)\n",
    "* Auxilary information about each variable can be added\n",
    "* Readable text equivalent called CDL (use ncdump/ncgen)\n",
    "* Can be used with Climate and Forecast (CF) data convention\n",
    "http://cfconventions.org/"
   ]
  },
  {
   "cell_type": "markdown",
   "metadata": {
    "slideshow": {
     "slide_type": "subslide"
    }
   },
   "source": [
    "## Data model:\n",
    "\n",
    "* Dimensions:describe the axes of the data arrays.\n",
    "* Variables: N-dimensional arrays of data.\n",
    "* Attributes: annotate variables or files with small notes or supplementary metadata.\n",
    "\n",
    "Example for an ocean model dataset:\n",
    "\n",
    "* Dimensions\n",
    "    * lat\n",
    "    * lon\n",
    "    * depth\n",
    "    * time\n",
    "* Variable\n",
    "    * Temperature\n",
    "    * Salinity\n",
    "* Global Attibutes\n",
    "    * Geographic grid type\n",
    "    * History\n",
    "\n",
    "\n",
    "\n",
    "* Variable attributes (Temperature)\n",
    "    * Long_name: \"sea water temperature\" \n",
    "    * Missing_value: 1.09009E36\n",
    "    * Units: deg. C\n",
    "    * range: -2:50"
   ]
  },
  {
   "cell_type": "markdown",
   "metadata": {},
   "source": [
    "## Example dataset structure\n",
    "http://xarray.pydata.org/en/stable/data-structures.html\n",
    "\n",
    "<br>\n",
    "<img src=\"../figures/dataset-diagram.png\">\n"
   ]
  },
  {
   "cell_type": "markdown",
   "metadata": {
    "slideshow": {
     "slide_type": "subslide"
    }
   },
   "source": [
    "## Python packages\n",
    "* The main Python interface to the netCDF C library is [netCDF4](http://unidata.github.io/netcdf4-python/) package\n",
    "* In this tutorial, however, we will use a more high-level package that has a **pandas-like API**: [xarray](http://xarray.pydata.org/en/stable/index.html).\n",
    "* Another good package is [iris](http://scitools.org.uk/iris/)."
   ]
  },
  {
   "cell_type": "markdown",
   "metadata": {
    "slideshow": {
     "slide_type": "slide"
    }
   },
   "source": [
    "# Working with netCDF files using xarray"
   ]
  },
  {
   "cell_type": "markdown",
   "metadata": {},
   "source": [
    "* Alternative to plain netCDF4 access from python. \n",
    "\n",
    "* Brings the power of pandas to environmental sciences, by providing N-dimensional variants of the core pandas data structures:\n",
    "\n",
    "* worth using for multidimensional data even when not using \n",
    "\n",
    "| Pandas | xarray  |\n",
    "|---|---|\n",
    "| Series  | DataArray  |\n",
    "| DataFrame  | Dataset  |\n",
    "\n",
    "\n",
    "DataArray uses names of dimensions making it easier to track than by using axis numbers. It is possible to write:\n",
    "\n",
    "`da.sel(time='2000-01-01')` or `da.mean(dim='time')`\n",
    "intead of ``df.mean(0)``\n",
    "\n",
    "HTML documentation: http://xarray.pydata.org/"
   ]
  },
  {
   "cell_type": "markdown",
   "metadata": {},
   "source": [
    "Thus, xarray operations allow you to use names, not numbers!\n",
    "Compare:\n",
    "```python\n",
    "# xarray style\n",
    ">>> ds.sel(time='2018-01-12').max(dim='ensemble')\n",
    "\n",
    "# numpy style\n",
    ">>> array[[0, 1, 2, 3], :, :].max(axis=2)\n",
    "```\n",
    "\n",
    "(Taken from Stephan Hoyer's [ECMWF talk](https://docs.google.com/presentation/d/16CMY3g_OYr6fQplUZIDqVtG-SKZqsG8Ckwoj2oOqepU/edit#slide=id.g2b68f9254d_1_27))"
   ]
  },
  {
   "cell_type": "markdown",
   "metadata": {},
   "source": [
    "### The main advantages of using xarray versus plain netCDF4 are:\n",
    "\n",
    "* intelligent selection along labelled dimensions (and also indexes)\n",
    "* groupby operations\n",
    "* data alignment\n",
    "* IO (netcdf)\n",
    "* conversion from and to Pandas.DataFrames"
   ]
  },
  {
   "cell_type": "code",
   "execution_count": null,
   "metadata": {},
   "outputs": [],
   "source": [
    "# Import everything that we are going to need\n",
    "import pandas as pd\n",
    "import xarray as xr\n",
    "import numpy as np"
   ]
  },
  {
   "cell_type": "markdown",
   "metadata": {},
   "source": [
    "## Import a local dataset"
   ]
  },
  {
   "cell_type": "code",
   "execution_count": null,
   "metadata": {},
   "outputs": [],
   "source": [
    "GETM = xr.open_dataset('../data/cefas_GETM_nwes.nc4')\n",
    "GETM"
   ]
  },
  {
   "cell_type": "markdown",
   "metadata": {},
   "source": [
    "We can see that this file holds bathymetryic, height and tempearture data for a gridded area of the North West European Shelf"
   ]
  },
  {
   "cell_type": "code",
   "execution_count": null,
   "metadata": {},
   "outputs": [],
   "source": [
    "GETM.dims"
   ]
  },
  {
   "cell_type": "markdown",
   "metadata": {},
   "source": [
    "We can print these dimensions to see the extend of the netCDF"
   ]
  },
  {
   "cell_type": "code",
   "execution_count": null,
   "metadata": {},
   "outputs": [],
   "source": [
    "GETM.latc\n",
    "#GETM.lonc\n",
    "#GETM.time\n",
    "#GETM.level"
   ]
  },
  {
   "cell_type": "code",
   "execution_count": null,
   "metadata": {},
   "outputs": [],
   "source": [
    "print(type(GETM.coords['latc']))\n",
    "GETM.coords['latc'].shape"
   ]
  },
  {
   "cell_type": "code",
   "execution_count": null,
   "metadata": {},
   "outputs": [],
   "source": [
    "# List name of dataset attributes\n",
    "GETM.attrs.keys()"
   ]
  },
  {
   "cell_type": "code",
   "execution_count": null,
   "metadata": {},
   "outputs": [],
   "source": [
    "# List variable names\n",
    "GETM.data_vars.keys()"
   ]
  },
  {
   "cell_type": "markdown",
   "metadata": {},
   "source": [
    "This tells  us that bathymetry is 2D, varying only wiht lat and lon. Height and temp are 4D, varying with time and model level as well"
   ]
  },
  {
   "cell_type": "markdown",
   "metadata": {},
   "source": [
    "Extract variable from dataset"
   ]
  },
  {
   "cell_type": "code",
   "execution_count": null,
   "metadata": {},
   "outputs": [],
   "source": [
    "temp = GETM['temp']\n",
    "print(type( temp ))\n",
    "temp.shape"
   ]
  },
  {
   "cell_type": "markdown",
   "metadata": {},
   "source": [
    "Access variable attributes"
   ]
  },
  {
   "cell_type": "code",
   "execution_count": null,
   "metadata": {},
   "outputs": [],
   "source": [
    "# print variable attributes\n",
    "\n",
    "for at, val in temp.attrs.items():\n",
    "    print(f'{at:<15}: {val}')"
   ]
  },
  {
   "cell_type": "markdown",
   "metadata": {},
   "source": [
    "## Accessing data values"
   ]
  },
  {
   "cell_type": "code",
   "execution_count": null,
   "metadata": {},
   "outputs": [],
   "source": [
    "temp[0, 0, 90, 100]"
   ]
  },
  {
   "cell_type": "code",
   "execution_count": null,
   "metadata": {},
   "outputs": [],
   "source": [
    "temp.values[0, 0, 90, 100]"
   ]
  },
  {
   "cell_type": "markdown",
   "metadata": {},
   "source": [
    "## Indexing and selecting data\n",
    "\n",
    "From http://xarray.pydata.org/\n",
    "<br>\n",
    "<img src=\"../figures/xarray_indexing_table.png\">"
   ]
  },
  {
   "cell_type": "code",
   "execution_count": null,
   "metadata": {},
   "outputs": [],
   "source": [
    "#positional by integer\n",
    "print( temp[0, 2, :, :].shape )\n",
    "\n",
    "# positional by label\n",
    "print( temp.loc['1996-02-02T01:00:00', :, :, :].shape )\n",
    "\n",
    "# by name and integer\n",
    "print( temp.isel(level=1, latc=90, lonc=100).shape )\n",
    "\n",
    "# by name and label\n",
    "print( temp.sel(time='1996-02-02T01:00:00').shape )\n",
    "#temp.loc"
   ]
  },
  {
   "cell_type": "markdown",
   "metadata": {},
   "source": [
    "### Define selection using nearest value"
   ]
  },
  {
   "cell_type": "code",
   "execution_count": null,
   "metadata": {},
   "outputs": [],
   "source": [
    "#GETM.sel(level=1)['temp']\n",
    "GETM['temp'].sel(level=2, lonc=-5.0, latc=50.0, method='nearest')"
   ]
  },
  {
   "cell_type": "code",
   "execution_count": null,
   "metadata": {},
   "outputs": [],
   "source": [
    "# Use tolerance for label selection (lat=-50 should not yield data)\n",
    "tol = 0.5\n",
    "\n",
    "try:\n",
    "    GETM['temp'].sel(level=1, lonc=-5.0, latc=-50.0, method='nearest', tolerance=tol)\n",
    "except KeyError:\n",
    "    print(f'ERROR: outside tolerance of {tol}')"
   ]
  },
  {
   "cell_type": "markdown",
   "metadata": {},
   "source": [
    "## Plotting"
   ]
  },
  {
   "cell_type": "code",
   "execution_count": null,
   "metadata": {},
   "outputs": [],
   "source": [
    "%matplotlib inline\n",
    "import matplotlib.pyplot as plt\n",
    "import cartopy\n",
    "import cartopy.crs as ccrs"
   ]
  },
  {
   "cell_type": "markdown",
   "metadata": {},
   "source": [
    "Define a general mapping function using cartopy"
   ]
  },
  {
   "cell_type": "code",
   "execution_count": null,
   "metadata": {},
   "outputs": [],
   "source": [
    "#def make_map(ds, var='', title=None, units=None):\n",
    "def make_map():\n",
    "    # create figure and axes instances\n",
    "    fig = plt.figure()\n",
    "    ax = fig.add_subplot(111, projection=ccrs.Stereographic(central_latitude=60))\n",
    "    #ax.coastlines(resolution='50m', linewidth=0.5)\n",
    "    ax.set_extent([-10, 15, 49, 60], crs=ccrs.PlateCarree())\n",
    "    \n",
    "    gl = ax.gridlines(draw_labels=False)\n",
    "    \n",
    "    feature = cartopy.feature.NaturalEarthFeature(name='coastline',\n",
    "                                                  category='physical',\n",
    "                                                  scale='50m',\n",
    "                                                  edgecolor='0.5',\n",
    "                                                  facecolor='0.8')\n",
    "    ax.add_feature(feature)\n",
    "    return fig, ax\n",
    "\n",
    "make_map();"
   ]
  },
  {
   "cell_type": "code",
   "execution_count": null,
   "metadata": {},
   "outputs": [],
   "source": [
    "latc = GETM.coords['latc']\n",
    "lonc = GETM.coords['lonc']\n",
    "\n",
    "var = GETM.temp.sel(time='1996-02-02T01:00:00', level=21)\n",
    "\n",
    "# create arrays of coordinates for contourf\n",
    "# lon2d, lat2d = np.meshgrid(lonc, latc)\n",
    "\n",
    "fig, ax = make_map()\n",
    "# draw filled contours.\n",
    "h = ax.contourf(lonc, latc, var, 50, cmap=plt.cm.coolwarm, transform=ccrs.PlateCarree())\n",
    "\n",
    "# add colorbar.\n",
    "cbar = fig.colorbar(h)\n",
    "cbar.set_label(var.units)\n",
    "\n",
    "# add title\n",
    "ax.set_title(f'A slice of {var.long_name}');"
   ]
  },
  {
   "cell_type": "code",
   "execution_count": null,
   "metadata": {},
   "outputs": [],
   "source": [
    "# But often, this will do\n",
    "#GETM.temp.isel(time=0, level=0).plot();\n",
    "GETM.temp.sel(time='1996-02-02T01:00:00', level=21).plot();"
   ]
  },
  {
   "cell_type": "markdown",
   "metadata": {},
   "source": [
    "## Arithmetic operations"
   ]
  },
  {
   "cell_type": "code",
   "execution_count": null,
   "metadata": {},
   "outputs": [],
   "source": [
    "top = GETM['temp'].isel(time=0, level=4)\n",
    "bottom = GETM['temp'].isel(time=0, level=0)\n",
    "\n",
    "diff = top - bottom\n",
    "\n",
    "diff.plot()"
   ]
  },
  {
   "cell_type": "markdown",
   "metadata": {},
   "source": [
    "### Calculate average along a dimension"
   ]
  },
  {
   "cell_type": "code",
   "execution_count": null,
   "metadata": {},
   "outputs": [],
   "source": [
    "# average over time\n",
    "time_ave = GETM['temp'].mean('time')\n",
    "\n",
    "#average over time and level (vertical)\n",
    "time_and_level_ave = GETM['temp'].mean(['time','level'])\n",
    "\n",
    "time_and_level_ave.plot()"
   ]
  },
  {
   "cell_type": "code",
   "execution_count": null,
   "metadata": {},
   "outputs": [],
   "source": [
    "#zonal average (vertical)\n",
    "timelon_ave = GETM['temp'].mean(['time','lonc']).isel(level=4)\n",
    "\n",
    "timelon_ave.plot()"
   ]
  },
  {
   "cell_type": "markdown",
   "metadata": {},
   "source": [
    "Using **xarray** we have the data access power of **netCDF4** with all the intelligent selection, arithmetic, statistical methods and plotting of **pandas**"
   ]
  },
  {
   "cell_type": "markdown",
   "metadata": {},
   "source": [
    "## A dataset can easily be saved to a netCDF file"
   ]
  },
  {
   "cell_type": "code",
   "execution_count": null,
   "metadata": {},
   "outputs": [],
   "source": [
    "ds = GETM[['temp']].mean('time','level')\n",
    "ds.to_netcdf('../data/temp_avg_level_time.nc')"
   ]
  },
  {
   "cell_type": "markdown",
   "metadata": {},
   "source": [
    "## Exercise\n",
    "\n",
    "* Extract the bathymetry\n",
    "* Extract the time averaged seabed temperature (level=0)\n",
    "* Produce a scatter plot of depth vs. seabed temperature\n"
   ]
  },
  {
   "cell_type": "code",
   "execution_count": null,
   "metadata": {},
   "outputs": [],
   "source": [
    "GETM.data_vars.keys()"
   ]
  },
  {
   "cell_type": "code",
   "execution_count": null,
   "metadata": {},
   "outputs": [],
   "source": [
    "# Your code here"
   ]
  },
  {
   "cell_type": "code",
   "execution_count": null,
   "metadata": {},
   "outputs": [],
   "source": []
  },
  {
   "cell_type": "code",
   "execution_count": null,
   "metadata": {},
   "outputs": [],
   "source": []
  },
  {
   "cell_type": "code",
   "execution_count": null,
   "metadata": {},
   "outputs": [],
   "source": []
  },
  {
   "cell_type": "code",
   "execution_count": null,
   "metadata": {},
   "outputs": [],
   "source": [
    "# Scroll down for a solution"
   ]
  },
  {
   "cell_type": "code",
   "execution_count": null,
   "metadata": {},
   "outputs": [],
   "source": []
  },
  {
   "cell_type": "code",
   "execution_count": null,
   "metadata": {},
   "outputs": [],
   "source": []
  },
  {
   "cell_type": "code",
   "execution_count": null,
   "metadata": {},
   "outputs": [],
   "source": []
  },
  {
   "cell_type": "code",
   "execution_count": null,
   "metadata": {},
   "outputs": [],
   "source": [
    "# First get the bathy and temp data\n",
    "bathy=GETM['bathymetry']\n",
    "temp_bott=GETM['temp'].mean('time').isel(level=0)"
   ]
  },
  {
   "cell_type": "code",
   "execution_count": null,
   "metadata": {},
   "outputs": [],
   "source": [
    "bathy.plot();"
   ]
  },
  {
   "cell_type": "code",
   "execution_count": null,
   "metadata": {},
   "outputs": [],
   "source": [
    "bedtemp.plot()"
   ]
  },
  {
   "cell_type": "code",
   "execution_count": null,
   "metadata": {},
   "outputs": [],
   "source": [
    "# Make a simple scatter plot\n",
    "fig, ax = plt.subplots()\n",
    "ax.scatter(bathy,bedtemp,marker='.',s=1.0)\n",
    "ax.set_xlabel('Bathymetry (m)')\n",
    "ax.set_ylabel('Bottom temperature (deg. C)');"
   ]
  },
  {
   "cell_type": "markdown",
   "metadata": {},
   "source": [
    "## Import remote dataset\n",
    "\n",
    "xarray supports OpenDAP. This means that a dataset can be accessed remotely and subsetted as needed. Only the selected parts are downloaded."
   ]
  },
  {
   "cell_type": "code",
   "execution_count": null,
   "metadata": {},
   "outputs": [],
   "source": [
    "remote_data = xr.open_dataset(\n",
    "      'http://iridl.ldeo.columbia.edu/SOURCES/.OSU/.PRISM/.monthly/dods',\n",
    "      decode_times=False)\n",
    "remote_data"
   ]
  },
  {
   "cell_type": "markdown",
   "metadata": {},
   "source": [
    "# Excercise:\n",
    "Import data from a netCDF or csv file and start exploring it. Some ideas:\n",
    "- Use pandas to get quick statistics\n",
    "- Do some data cleaning and calculations wtih numpy\n",
    "- Plot it up with matplotlib, pandas, seaborn or cartopy as you prefer\n",
    "\n",
    "I encourage you to use your own data if you have some. If not, we have some sample datasets you can explore:"
   ]
  },
  {
   "cell_type": "markdown",
   "metadata": {},
   "source": [
    "### Earthquake data (csv file)\n",
    "US Geological Survey (USGS) provides various [earthquakes data](https://earthquake.usgs.gov/data/data.php#eq) on a global scale. Its Earthquake Catalog contains earthquake source parameters (e.g. hypocenters, magnitudes, phase picks and amplitudes) and other products (e.g. moment tensor solutions, macroseismic information, tectonic summaries, maps) produced by contributing seismic networks.\n",
    "\n",
    "If you follow this [link](http://earthquake.usgs.gov/earthquakes/search/), you can search throught the catalog and filter data by the magnitude, time and geographic region. In the `data/` folder, we provide an [example dataset](../data/earthquakes_2015_2016_gt45.csv) of earthquakes with magnitude >4.5 that occurred around the world over the period of a year.\n",
    "\n",
    "To get you started, the following cell loads the data into a pandas DataFrame"
   ]
  },
  {
   "cell_type": "code",
   "execution_count": null,
   "metadata": {},
   "outputs": [],
   "source": [
    "#import pandas as pd\n",
    "#df = pd.read_csv('../data/earthquakes_2015_2016_gt45.csv', parse_dates = ['time',], index_col='time')\n",
    "#df.head()"
   ]
  },
  {
   "cell_type": "markdown",
   "metadata": {},
   "source": [
    "If you want to build your project on these data, some possible ideas are:\n",
    "* `pandas` package will be most useful to read in the data, as well as analyse them\n",
    "* Use `cartopy` to plot the data using longitude and latitude columns\n",
    "* Explore `pandas`' `groupby()` method, which you can use to aggregate data by time or other parameter\n",
    "* Create a histogram of earthquakes magnitude"
   ]
  },
  {
   "cell_type": "markdown",
   "metadata": {},
   "source": [
    "### Arctic Sea Ice (netCDF files)\n",
    "* In this project you are offered to use NOAA/NSIDC Climate Data Record of Passive Microwave Sea Ice Concentration.\n",
    "* In the `../data/` directory, there are 2 netCDF files `seaice_conc_monthly*` that correspond to September 1991  and September 2012 .\n",
    "* If you want to download data for other months, visit the [NSIDC's data portal](https://nsidc.org/data/search/#keywords=sea+ice/sortKeys=score,,desc/facetFilters=%257B%257D/pageNumber=1/itemsPerPage=25)."
   ]
  },
  {
   "cell_type": "markdown",
   "metadata": {},
   "source": [
    "For this project, I recommend that you:\n",
    "* use `xarray` for opening and reading the netCDF files\n",
    "* use `cartopy` for creating a plot with a correct map projection\n",
    "* use appropriate colormaps for the sea ice concentration and difference between the two years"
   ]
  },
  {
   "cell_type": "markdown",
   "metadata": {},
   "source": [
    "Some code to get you started:"
   ]
  },
  {
   "cell_type": "code",
   "execution_count": null,
   "metadata": {},
   "outputs": [],
   "source": [
    "#import cartopy.crs as ccrs\n",
    "#import matplotlib.pyplot as plt\n",
    "#import xarray as xr"
   ]
  },
  {
   "cell_type": "code",
   "execution_count": null,
   "metadata": {},
   "outputs": [],
   "source": [
    "#ds1 = xr.open_dataset('../data/seaice_conc_monthly_nh_f08_199109_v02r00.nc')\n",
    "#ds2 = xr.open_dataset('../data/seaice_conc_monthly_nh_f17_201209_v02r00.nc')"
   ]
  },
  {
   "cell_type": "code",
   "execution_count": null,
   "metadata": {},
   "outputs": [],
   "source": [
    "## Code for creating a map\n",
    "#fig = plt.figure()\n",
    "#ax = fig.add_subplot(111, projection=ccrs.???(central_longitude=0))\n",
    "#ax.coastlines(resolution='110m', linewidth=0.5)\n",
    "\n",
    "#ax.gridlines()\n",
    "#ax.set_extent([-180, 180, 40, 90], crs=ccrs.PlateCarree())"
   ]
  }
 ],
 "metadata": {
  "anaconda-cloud": {},
  "kernelspec": {
   "display_name": "Python 3",
   "language": "python",
   "name": "python3"
  },
  "language_info": {
   "codemirror_mode": {
    "name": "ipython",
    "version": 3
   },
   "file_extension": ".py",
   "mimetype": "text/x-python",
   "name": "python",
   "nbconvert_exporter": "python",
   "pygments_lexer": "ipython3",
   "version": "3.7.3"
  }
 },
 "nbformat": 4,
 "nbformat_minor": 1
}
