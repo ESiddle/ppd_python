{
 "cells": [
  {
   "cell_type": "markdown",
   "metadata": {
    "slideshow": {
     "slide_type": "slide"
    }
   },
   "source": [
    "# The netCDF file format"
   ]
  },
  {
   "cell_type": "markdown",
   "metadata": {},
   "source": [
    "* popular scientific file format for ocean and atmospere gridded datasets\n",
    "* netCDF is a collection of formats for storing arrays\n",
    "\n",
    "    * netCDF classic\n",
    "        * more widespread\n",
    "        * 2 GB file limit (if you don't use the unlimited dimension)\n",
    "        * often preffered for distributing products\n",
    "\n",
    "    * netCDF 64 bit offset\n",
    "        * supports larger files\n",
    "\n",
    "    * NetCDF4\n",
    "        * based on HDF5\n",
    "        * compression\n",
    "        * multiple unlimited variables\n",
    "        * new types inc. user defined\n",
    "        * herarchical groups\n",
    "        \n",
    "        \n",
    "\n",
    "* Developed by Unidata-UCAR with the aim of storing climate model data (3D+time)\n",
    "* Auxilary information about each variable can be added\n",
    "* Readable text equivalent called CDL (use ncdump/ncgen)\n",
    "* Can be used with Climate and Forecast (CF) data convention\n",
    "http://cfconventions.org/"
   ]
  },
  {
   "cell_type": "markdown",
   "metadata": {
    "slideshow": {
     "slide_type": "subslide"
    }
   },
   "source": [
    "## Data model:\n",
    "\n",
    "* Dimensions:describe the axes of the data arrays.\n",
    "* Variables: N-dimensional arrays of data.\n",
    "* Attributes: annotate variables or files with small notes or supplementary metadata.\n",
    "\n",
    "Example for an ocean model dataset:\n",
    "\n",
    "* Dimensions\n",
    "    * lat\n",
    "    * lon\n",
    "    * depth\n",
    "    * time\n",
    "* Variable\n",
    "    * Temperature\n",
    "    * Salinity\n",
    "* Global Attibutes\n",
    "    * Geographic grid type\n",
    "    * History\n",
    "\n",
    "\n",
    "\n",
    "* Variable attributes (Temperature)\n",
    "    * Long_name: \"sea water temperature\" \n",
    "    * Missing_value: 1.09009E36\n",
    "    * Units: deg. C\n",
    "    * range: -2:50"
   ]
  },
  {
   "cell_type": "markdown",
   "metadata": {},
   "source": [
    "## Example dataset structure\n",
    "http://xarray.pydata.org/en/stable/data-structures.html\n",
    "\n",
    "<br>\n",
    "<img src=\"../figures/dataset-diagram.png\">\n"
   ]
  },
  {
   "cell_type": "markdown",
   "metadata": {
    "slideshow": {
     "slide_type": "subslide"
    }
   },
   "source": [
    "## Python packages\n",
    "* The main Python interface to the netCDF C library is [netCDF4](http://unidata.github.io/netcdf4-python/) package\n",
    "* In this tutorial, however, we will use a more high-level package that has a **pandas-like API**: [xarray](http://xarray.pydata.org/en/stable/index.html).\n",
    "* Another good package is [iris](http://scitools.org.uk/iris/)."
   ]
  },
  {
   "cell_type": "markdown",
   "metadata": {
    "slideshow": {
     "slide_type": "slide"
    }
   },
   "source": [
    "# Working with netCDF files using xarray"
   ]
  },
  {
   "cell_type": "markdown",
   "metadata": {},
   "source": [
    "* Alternative to plain netCDF4 access from python. \n",
    "\n",
    "* Brings the power of pandas to environmental sciences, by providing N-dimensional variants of the core pandas data structures:\n",
    "\n",
    "* worth using for multidimensional data even when not using \n",
    "\n",
    "| Pandas | xarray  |\n",
    "|---|---|\n",
    "| Series  | DataArray  |\n",
    "| DataFrame  | Dataset  |\n",
    "\n",
    "\n",
    "DataArray uses names of dimensions making it easier to track than by using axis numbers. It is possible to write:\n",
    "\n",
    "`da.sel(time='2000-01-01')` or `da.mean(dim='time')`\n",
    "intead of ``df.mean(0)``\n",
    "\n",
    "HTML documentation: http://xarray.pydata.org/"
   ]
  },
  {
   "cell_type": "markdown",
   "metadata": {},
   "source": [
    "Thus, xarray operations allow you to use names, not numbers!\n",
    "Compare:\n",
    "```python\n",
    "# xarray style\n",
    ">>> ds.sel(time='2018-01-12').max(dim='ensemble')\n",
    "\n",
    "# numpy style\n",
    ">>> array[[0, 1, 2, 3], :, :].max(axis=2)\n",
    "```\n",
    "\n",
    "(Taken from Stephan Hoyer's [ECMWF talk](https://docs.google.com/presentation/d/16CMY3g_OYr6fQplUZIDqVtG-SKZqsG8Ckwoj2oOqepU/edit#slide=id.g2b68f9254d_1_27))"
   ]
  },
  {
   "cell_type": "markdown",
   "metadata": {},
   "source": [
    "### The main advantages of using xarray versus plain netCDF4 are:\n",
    "\n",
    "* intelligent selection along labelled dimensions (and also indexes)\n",
    "* groupby operations\n",
    "* data alignment\n",
    "* IO (netcdf)\n",
    "* conversion from and to Pandas.DataFrames"
   ]
  },
  {
   "cell_type": "code",
   "execution_count": 1,
   "metadata": {},
   "outputs": [],
   "source": [
    "# Import everything that we are going to need\n",
    "import pandas as pd\n",
    "import xarray as xr\n",
    "import numpy as np"
   ]
  },
  {
   "cell_type": "markdown",
   "metadata": {},
   "source": [
    "## Import a local dataset"
   ]
  },
  {
   "cell_type": "code",
   "execution_count": 2,
   "metadata": {},
   "outputs": [
    {
     "data": {
      "text/html": [
       "<div><svg style=\"position: absolute; width: 0; height: 0; overflow: hidden\">\n",
       "<defs>\n",
       "<symbol id=\"icon-database\" viewBox=\"0 0 32 32\">\n",
       "<path d=\"M16 0c-8.837 0-16 2.239-16 5v4c0 2.761 7.163 5 16 5s16-2.239 16-5v-4c0-2.761-7.163-5-16-5z\"></path>\n",
       "<path d=\"M16 17c-8.837 0-16-2.239-16-5v6c0 2.761 7.163 5 16 5s16-2.239 16-5v-6c0 2.761-7.163 5-16 5z\"></path>\n",
       "<path d=\"M16 26c-8.837 0-16-2.239-16-5v6c0 2.761 7.163 5 16 5s16-2.239 16-5v-6c0 2.761-7.163 5-16 5z\"></path>\n",
       "</symbol>\n",
       "<symbol id=\"icon-file-text2\" viewBox=\"0 0 32 32\">\n",
       "<path d=\"M28.681 7.159c-0.694-0.947-1.662-2.053-2.724-3.116s-2.169-2.030-3.116-2.724c-1.612-1.182-2.393-1.319-2.841-1.319h-15.5c-1.378 0-2.5 1.121-2.5 2.5v27c0 1.378 1.122 2.5 2.5 2.5h23c1.378 0 2.5-1.122 2.5-2.5v-19.5c0-0.448-0.137-1.23-1.319-2.841zM24.543 5.457c0.959 0.959 1.712 1.825 2.268 2.543h-4.811v-4.811c0.718 0.556 1.584 1.309 2.543 2.268zM28 29.5c0 0.271-0.229 0.5-0.5 0.5h-23c-0.271 0-0.5-0.229-0.5-0.5v-27c0-0.271 0.229-0.5 0.5-0.5 0 0 15.499-0 15.5 0v7c0 0.552 0.448 1 1 1h7v19.5z\"></path>\n",
       "<path d=\"M23 26h-14c-0.552 0-1-0.448-1-1s0.448-1 1-1h14c0.552 0 1 0.448 1 1s-0.448 1-1 1z\"></path>\n",
       "<path d=\"M23 22h-14c-0.552 0-1-0.448-1-1s0.448-1 1-1h14c0.552 0 1 0.448 1 1s-0.448 1-1 1z\"></path>\n",
       "<path d=\"M23 18h-14c-0.552 0-1-0.448-1-1s0.448-1 1-1h14c0.552 0 1 0.448 1 1s-0.448 1-1 1z\"></path>\n",
       "</symbol>\n",
       "</defs>\n",
       "</svg>\n",
       "<style>/* CSS stylesheet for displaying xarray objects in jupyterlab.\n",
       " *\n",
       " */\n",
       "\n",
       ":root {\n",
       "  --xr-font-color0: var(--jp-content-font-color0, rgba(0, 0, 0, 1));\n",
       "  --xr-font-color2: var(--jp-content-font-color2, rgba(0, 0, 0, 0.54));\n",
       "  --xr-font-color3: var(--jp-content-font-color3, rgba(0, 0, 0, 0.38));\n",
       "  --xr-border-color: var(--jp-border-color2, #e0e0e0);\n",
       "  --xr-disabled-color: var(--jp-layout-color3, #bdbdbd);\n",
       "  --xr-background-color: var(--jp-layout-color0, white);\n",
       "  --xr-background-color-row-even: var(--jp-layout-color1, white);\n",
       "  --xr-background-color-row-odd: var(--jp-layout-color2, #eeeeee);\n",
       "}\n",
       "\n",
       "html[theme=dark],\n",
       "body.vscode-dark {\n",
       "  --xr-font-color0: rgba(255, 255, 255, 1);\n",
       "  --xr-font-color2: rgba(255, 255, 255, 0.54);\n",
       "  --xr-font-color3: rgba(255, 255, 255, 0.38);\n",
       "  --xr-border-color: #1F1F1F;\n",
       "  --xr-disabled-color: #515151;\n",
       "  --xr-background-color: #111111;\n",
       "  --xr-background-color-row-even: #111111;\n",
       "  --xr-background-color-row-odd: #313131;\n",
       "}\n",
       "\n",
       ".xr-wrap {\n",
       "  display: block;\n",
       "  min-width: 300px;\n",
       "  max-width: 700px;\n",
       "}\n",
       "\n",
       ".xr-text-repr-fallback {\n",
       "  /* fallback to plain text repr when CSS is not injected (untrusted notebook) */\n",
       "  display: none;\n",
       "}\n",
       "\n",
       ".xr-header {\n",
       "  padding-top: 6px;\n",
       "  padding-bottom: 6px;\n",
       "  margin-bottom: 4px;\n",
       "  border-bottom: solid 1px var(--xr-border-color);\n",
       "}\n",
       "\n",
       ".xr-header > div,\n",
       ".xr-header > ul {\n",
       "  display: inline;\n",
       "  margin-top: 0;\n",
       "  margin-bottom: 0;\n",
       "}\n",
       "\n",
       ".xr-obj-type,\n",
       ".xr-array-name {\n",
       "  margin-left: 2px;\n",
       "  margin-right: 10px;\n",
       "}\n",
       "\n",
       ".xr-obj-type {\n",
       "  color: var(--xr-font-color2);\n",
       "}\n",
       "\n",
       ".xr-sections {\n",
       "  padding-left: 0 !important;\n",
       "  display: grid;\n",
       "  grid-template-columns: 150px auto auto 1fr 20px 20px;\n",
       "}\n",
       "\n",
       ".xr-section-item {\n",
       "  display: contents;\n",
       "}\n",
       "\n",
       ".xr-section-item input {\n",
       "  display: none;\n",
       "}\n",
       "\n",
       ".xr-section-item input + label {\n",
       "  color: var(--xr-disabled-color);\n",
       "}\n",
       "\n",
       ".xr-section-item input:enabled + label {\n",
       "  cursor: pointer;\n",
       "  color: var(--xr-font-color2);\n",
       "}\n",
       "\n",
       ".xr-section-item input:enabled + label:hover {\n",
       "  color: var(--xr-font-color0);\n",
       "}\n",
       "\n",
       ".xr-section-summary {\n",
       "  grid-column: 1;\n",
       "  color: var(--xr-font-color2);\n",
       "  font-weight: 500;\n",
       "}\n",
       "\n",
       ".xr-section-summary > span {\n",
       "  display: inline-block;\n",
       "  padding-left: 0.5em;\n",
       "}\n",
       "\n",
       ".xr-section-summary-in:disabled + label {\n",
       "  color: var(--xr-font-color2);\n",
       "}\n",
       "\n",
       ".xr-section-summary-in + label:before {\n",
       "  display: inline-block;\n",
       "  content: '►';\n",
       "  font-size: 11px;\n",
       "  width: 15px;\n",
       "  text-align: center;\n",
       "}\n",
       "\n",
       ".xr-section-summary-in:disabled + label:before {\n",
       "  color: var(--xr-disabled-color);\n",
       "}\n",
       "\n",
       ".xr-section-summary-in:checked + label:before {\n",
       "  content: '▼';\n",
       "}\n",
       "\n",
       ".xr-section-summary-in:checked + label > span {\n",
       "  display: none;\n",
       "}\n",
       "\n",
       ".xr-section-summary,\n",
       ".xr-section-inline-details {\n",
       "  padding-top: 4px;\n",
       "  padding-bottom: 4px;\n",
       "}\n",
       "\n",
       ".xr-section-inline-details {\n",
       "  grid-column: 2 / -1;\n",
       "}\n",
       "\n",
       ".xr-section-details {\n",
       "  display: none;\n",
       "  grid-column: 1 / -1;\n",
       "  margin-bottom: 5px;\n",
       "}\n",
       "\n",
       ".xr-section-summary-in:checked ~ .xr-section-details {\n",
       "  display: contents;\n",
       "}\n",
       "\n",
       ".xr-array-wrap {\n",
       "  grid-column: 1 / -1;\n",
       "  display: grid;\n",
       "  grid-template-columns: 20px auto;\n",
       "}\n",
       "\n",
       ".xr-array-wrap > label {\n",
       "  grid-column: 1;\n",
       "  vertical-align: top;\n",
       "}\n",
       "\n",
       ".xr-preview {\n",
       "  color: var(--xr-font-color3);\n",
       "}\n",
       "\n",
       ".xr-array-preview,\n",
       ".xr-array-data {\n",
       "  padding: 0 5px !important;\n",
       "  grid-column: 2;\n",
       "}\n",
       "\n",
       ".xr-array-data,\n",
       ".xr-array-in:checked ~ .xr-array-preview {\n",
       "  display: none;\n",
       "}\n",
       "\n",
       ".xr-array-in:checked ~ .xr-array-data,\n",
       ".xr-array-preview {\n",
       "  display: inline-block;\n",
       "}\n",
       "\n",
       ".xr-dim-list {\n",
       "  display: inline-block !important;\n",
       "  list-style: none;\n",
       "  padding: 0 !important;\n",
       "  margin: 0;\n",
       "}\n",
       "\n",
       ".xr-dim-list li {\n",
       "  display: inline-block;\n",
       "  padding: 0;\n",
       "  margin: 0;\n",
       "}\n",
       "\n",
       ".xr-dim-list:before {\n",
       "  content: '(';\n",
       "}\n",
       "\n",
       ".xr-dim-list:after {\n",
       "  content: ')';\n",
       "}\n",
       "\n",
       ".xr-dim-list li:not(:last-child):after {\n",
       "  content: ',';\n",
       "  padding-right: 5px;\n",
       "}\n",
       "\n",
       ".xr-has-index {\n",
       "  font-weight: bold;\n",
       "}\n",
       "\n",
       ".xr-var-list,\n",
       ".xr-var-item {\n",
       "  display: contents;\n",
       "}\n",
       "\n",
       ".xr-var-item > div,\n",
       ".xr-var-item label,\n",
       ".xr-var-item > .xr-var-name span {\n",
       "  background-color: var(--xr-background-color-row-even);\n",
       "  margin-bottom: 0;\n",
       "}\n",
       "\n",
       ".xr-var-item > .xr-var-name:hover span {\n",
       "  padding-right: 5px;\n",
       "}\n",
       "\n",
       ".xr-var-list > li:nth-child(odd) > div,\n",
       ".xr-var-list > li:nth-child(odd) > label,\n",
       ".xr-var-list > li:nth-child(odd) > .xr-var-name span {\n",
       "  background-color: var(--xr-background-color-row-odd);\n",
       "}\n",
       "\n",
       ".xr-var-name {\n",
       "  grid-column: 1;\n",
       "}\n",
       "\n",
       ".xr-var-dims {\n",
       "  grid-column: 2;\n",
       "}\n",
       "\n",
       ".xr-var-dtype {\n",
       "  grid-column: 3;\n",
       "  text-align: right;\n",
       "  color: var(--xr-font-color2);\n",
       "}\n",
       "\n",
       ".xr-var-preview {\n",
       "  grid-column: 4;\n",
       "}\n",
       "\n",
       ".xr-var-name,\n",
       ".xr-var-dims,\n",
       ".xr-var-dtype,\n",
       ".xr-preview,\n",
       ".xr-attrs dt {\n",
       "  white-space: nowrap;\n",
       "  overflow: hidden;\n",
       "  text-overflow: ellipsis;\n",
       "  padding-right: 10px;\n",
       "}\n",
       "\n",
       ".xr-var-name:hover,\n",
       ".xr-var-dims:hover,\n",
       ".xr-var-dtype:hover,\n",
       ".xr-attrs dt:hover {\n",
       "  overflow: visible;\n",
       "  width: auto;\n",
       "  z-index: 1;\n",
       "}\n",
       "\n",
       ".xr-var-attrs,\n",
       ".xr-var-data {\n",
       "  display: none;\n",
       "  background-color: var(--xr-background-color) !important;\n",
       "  padding-bottom: 5px !important;\n",
       "}\n",
       "\n",
       ".xr-var-attrs-in:checked ~ .xr-var-attrs,\n",
       ".xr-var-data-in:checked ~ .xr-var-data {\n",
       "  display: block;\n",
       "}\n",
       "\n",
       ".xr-var-data > table {\n",
       "  float: right;\n",
       "}\n",
       "\n",
       ".xr-var-name span,\n",
       ".xr-var-data,\n",
       ".xr-attrs {\n",
       "  padding-left: 25px !important;\n",
       "}\n",
       "\n",
       ".xr-attrs,\n",
       ".xr-var-attrs,\n",
       ".xr-var-data {\n",
       "  grid-column: 1 / -1;\n",
       "}\n",
       "\n",
       "dl.xr-attrs {\n",
       "  padding: 0;\n",
       "  margin: 0;\n",
       "  display: grid;\n",
       "  grid-template-columns: 125px auto;\n",
       "}\n",
       "\n",
       ".xr-attrs dt,\n",
       ".xr-attrs dd {\n",
       "  padding: 0;\n",
       "  margin: 0;\n",
       "  float: left;\n",
       "  padding-right: 10px;\n",
       "  width: auto;\n",
       "}\n",
       "\n",
       ".xr-attrs dt {\n",
       "  font-weight: normal;\n",
       "  grid-column: 1;\n",
       "}\n",
       "\n",
       ".xr-attrs dt:hover span {\n",
       "  display: inline-block;\n",
       "  background: var(--xr-background-color);\n",
       "  padding-right: 10px;\n",
       "}\n",
       "\n",
       ".xr-attrs dd {\n",
       "  grid-column: 2;\n",
       "  white-space: pre-wrap;\n",
       "  word-break: break-all;\n",
       "}\n",
       "\n",
       ".xr-icon-database,\n",
       ".xr-icon-file-text2 {\n",
       "  display: inline-block;\n",
       "  vertical-align: middle;\n",
       "  width: 1em;\n",
       "  height: 1.5em !important;\n",
       "  stroke-width: 0;\n",
       "  stroke: currentColor;\n",
       "  fill: currentColor;\n",
       "}\n",
       "</style><pre class='xr-text-repr-fallback'>&lt;xarray.Dataset&gt;\n",
       "Dimensions:     (latc: 360, level: 5, lonc: 396, time: 6)\n",
       "Coordinates:\n",
       "  * latc        (latc) float64 45.4 45.45 45.5 45.55 ... 63.2 63.25 63.3 63.35\n",
       "  * level       (level) float64 1.0 6.0 11.0 16.0 21.0\n",
       "  * lonc        (lonc) float64 -17.5 -17.42 -17.34 -17.26 ... 13.94 14.02 14.1\n",
       "  * time        (time) datetime64[ns] 1996-02-01T01:00:00 ... 1996-02-06T01:0...\n",
       "Data variables:\n",
       "    bathymetry  (latc, lonc) float64 ...\n",
       "    h           (time, level, latc, lonc) float32 ...\n",
       "    temp        (time, level, latc, lonc) float32 ...\n",
       "Attributes:\n",
       "    title:                     North West European Shelf 3nm\n",
       "    history:                   Sun Nov 20 00:54:48 2016: ncks -v time,latc,lo...\n",
       "    NCO:                       4.4.8\n",
       "    nco_openmp_thread_number:  1</pre><div class='xr-wrap' hidden><div class='xr-header'><div class='xr-obj-type'>xarray.Dataset</div></div><ul class='xr-sections'><li class='xr-section-item'><input id='section-7bdfd0b3-8fbf-4d33-a9dd-046c541100d8' class='xr-section-summary-in' type='checkbox' disabled ><label for='section-7bdfd0b3-8fbf-4d33-a9dd-046c541100d8' class='xr-section-summary'  title='Expand/collapse section'>Dimensions:</label><div class='xr-section-inline-details'><ul class='xr-dim-list'><li><span class='xr-has-index'>latc</span>: 360</li><li><span class='xr-has-index'>level</span>: 5</li><li><span class='xr-has-index'>lonc</span>: 396</li><li><span class='xr-has-index'>time</span>: 6</li></ul></div><div class='xr-section-details'></div></li><li class='xr-section-item'><input id='section-eed10cce-d773-4cdf-a060-6ad6a13790d0' class='xr-section-summary-in' type='checkbox'  checked><label for='section-eed10cce-d773-4cdf-a060-6ad6a13790d0' class='xr-section-summary' >Coordinates: <span>(4)</span></label><div class='xr-section-inline-details'></div><div class='xr-section-details'><ul class='xr-var-list'><li class='xr-var-item'><div class='xr-var-name'><span class='xr-has-index'>latc</span></div><div class='xr-var-dims'>(latc)</div><div class='xr-var-dtype'>float64</div><div class='xr-var-preview xr-preview'>45.4 45.45 45.5 ... 63.3 63.35</div><input id='attrs-47e38a45-aaf8-434e-8dce-fbc7e8ea16aa' class='xr-var-attrs-in' type='checkbox' ><label for='attrs-47e38a45-aaf8-434e-8dce-fbc7e8ea16aa' title='Show/Hide attributes'><svg class='icon xr-icon-file-text2'><use xlink:href='#icon-file-text2'></use></svg></label><input id='data-cc10ea23-2ea2-45c0-862e-e0be9efdb3dd' class='xr-var-data-in' type='checkbox'><label for='data-cc10ea23-2ea2-45c0-862e-e0be9efdb3dd' title='Show/Hide data repr'><svg class='icon xr-icon-database'><use xlink:href='#icon-database'></use></svg></label><div class='xr-var-attrs'><dl class='xr-attrs'><dt><span>units :</span></dt><dd>degrees_north</dd></dl></div><div class='xr-var-data'><pre>array([45.400002, 45.450002, 45.500002, ..., 63.249999, 63.299999, 63.349999])</pre></div></li><li class='xr-var-item'><div class='xr-var-name'><span class='xr-has-index'>level</span></div><div class='xr-var-dims'>(level)</div><div class='xr-var-dtype'>float64</div><div class='xr-var-preview xr-preview'>1.0 6.0 11.0 16.0 21.0</div><input id='attrs-e4c40d1b-6525-4075-b6e6-a5060090c7f7' class='xr-var-attrs-in' type='checkbox' ><label for='attrs-e4c40d1b-6525-4075-b6e6-a5060090c7f7' title='Show/Hide attributes'><svg class='icon xr-icon-file-text2'><use xlink:href='#icon-file-text2'></use></svg></label><input id='data-1369fafe-facd-4a2c-95f6-c19e4d34f6fe' class='xr-var-data-in' type='checkbox'><label for='data-1369fafe-facd-4a2c-95f6-c19e4d34f6fe' title='Show/Hide data repr'><svg class='icon xr-icon-database'><use xlink:href='#icon-database'></use></svg></label><div class='xr-var-attrs'><dl class='xr-attrs'><dt><span>units :</span></dt><dd>level</dd></dl></div><div class='xr-var-data'><pre>array([ 1.,  6., 11., 16., 21.])</pre></div></li><li class='xr-var-item'><div class='xr-var-name'><span class='xr-has-index'>lonc</span></div><div class='xr-var-dims'>(lonc)</div><div class='xr-var-dtype'>float64</div><div class='xr-var-preview xr-preview'>-17.5 -17.42 -17.34 ... 14.02 14.1</div><input id='attrs-e4f436af-9c51-41f4-857e-e6c8764bc7f8' class='xr-var-attrs-in' type='checkbox' ><label for='attrs-e4f436af-9c51-41f4-857e-e6c8764bc7f8' title='Show/Hide attributes'><svg class='icon xr-icon-file-text2'><use xlink:href='#icon-file-text2'></use></svg></label><input id='data-3f5b3d4a-e4a7-495c-86cd-602866c227cb' class='xr-var-data-in' type='checkbox'><label for='data-3f5b3d4a-e4a7-495c-86cd-602866c227cb' title='Show/Hide data repr'><svg class='icon xr-icon-database'><use xlink:href='#icon-database'></use></svg></label><div class='xr-var-attrs'><dl class='xr-attrs'><dt><span>units :</span></dt><dd>degrees_east</dd></dl></div><div class='xr-var-data'><pre>array([-17.5 , -17.42, -17.34, ...,  13.94,  14.02,  14.1 ])</pre></div></li><li class='xr-var-item'><div class='xr-var-name'><span class='xr-has-index'>time</span></div><div class='xr-var-dims'>(time)</div><div class='xr-var-dtype'>datetime64[ns]</div><div class='xr-var-preview xr-preview'>1996-02-01T01:00:00 ... 1996-02-...</div><input id='attrs-5511bf75-9c14-4fa3-84b7-bba4a53d5ce2' class='xr-var-attrs-in' type='checkbox' ><label for='attrs-5511bf75-9c14-4fa3-84b7-bba4a53d5ce2' title='Show/Hide attributes'><svg class='icon xr-icon-file-text2'><use xlink:href='#icon-file-text2'></use></svg></label><input id='data-e36e71cf-14aa-41ff-8118-503778fc90a4' class='xr-var-data-in' type='checkbox'><label for='data-e36e71cf-14aa-41ff-8118-503778fc90a4' title='Show/Hide data repr'><svg class='icon xr-icon-database'><use xlink:href='#icon-database'></use></svg></label><div class='xr-var-attrs'><dl class='xr-attrs'><dt><span>long_name :</span></dt><dd>time</dd></dl></div><div class='xr-var-data'><pre>array([&#x27;1996-02-01T01:00:00.000000000&#x27;, &#x27;1996-02-02T01:00:00.000000000&#x27;,\n",
       "       &#x27;1996-02-03T01:00:00.000000000&#x27;, &#x27;1996-02-04T01:00:00.000000000&#x27;,\n",
       "       &#x27;1996-02-05T01:00:00.000000000&#x27;, &#x27;1996-02-06T01:00:00.000000000&#x27;],\n",
       "      dtype=&#x27;datetime64[ns]&#x27;)</pre></div></li></ul></div></li><li class='xr-section-item'><input id='section-72132fa2-265c-4afc-921f-00e29bcb720e' class='xr-section-summary-in' type='checkbox'  checked><label for='section-72132fa2-265c-4afc-921f-00e29bcb720e' class='xr-section-summary' >Data variables: <span>(3)</span></label><div class='xr-section-inline-details'></div><div class='xr-section-details'><ul class='xr-var-list'><li class='xr-var-item'><div class='xr-var-name'><span>bathymetry</span></div><div class='xr-var-dims'>(latc, lonc)</div><div class='xr-var-dtype'>float64</div><div class='xr-var-preview xr-preview'>...</div><input id='attrs-64c03513-0056-4aa3-a1a0-dd0c8a4b6d08' class='xr-var-attrs-in' type='checkbox' ><label for='attrs-64c03513-0056-4aa3-a1a0-dd0c8a4b6d08' title='Show/Hide attributes'><svg class='icon xr-icon-file-text2'><use xlink:href='#icon-file-text2'></use></svg></label><input id='data-91a6cc2e-216a-4bf0-a1dc-313f271532b0' class='xr-var-data-in' type='checkbox'><label for='data-91a6cc2e-216a-4bf0-a1dc-313f271532b0' title='Show/Hide data repr'><svg class='icon xr-icon-database'><use xlink:href='#icon-database'></use></svg></label><div class='xr-var-attrs'><dl class='xr-attrs'><dt><span>units :</span></dt><dd>m</dd><dt><span>long_name :</span></dt><dd>bathymetry</dd><dt><span>valid_range :</span></dt><dd>[  -5. 4000.]</dd></dl></div><div class='xr-var-data'><pre>[142560 values with dtype=float64]</pre></div></li><li class='xr-var-item'><div class='xr-var-name'><span>h</span></div><div class='xr-var-dims'>(time, level, latc, lonc)</div><div class='xr-var-dtype'>float32</div><div class='xr-var-preview xr-preview'>...</div><input id='attrs-bd72c8e5-8316-4c9a-af91-22e9f75c5aaf' class='xr-var-attrs-in' type='checkbox' ><label for='attrs-bd72c8e5-8316-4c9a-af91-22e9f75c5aaf' title='Show/Hide attributes'><svg class='icon xr-icon-file-text2'><use xlink:href='#icon-file-text2'></use></svg></label><input id='data-6fa5b447-9896-4c8a-996f-51758c2b2159' class='xr-var-data-in' type='checkbox'><label for='data-6fa5b447-9896-4c8a-996f-51758c2b2159' title='Show/Hide data repr'><svg class='icon xr-icon-database'><use xlink:href='#icon-database'></use></svg></label><div class='xr-var-attrs'><dl class='xr-attrs'><dt><span>units :</span></dt><dd>m</dd><dt><span>long_name :</span></dt><dd>layer thickness</dd></dl></div><div class='xr-var-data'><pre>[4276800 values with dtype=float32]</pre></div></li><li class='xr-var-item'><div class='xr-var-name'><span>temp</span></div><div class='xr-var-dims'>(time, level, latc, lonc)</div><div class='xr-var-dtype'>float32</div><div class='xr-var-preview xr-preview'>...</div><input id='attrs-075f2fd3-945c-4d14-98de-806923418ee0' class='xr-var-attrs-in' type='checkbox' ><label for='attrs-075f2fd3-945c-4d14-98de-806923418ee0' title='Show/Hide attributes'><svg class='icon xr-icon-file-text2'><use xlink:href='#icon-file-text2'></use></svg></label><input id='data-077ef0f9-6415-4b1c-967f-21f1836dd3e4' class='xr-var-data-in' type='checkbox'><label for='data-077ef0f9-6415-4b1c-967f-21f1836dd3e4' title='Show/Hide data repr'><svg class='icon xr-icon-database'><use xlink:href='#icon-database'></use></svg></label><div class='xr-var-attrs'><dl class='xr-attrs'><dt><span>units :</span></dt><dd>degC</dd><dt><span>long_name :</span></dt><dd>temperature</dd><dt><span>valid_range :</span></dt><dd>[-2. 40.]</dd></dl></div><div class='xr-var-data'><pre>[4276800 values with dtype=float32]</pre></div></li></ul></div></li><li class='xr-section-item'><input id='section-b0684343-3ac3-4263-b9a8-689dc2dcb19b' class='xr-section-summary-in' type='checkbox'  checked><label for='section-b0684343-3ac3-4263-b9a8-689dc2dcb19b' class='xr-section-summary' >Attributes: <span>(4)</span></label><div class='xr-section-inline-details'></div><div class='xr-section-details'><dl class='xr-attrs'><dt><span>title :</span></dt><dd>North West European Shelf 3nm</dd><dt><span>history :</span></dt><dd>Sun Nov 20 00:54:48 2016: ncks -v time,latc,lonc,level,temp,bathymetry,h -d time,0,120,24 -d level,1,25,5 /gpfs/afmcefas/share/nwes/36x36_old/timebase/nwes-3d-199602.nc cefas_GETM_nwes.nc\n",
       "Mon May  9 18:50:36 2016: ncatted -a units,time,o,c,seconds since 1996-01-01 00:00:00 /gpfs/afmcefas/share/nwes/36x36_old//timebase//nwes-3d-199602.nc\n",
       "Mon May  9 17:12:29 2016: ncap2 -s time=time+2678400 /gpfs/afmcefas/share/nwes/36x36_old//nwes-3d-199602.nc /gpfs/afmcefas/share/nwes/36x36_old//timebase//nwes-3d-199602.nc\n",
       "Fri May  6 23:38:06 2016 : ncmerge /gpfs/scratchenv/uck09rvu/prep_par/1996/02/north_west_european_shelf.3d.000.par.nc /gpfs/scratchenv/uck09rvu/prep_par/1996/02/north_west_european_shelf.3d.001.par.nc /gpfs/scratchenv/uck09rvu/prep_par/1996/02/north_west_european_shelf.3d.002.par.nc /gpfs/scratchenv/uck09rvu/prep_par/1996/02/north_west_european_shelf.3d.003.par.nc /gpfs/scratchenv/uck09rvu/prep_par/1996/02/north_west_european_shelf.3d.004.par.nc /gpfs/scratchenv/uck09rvu/prep_par/1996/02/north_west_european_shelf.3d.005.par.nc /gpfs/scratchenv/uck09rvu/prep_par/1996/02/north_west_european_shelf.3d.006.par.nc /gpfs/scratchenv/uck09rvu/prep_par/1996/02/north_west_european_shelf.3d.007.par.nc /gpfs/scratchenv/uck09rvu/prep_par/1996/02/north_west_european_shelf.3d.008.par.nc /gpfs/scratchenv/uck09rvu/prep_par/1996/02/north_west_european_shelf.3d.009.par.nc /gpfs/scratchenv/uck09rvu/prep_par/1996/02/north_west_european_shelf.3d.010.par.nc /gpfs/scratchenv/uck09rvu/prep_par/1996/02/north_west_european_shelf.3d.011.par.nc /gpfs/scratchenv/uck09rvu/prep_par/1996/02/north_west_european_shelf.3d.012.par.nc /gpfs/scratchenv/uck09rvu/prep_par/1996/02/north_west_european_shelf.3d.013.par.nc /gpfs/scratchenv/uck09rvu/prep_par/1996/02/north_west_european_shelf.3d.014.par.nc /gpfs/scratchenv/uck09rvu/prep_par/1996/02/north_west_european_shelf.3d.015.par.nc /gpfs/scratchenv/uck09rvu/prep_par/1996/02/north_west_european_shelf.3d.016.par.nc /gpfs/scratchenv/uck09rvu/prep_par/1996/02/north_west_european_shelf.3d.017.par.nc /gpfs/scratchenv/uck09rvu/prep_par/1996/02/north_west_european_shelf.3d.018.par.nc /gpfs/scratchenv/uck09rvu/prep_par/1996/02/north_west_european_shelf.3d.019.par.nc /gpfs/scratchenv/uck09rvu/prep_par/1996/02/north_west_european_shelf.3d.020.par.nc /gpfs/scratchenv/uck09rvu/prep_par/1996/02/north_west_european_shelf.3d.021.par.nc /gpfs/scratchenv/uck09rvu/prep_par/1996/02/north_west_european_shelf.3d.022.par.nc /gpfs/scratchenv/uck09rvu/prep_par/1996/02/north_west_european_shelf.3d.023.par.nc /gpfs/scratchenv/uck09rvu/prep_par/1996/02/north_west_european_shelf.3d.024.par.nc /gpfs/scratchenv/uck09rvu/prep_par/1996/02/north_west_european_shelf.3d.025.par.nc /gpfs/scratchenv/uck09rvu/prep_par/1996/02/north_west_european_shelf.3d.026.par.nc /gpfs/scratchenv/uck09rvu/prep_par/1996/02/north_west_european_shelf.3d.027.par.nc /gpfs/scratchenv/uck09rvu/prep_par/1996/02/north_west_european_shelf.3d.028.par.nc /gpfs/scratchenv/uck09rvu/prep_par/1996/02/north_west_european_shelf.3d.029.par.nc /gpfs/scratchenv/uck09rvu/prep_par/1996/02/north_west_european_shelf.3d.030.par.nc /gpfs/scratchenv/uck09rvu/prep_par/1996/02/north_west_european_shelf.3d.031.par.nc /gpfs/scratchenv/uck09rvu/prep_par/1996/02/north_west_european_shelf.3d.032.par.nc /gpfs/scratchenv/uck09rvu/prep_par/1996/02/north_west_european_shelf.3d.033.par.nc /gpfs/scratchenv/uck09rvu/prep_par/1996/02/north_west_european_shelf.3d.034.par.nc /gpfs/scratchenv/uck09rvu/prep_par/1996/02/north_west_european_shelf.3d.035.par.nc /gpfs/scratchenv/uck09rvu/prep_par/1996/02/north_west_european_shelf.3d.036.par.nc /gpfs/scratchenv/uck09rvu/prep_par/1996/02/north_west_european_shelf.3d.037.par.nc /gpfs/scratchenv/uck09rvu/prep_par/1996/02/north_west_european_shelf.3d.038.par.nc /gpfs/scratchenv/uck09rvu/prep_par/1996/02/north_west_european_shelf.3d.039.par.nc /gpfs/scratchenv/uck09rvu/prep_par/1996/02/north_west_european_shelf.3d.040.par.nc /gpfs/scratchenv/uck09rvu/prep_par/1996/02/north_west_european_shelf.3d.041.par.nc /gpfs/scratchenv/uck09rvu/prep_par/1996/02/north_west_european_shelf.3d.042.par.nc /gpfs/scratchenv/uck09rvu/prep_par/1996/02/north_west_european_shelf.3d.043.par.nc /gpfs/scratchenv/uck09rvu/prep_par/1996/02/north_west_european_shelf.3d.044.par.nc /gpfs/scratchenv/uck09rvu/prep_par/1996/02/north_west_european_shelf.3d.045.par.nc /gpfs/scratchenv/uck09rvu/prep_par/1996/02/north_west_european_shelf.3d.046.par.nc /gpfs/scratchenv/uck09rvu/prep_par/1996/02/north_west_european_shelf.3d.047.par.nc /gpfs/scratchenv/uck09rvu/prep_par/1996/02/north_west_european_shelf.3d.048.par.nc /gpfs/scratchenv/uck09rvu/prep_par/1996/02/north_west_european_shelf.3d.049.par.nc /gpfs/scratchenv/uck09rvu/prep_par/1996/02/north_west_european_shelf.3d.050.par.nc /gpfs/scratchenv/uck09rvu/prep_par/1996/02/north_west_european_shelf.3d.051.par.nc /gpfs/scratchenv/uck09rvu/prep_par/1996/02/north_west_european_shelf.3d.052.par.nc /gpfs/scratchenv/uck09rvu/prep_par/1996/02/north_west_european_shelf.3d.053.par.nc /gpfs/scratchenv/uck09rvu/prep_par/1996/02/north_west_european_shelf.3d.054.par.nc /gpfs/scratchenv/uck09rvu/prep_par/1996/02/north_west_european_shelf.3d.055.par.nc /gpfs/scratchenv/uck09rvu/prep_par/1996/02/north_west_european_shelf.3d.056.par.nc /gpfs/scratchenv/uck09rvu/prep_par/1996/02/north_west_european_shelf.3d.057.par.nc /gpfs/scratchenv/uck09rvu/prep_par/1996/02/north_west_european_shelf.3d.058.par.nc /gpfs/scratchenv/uck09rvu/prep_par/1996/02/north_west_european_shelf.3d.059.par.nc /gpfs/scratchenv/uck09rvu/prep_par/1996/02/north_west_european_shelf.3d.060.par.nc /gpfs/scratchenv/uck09rvu/prep_par/1996/02/north_west_european_shelf.3d.061.par.nc /gpfs/scratchenv/uck09rvu/prep_par/1996/02/north_west_european_shelf.3d.062.par.nc /gpfs/scratchenv/uck09rvu/prep_par/1996/02/north_west_european_shelf.3d.063.par.nc /gpfs/scratchenv/uck09rvu/prep_par/1996/02/north_west_european_shelf.3d.064.par.nc /gpfs/scratchenv/uck09rvu/prep_par/1996/02/north_west_european_shelf.3d.065.par.nc /gpfs/scratchenv/uck09rvu/prep_par/1996/02/north_west_european_shelf.3d.066.par.nc /gpfs/scratchenv/uck09rvu/prep_par/1996/02/north_west_european_shelf.3d.067.par.nc /gpfs/scratchenv/uck09rvu/prep_par/1996/02/north_west_european_shelf.3d.068.par.nc /gpfs/scratchenv/uck09rvu/prep_par/1996/02/north_west_european_shelf.3d.069.par.nc /gpfs/scratchenv/uck09rvu/prep_par/1996/02/north_west_european_shelf.3d.070.par.nc /gpfs/scratchenv/uck09rvu/prep_par/1996/02/north_west_european_shelf.3d.071.par.nc /gpfs/scratchenv/uck09rvu/prep_par/1996/02/north_west_european_shelf.3d.072.par.nc /gpfs/scratchenv/uck09rvu/prep_par/1996/02/north_west_european_shelf.3d.073.par.nc /gpfs/scratchenv/uck09rvu/prep_par/1996/02/north_west_european_shelf.3d.074.par.nc /gpfs/scratchenv/uck09rvu/prep_par/1996/02/north_west_european_shelf.3d.075.par.nc /gpfs/scratchenv/uck09rvu/prep_par/1996/02/north_west_european_shelf.3d.076.par.nc /gpfs/scratchenv/uck09rvu/prep_par/1996/02/north_west_european_shelf.3d.077.par.nc /gpfs/scratchenv/uck09rvu/prep_par/1996/02/north_west_european_shelf.3d.078.par.nc /gpfs/scratchenv/uck09rvu/prep_par/1996/02/north_west_european_shelf.3d.079.par.nc /gpfs/scratchenv/uck09rvu/prep_par/1996/02/north_west_european_shelf.3d.080.par.nc /gpfs/scratchenv/uck09rvu/prep_par/1996/02/north_west_european_shelf.3d.081.par.nc /gpfs/scratchenv/uck09rvu/prep_par/1996/02/north_west_european_shelf.3d.082.par.nc /gpfs/scratchenv/uck09rvu/prep_par/1996/02/north_west_european_shelf.3d.083.par.nc /gpfs/scratchenv/uck09rvu/prep_par/1996/02/north_west_european_shelf.3d.084.par.nc /gpfs/scratchenv/uck09rvu/prep_par/1996/02/north_west_european_shelf.3d.085.par.nc /gpfs/scratchenv/uck09rvu/prep_par/1996/02/north_west_european_shelf.3d.086.par.nc /gpfs/scratchenv/uck09rvu/prep_par/1996/02/north_west_european_shelf.3d.087.par.nc /gpfs/scratchenv/uck09rvu/prep_par/north_west_european_shelf.3d.par.199602.nc \n",
       " Fri May  6 23:26:28 2016: ncks -v grid_type,vert_cord,ioff,joff,dlon,dlat,lonc,latc,level,bathymetry,time,elev,u,v,h,hcc,uu,vv,w,salt,temp,sigma_t,nuh /gpfs/scratchenv/uck09rvu/prep_par/1996/02/north_west_european_shelf.3d.000.nc /gpfs/scratchenv/uck09rvu/prep_par/1996/02/north_west_european_shelf.3d.000.par.nc\n",
       "Generated by getm, ver. 2.2.2</dd><dt><span>NCO :</span></dt><dd>4.4.8</dd><dt><span>nco_openmp_thread_number :</span></dt><dd>1</dd></dl></div></li></ul></div></div>"
      ],
      "text/plain": [
       "<xarray.Dataset>\n",
       "Dimensions:     (latc: 360, level: 5, lonc: 396, time: 6)\n",
       "Coordinates:\n",
       "  * latc        (latc) float64 45.4 45.45 45.5 45.55 ... 63.2 63.25 63.3 63.35\n",
       "  * level       (level) float64 1.0 6.0 11.0 16.0 21.0\n",
       "  * lonc        (lonc) float64 -17.5 -17.42 -17.34 -17.26 ... 13.94 14.02 14.1\n",
       "  * time        (time) datetime64[ns] 1996-02-01T01:00:00 ... 1996-02-06T01:0...\n",
       "Data variables:\n",
       "    bathymetry  (latc, lonc) float64 ...\n",
       "    h           (time, level, latc, lonc) float32 ...\n",
       "    temp        (time, level, latc, lonc) float32 ...\n",
       "Attributes:\n",
       "    title:                     North West European Shelf 3nm\n",
       "    history:                   Sun Nov 20 00:54:48 2016: ncks -v time,latc,lo...\n",
       "    NCO:                       4.4.8\n",
       "    nco_openmp_thread_number:  1"
      ]
     },
     "execution_count": 2,
     "metadata": {},
     "output_type": "execute_result"
    }
   ],
   "source": [
    "GETM = xr.open_dataset('../data/cefas_GETM_nwes.nc4')\n",
    "GETM"
   ]
  },
  {
   "cell_type": "markdown",
   "metadata": {},
   "source": [
    "We can see that this file holds bathymetryic, height and tempearture data for a gridded area of the North West European Shelf"
   ]
  },
  {
   "cell_type": "code",
   "execution_count": 3,
   "metadata": {},
   "outputs": [
    {
     "data": {
      "text/plain": [
       "Frozen(SortedKeysDict({'latc': 360, 'lonc': 396, 'time': 6, 'level': 5}))"
      ]
     },
     "execution_count": 3,
     "metadata": {},
     "output_type": "execute_result"
    }
   ],
   "source": [
    "GETM.dims"
   ]
  },
  {
   "cell_type": "markdown",
   "metadata": {},
   "source": [
    "We can print these dimensions to see the extent of the netCDF"
   ]
  },
  {
   "cell_type": "code",
   "execution_count": 4,
   "metadata": {},
   "outputs": [
    {
     "data": {
      "text/html": [
       "<div><svg style=\"position: absolute; width: 0; height: 0; overflow: hidden\">\n",
       "<defs>\n",
       "<symbol id=\"icon-database\" viewBox=\"0 0 32 32\">\n",
       "<path d=\"M16 0c-8.837 0-16 2.239-16 5v4c0 2.761 7.163 5 16 5s16-2.239 16-5v-4c0-2.761-7.163-5-16-5z\"></path>\n",
       "<path d=\"M16 17c-8.837 0-16-2.239-16-5v6c0 2.761 7.163 5 16 5s16-2.239 16-5v-6c0 2.761-7.163 5-16 5z\"></path>\n",
       "<path d=\"M16 26c-8.837 0-16-2.239-16-5v6c0 2.761 7.163 5 16 5s16-2.239 16-5v-6c0 2.761-7.163 5-16 5z\"></path>\n",
       "</symbol>\n",
       "<symbol id=\"icon-file-text2\" viewBox=\"0 0 32 32\">\n",
       "<path d=\"M28.681 7.159c-0.694-0.947-1.662-2.053-2.724-3.116s-2.169-2.030-3.116-2.724c-1.612-1.182-2.393-1.319-2.841-1.319h-15.5c-1.378 0-2.5 1.121-2.5 2.5v27c0 1.378 1.122 2.5 2.5 2.5h23c1.378 0 2.5-1.122 2.5-2.5v-19.5c0-0.448-0.137-1.23-1.319-2.841zM24.543 5.457c0.959 0.959 1.712 1.825 2.268 2.543h-4.811v-4.811c0.718 0.556 1.584 1.309 2.543 2.268zM28 29.5c0 0.271-0.229 0.5-0.5 0.5h-23c-0.271 0-0.5-0.229-0.5-0.5v-27c0-0.271 0.229-0.5 0.5-0.5 0 0 15.499-0 15.5 0v7c0 0.552 0.448 1 1 1h7v19.5z\"></path>\n",
       "<path d=\"M23 26h-14c-0.552 0-1-0.448-1-1s0.448-1 1-1h14c0.552 0 1 0.448 1 1s-0.448 1-1 1z\"></path>\n",
       "<path d=\"M23 22h-14c-0.552 0-1-0.448-1-1s0.448-1 1-1h14c0.552 0 1 0.448 1 1s-0.448 1-1 1z\"></path>\n",
       "<path d=\"M23 18h-14c-0.552 0-1-0.448-1-1s0.448-1 1-1h14c0.552 0 1 0.448 1 1s-0.448 1-1 1z\"></path>\n",
       "</symbol>\n",
       "</defs>\n",
       "</svg>\n",
       "<style>/* CSS stylesheet for displaying xarray objects in jupyterlab.\n",
       " *\n",
       " */\n",
       "\n",
       ":root {\n",
       "  --xr-font-color0: var(--jp-content-font-color0, rgba(0, 0, 0, 1));\n",
       "  --xr-font-color2: var(--jp-content-font-color2, rgba(0, 0, 0, 0.54));\n",
       "  --xr-font-color3: var(--jp-content-font-color3, rgba(0, 0, 0, 0.38));\n",
       "  --xr-border-color: var(--jp-border-color2, #e0e0e0);\n",
       "  --xr-disabled-color: var(--jp-layout-color3, #bdbdbd);\n",
       "  --xr-background-color: var(--jp-layout-color0, white);\n",
       "  --xr-background-color-row-even: var(--jp-layout-color1, white);\n",
       "  --xr-background-color-row-odd: var(--jp-layout-color2, #eeeeee);\n",
       "}\n",
       "\n",
       "html[theme=dark],\n",
       "body.vscode-dark {\n",
       "  --xr-font-color0: rgba(255, 255, 255, 1);\n",
       "  --xr-font-color2: rgba(255, 255, 255, 0.54);\n",
       "  --xr-font-color3: rgba(255, 255, 255, 0.38);\n",
       "  --xr-border-color: #1F1F1F;\n",
       "  --xr-disabled-color: #515151;\n",
       "  --xr-background-color: #111111;\n",
       "  --xr-background-color-row-even: #111111;\n",
       "  --xr-background-color-row-odd: #313131;\n",
       "}\n",
       "\n",
       ".xr-wrap {\n",
       "  display: block;\n",
       "  min-width: 300px;\n",
       "  max-width: 700px;\n",
       "}\n",
       "\n",
       ".xr-text-repr-fallback {\n",
       "  /* fallback to plain text repr when CSS is not injected (untrusted notebook) */\n",
       "  display: none;\n",
       "}\n",
       "\n",
       ".xr-header {\n",
       "  padding-top: 6px;\n",
       "  padding-bottom: 6px;\n",
       "  margin-bottom: 4px;\n",
       "  border-bottom: solid 1px var(--xr-border-color);\n",
       "}\n",
       "\n",
       ".xr-header > div,\n",
       ".xr-header > ul {\n",
       "  display: inline;\n",
       "  margin-top: 0;\n",
       "  margin-bottom: 0;\n",
       "}\n",
       "\n",
       ".xr-obj-type,\n",
       ".xr-array-name {\n",
       "  margin-left: 2px;\n",
       "  margin-right: 10px;\n",
       "}\n",
       "\n",
       ".xr-obj-type {\n",
       "  color: var(--xr-font-color2);\n",
       "}\n",
       "\n",
       ".xr-sections {\n",
       "  padding-left: 0 !important;\n",
       "  display: grid;\n",
       "  grid-template-columns: 150px auto auto 1fr 20px 20px;\n",
       "}\n",
       "\n",
       ".xr-section-item {\n",
       "  display: contents;\n",
       "}\n",
       "\n",
       ".xr-section-item input {\n",
       "  display: none;\n",
       "}\n",
       "\n",
       ".xr-section-item input + label {\n",
       "  color: var(--xr-disabled-color);\n",
       "}\n",
       "\n",
       ".xr-section-item input:enabled + label {\n",
       "  cursor: pointer;\n",
       "  color: var(--xr-font-color2);\n",
       "}\n",
       "\n",
       ".xr-section-item input:enabled + label:hover {\n",
       "  color: var(--xr-font-color0);\n",
       "}\n",
       "\n",
       ".xr-section-summary {\n",
       "  grid-column: 1;\n",
       "  color: var(--xr-font-color2);\n",
       "  font-weight: 500;\n",
       "}\n",
       "\n",
       ".xr-section-summary > span {\n",
       "  display: inline-block;\n",
       "  padding-left: 0.5em;\n",
       "}\n",
       "\n",
       ".xr-section-summary-in:disabled + label {\n",
       "  color: var(--xr-font-color2);\n",
       "}\n",
       "\n",
       ".xr-section-summary-in + label:before {\n",
       "  display: inline-block;\n",
       "  content: '►';\n",
       "  font-size: 11px;\n",
       "  width: 15px;\n",
       "  text-align: center;\n",
       "}\n",
       "\n",
       ".xr-section-summary-in:disabled + label:before {\n",
       "  color: var(--xr-disabled-color);\n",
       "}\n",
       "\n",
       ".xr-section-summary-in:checked + label:before {\n",
       "  content: '▼';\n",
       "}\n",
       "\n",
       ".xr-section-summary-in:checked + label > span {\n",
       "  display: none;\n",
       "}\n",
       "\n",
       ".xr-section-summary,\n",
       ".xr-section-inline-details {\n",
       "  padding-top: 4px;\n",
       "  padding-bottom: 4px;\n",
       "}\n",
       "\n",
       ".xr-section-inline-details {\n",
       "  grid-column: 2 / -1;\n",
       "}\n",
       "\n",
       ".xr-section-details {\n",
       "  display: none;\n",
       "  grid-column: 1 / -1;\n",
       "  margin-bottom: 5px;\n",
       "}\n",
       "\n",
       ".xr-section-summary-in:checked ~ .xr-section-details {\n",
       "  display: contents;\n",
       "}\n",
       "\n",
       ".xr-array-wrap {\n",
       "  grid-column: 1 / -1;\n",
       "  display: grid;\n",
       "  grid-template-columns: 20px auto;\n",
       "}\n",
       "\n",
       ".xr-array-wrap > label {\n",
       "  grid-column: 1;\n",
       "  vertical-align: top;\n",
       "}\n",
       "\n",
       ".xr-preview {\n",
       "  color: var(--xr-font-color3);\n",
       "}\n",
       "\n",
       ".xr-array-preview,\n",
       ".xr-array-data {\n",
       "  padding: 0 5px !important;\n",
       "  grid-column: 2;\n",
       "}\n",
       "\n",
       ".xr-array-data,\n",
       ".xr-array-in:checked ~ .xr-array-preview {\n",
       "  display: none;\n",
       "}\n",
       "\n",
       ".xr-array-in:checked ~ .xr-array-data,\n",
       ".xr-array-preview {\n",
       "  display: inline-block;\n",
       "}\n",
       "\n",
       ".xr-dim-list {\n",
       "  display: inline-block !important;\n",
       "  list-style: none;\n",
       "  padding: 0 !important;\n",
       "  margin: 0;\n",
       "}\n",
       "\n",
       ".xr-dim-list li {\n",
       "  display: inline-block;\n",
       "  padding: 0;\n",
       "  margin: 0;\n",
       "}\n",
       "\n",
       ".xr-dim-list:before {\n",
       "  content: '(';\n",
       "}\n",
       "\n",
       ".xr-dim-list:after {\n",
       "  content: ')';\n",
       "}\n",
       "\n",
       ".xr-dim-list li:not(:last-child):after {\n",
       "  content: ',';\n",
       "  padding-right: 5px;\n",
       "}\n",
       "\n",
       ".xr-has-index {\n",
       "  font-weight: bold;\n",
       "}\n",
       "\n",
       ".xr-var-list,\n",
       ".xr-var-item {\n",
       "  display: contents;\n",
       "}\n",
       "\n",
       ".xr-var-item > div,\n",
       ".xr-var-item label,\n",
       ".xr-var-item > .xr-var-name span {\n",
       "  background-color: var(--xr-background-color-row-even);\n",
       "  margin-bottom: 0;\n",
       "}\n",
       "\n",
       ".xr-var-item > .xr-var-name:hover span {\n",
       "  padding-right: 5px;\n",
       "}\n",
       "\n",
       ".xr-var-list > li:nth-child(odd) > div,\n",
       ".xr-var-list > li:nth-child(odd) > label,\n",
       ".xr-var-list > li:nth-child(odd) > .xr-var-name span {\n",
       "  background-color: var(--xr-background-color-row-odd);\n",
       "}\n",
       "\n",
       ".xr-var-name {\n",
       "  grid-column: 1;\n",
       "}\n",
       "\n",
       ".xr-var-dims {\n",
       "  grid-column: 2;\n",
       "}\n",
       "\n",
       ".xr-var-dtype {\n",
       "  grid-column: 3;\n",
       "  text-align: right;\n",
       "  color: var(--xr-font-color2);\n",
       "}\n",
       "\n",
       ".xr-var-preview {\n",
       "  grid-column: 4;\n",
       "}\n",
       "\n",
       ".xr-var-name,\n",
       ".xr-var-dims,\n",
       ".xr-var-dtype,\n",
       ".xr-preview,\n",
       ".xr-attrs dt {\n",
       "  white-space: nowrap;\n",
       "  overflow: hidden;\n",
       "  text-overflow: ellipsis;\n",
       "  padding-right: 10px;\n",
       "}\n",
       "\n",
       ".xr-var-name:hover,\n",
       ".xr-var-dims:hover,\n",
       ".xr-var-dtype:hover,\n",
       ".xr-attrs dt:hover {\n",
       "  overflow: visible;\n",
       "  width: auto;\n",
       "  z-index: 1;\n",
       "}\n",
       "\n",
       ".xr-var-attrs,\n",
       ".xr-var-data {\n",
       "  display: none;\n",
       "  background-color: var(--xr-background-color) !important;\n",
       "  padding-bottom: 5px !important;\n",
       "}\n",
       "\n",
       ".xr-var-attrs-in:checked ~ .xr-var-attrs,\n",
       ".xr-var-data-in:checked ~ .xr-var-data {\n",
       "  display: block;\n",
       "}\n",
       "\n",
       ".xr-var-data > table {\n",
       "  float: right;\n",
       "}\n",
       "\n",
       ".xr-var-name span,\n",
       ".xr-var-data,\n",
       ".xr-attrs {\n",
       "  padding-left: 25px !important;\n",
       "}\n",
       "\n",
       ".xr-attrs,\n",
       ".xr-var-attrs,\n",
       ".xr-var-data {\n",
       "  grid-column: 1 / -1;\n",
       "}\n",
       "\n",
       "dl.xr-attrs {\n",
       "  padding: 0;\n",
       "  margin: 0;\n",
       "  display: grid;\n",
       "  grid-template-columns: 125px auto;\n",
       "}\n",
       "\n",
       ".xr-attrs dt,\n",
       ".xr-attrs dd {\n",
       "  padding: 0;\n",
       "  margin: 0;\n",
       "  float: left;\n",
       "  padding-right: 10px;\n",
       "  width: auto;\n",
       "}\n",
       "\n",
       ".xr-attrs dt {\n",
       "  font-weight: normal;\n",
       "  grid-column: 1;\n",
       "}\n",
       "\n",
       ".xr-attrs dt:hover span {\n",
       "  display: inline-block;\n",
       "  background: var(--xr-background-color);\n",
       "  padding-right: 10px;\n",
       "}\n",
       "\n",
       ".xr-attrs dd {\n",
       "  grid-column: 2;\n",
       "  white-space: pre-wrap;\n",
       "  word-break: break-all;\n",
       "}\n",
       "\n",
       ".xr-icon-database,\n",
       ".xr-icon-file-text2 {\n",
       "  display: inline-block;\n",
       "  vertical-align: middle;\n",
       "  width: 1em;\n",
       "  height: 1.5em !important;\n",
       "  stroke-width: 0;\n",
       "  stroke: currentColor;\n",
       "  fill: currentColor;\n",
       "}\n",
       "</style><pre class='xr-text-repr-fallback'>&lt;xarray.DataArray &#x27;latc&#x27; (latc: 360)&gt;\n",
       "array([45.400002, 45.450002, 45.500002, ..., 63.249999, 63.299999, 63.349999])\n",
       "Coordinates:\n",
       "  * latc     (latc) float64 45.4 45.45 45.5 45.55 45.6 ... 63.2 63.25 63.3 63.35\n",
       "Attributes:\n",
       "    units:    degrees_north</pre><div class='xr-wrap' hidden><div class='xr-header'><div class='xr-obj-type'>xarray.DataArray</div><div class='xr-array-name'>'latc'</div><ul class='xr-dim-list'><li><span class='xr-has-index'>latc</span>: 360</li></ul></div><ul class='xr-sections'><li class='xr-section-item'><div class='xr-array-wrap'><input id='section-786d4758-b340-4bcb-8841-790476e9ed59' class='xr-array-in' type='checkbox' checked><label for='section-786d4758-b340-4bcb-8841-790476e9ed59' title='Show/hide data repr'><svg class='icon xr-icon-database'><use xlink:href='#icon-database'></use></svg></label><div class='xr-array-preview xr-preview'><span>45.4 45.45 45.5 45.55 45.6 45.65 ... 63.1 63.15 63.2 63.25 63.3 63.35</span></div><div class='xr-array-data'><pre>array([45.400002, 45.450002, 45.500002, ..., 63.249999, 63.299999, 63.349999])</pre></div></div></li><li class='xr-section-item'><input id='section-73010099-5f0b-4602-93e8-ab6574bc3067' class='xr-section-summary-in' type='checkbox'  checked><label for='section-73010099-5f0b-4602-93e8-ab6574bc3067' class='xr-section-summary' >Coordinates: <span>(1)</span></label><div class='xr-section-inline-details'></div><div class='xr-section-details'><ul class='xr-var-list'><li class='xr-var-item'><div class='xr-var-name'><span class='xr-has-index'>latc</span></div><div class='xr-var-dims'>(latc)</div><div class='xr-var-dtype'>float64</div><div class='xr-var-preview xr-preview'>45.4 45.45 45.5 ... 63.3 63.35</div><input id='attrs-4c361ad3-db06-463d-9787-44ad1075d1a4' class='xr-var-attrs-in' type='checkbox' ><label for='attrs-4c361ad3-db06-463d-9787-44ad1075d1a4' title='Show/Hide attributes'><svg class='icon xr-icon-file-text2'><use xlink:href='#icon-file-text2'></use></svg></label><input id='data-94cc1bb3-4bbc-4734-8c86-34a666819a3f' class='xr-var-data-in' type='checkbox'><label for='data-94cc1bb3-4bbc-4734-8c86-34a666819a3f' title='Show/Hide data repr'><svg class='icon xr-icon-database'><use xlink:href='#icon-database'></use></svg></label><div class='xr-var-attrs'><dl class='xr-attrs'><dt><span>units :</span></dt><dd>degrees_north</dd></dl></div><div class='xr-var-data'><pre>array([45.400002, 45.450002, 45.500002, ..., 63.249999, 63.299999, 63.349999])</pre></div></li></ul></div></li><li class='xr-section-item'><input id='section-56a8db02-fdcc-46a0-bd1f-7b2fce9cc085' class='xr-section-summary-in' type='checkbox'  checked><label for='section-56a8db02-fdcc-46a0-bd1f-7b2fce9cc085' class='xr-section-summary' >Attributes: <span>(1)</span></label><div class='xr-section-inline-details'></div><div class='xr-section-details'><dl class='xr-attrs'><dt><span>units :</span></dt><dd>degrees_north</dd></dl></div></li></ul></div></div>"
      ],
      "text/plain": [
       "<xarray.DataArray 'latc' (latc: 360)>\n",
       "array([45.400002, 45.450002, 45.500002, ..., 63.249999, 63.299999, 63.349999])\n",
       "Coordinates:\n",
       "  * latc     (latc) float64 45.4 45.45 45.5 45.55 45.6 ... 63.2 63.25 63.3 63.35\n",
       "Attributes:\n",
       "    units:    degrees_north"
      ]
     },
     "execution_count": 4,
     "metadata": {},
     "output_type": "execute_result"
    }
   ],
   "source": [
    "GETM.latc\n",
    "#GETM.lonc\n",
    "#GETM.time\n",
    "#GETM.level"
   ]
  },
  {
   "cell_type": "code",
   "execution_count": 5,
   "metadata": {},
   "outputs": [
    {
     "name": "stdout",
     "output_type": "stream",
     "text": [
      "<class 'xarray.core.dataarray.DataArray'>\n"
     ]
    },
    {
     "data": {
      "text/plain": [
       "(360,)"
      ]
     },
     "execution_count": 5,
     "metadata": {},
     "output_type": "execute_result"
    }
   ],
   "source": [
    "print(type(GETM.coords['latc']))\n",
    "GETM.coords['latc'].shape"
   ]
  },
  {
   "cell_type": "code",
   "execution_count": 6,
   "metadata": {},
   "outputs": [
    {
     "data": {
      "text/plain": [
       "dict_keys(['title', 'history', 'NCO', 'nco_openmp_thread_number'])"
      ]
     },
     "execution_count": 6,
     "metadata": {},
     "output_type": "execute_result"
    }
   ],
   "source": [
    "# List name of dataset attributes\n",
    "GETM.attrs.keys()"
   ]
  },
  {
   "cell_type": "code",
   "execution_count": 7,
   "metadata": {},
   "outputs": [
    {
     "data": {
      "text/plain": [
       "KeysView(Data variables:\n",
       "    bathymetry  (latc, lonc) float64 ...\n",
       "    h           (time, level, latc, lonc) float32 ...\n",
       "    temp        (time, level, latc, lonc) float32 ...)"
      ]
     },
     "execution_count": 7,
     "metadata": {},
     "output_type": "execute_result"
    }
   ],
   "source": [
    "# List variable names\n",
    "GETM.data_vars.keys()"
   ]
  },
  {
   "cell_type": "markdown",
   "metadata": {},
   "source": [
    "This tells  us that bathymetry is 2D, varying only wiht lat and lon. Height and temp are 4D, varying with time and model level as well"
   ]
  },
  {
   "cell_type": "markdown",
   "metadata": {},
   "source": [
    "Extract variable from dataset"
   ]
  },
  {
   "cell_type": "code",
   "execution_count": 8,
   "metadata": {},
   "outputs": [
    {
     "name": "stdout",
     "output_type": "stream",
     "text": [
      "<class 'xarray.core.dataarray.DataArray'>\n"
     ]
    },
    {
     "data": {
      "text/plain": [
       "(6, 5, 360, 396)"
      ]
     },
     "execution_count": 8,
     "metadata": {},
     "output_type": "execute_result"
    }
   ],
   "source": [
    "temp = GETM['temp']\n",
    "print(type( temp ))\n",
    "temp.shape"
   ]
  },
  {
   "cell_type": "markdown",
   "metadata": {},
   "source": [
    "Access variable attributes"
   ]
  },
  {
   "cell_type": "code",
   "execution_count": null,
   "metadata": {},
   "outputs": [],
   "source": [
    "# print variable attributes\n",
    "\n",
    "for at, val in temp.attrs.items():\n",
    "    print(f'{at:<15}: {val}')"
   ]
  },
  {
   "cell_type": "markdown",
   "metadata": {},
   "source": [
    "## Accessing data values"
   ]
  },
  {
   "cell_type": "code",
   "execution_count": null,
   "metadata": {},
   "outputs": [],
   "source": [
    "temp[0, 0, 90, 100]"
   ]
  },
  {
   "cell_type": "code",
   "execution_count": null,
   "metadata": {},
   "outputs": [],
   "source": [
    "temp.values[0, 0, 90, 100]"
   ]
  },
  {
   "cell_type": "markdown",
   "metadata": {},
   "source": [
    "## Indexing and selecting data\n",
    "\n",
    "From http://xarray.pydata.org/\n",
    "<br>\n",
    "<img src=\"../figures/xarray_indexing_table.png\">"
   ]
  },
  {
   "cell_type": "code",
   "execution_count": null,
   "metadata": {},
   "outputs": [],
   "source": [
    "#positional by integer\n",
    "print( temp[0, 2, :, :].shape )\n",
    "\n",
    "# positional by label\n",
    "print( temp.loc['1996-02-02T01:00:00', :, :, :].shape )\n",
    "\n",
    "# by name and integer\n",
    "print( temp.isel(level=1, latc=90, lonc=100).shape )\n",
    "\n",
    "# by name and label\n",
    "print( temp.sel(time='1996-02-02T01:00:00').shape )\n",
    "#temp.loc"
   ]
  },
  {
   "cell_type": "markdown",
   "metadata": {},
   "source": [
    "### Define selection using nearest value"
   ]
  },
  {
   "cell_type": "code",
   "execution_count": null,
   "metadata": {},
   "outputs": [],
   "source": [
    "#GETM.sel(level=1)['temp']\n",
    "GETM['temp'].sel(level=2, lonc=-5.0, latc=50.0, method='nearest')"
   ]
  },
  {
   "cell_type": "code",
   "execution_count": null,
   "metadata": {},
   "outputs": [],
   "source": [
    "# Use tolerance for label selection (lat=-50 should not yield data)\n",
    "tol = 0.5\n",
    "\n",
    "try:\n",
    "    GETM['temp'].sel(level=1, lonc=-5.0, latc=-50.0, method='nearest', tolerance=tol)\n",
    "except KeyError:\n",
    "    print(f'ERROR: outside tolerance of {tol}')"
   ]
  },
  {
   "cell_type": "markdown",
   "metadata": {},
   "source": [
    "## Plotting"
   ]
  },
  {
   "cell_type": "code",
   "execution_count": null,
   "metadata": {},
   "outputs": [],
   "source": [
    "%matplotlib inline\n",
    "import matplotlib.pyplot as plt\n",
    "import cartopy\n",
    "import cartopy.crs as ccrs"
   ]
  },
  {
   "cell_type": "markdown",
   "metadata": {},
   "source": [
    "Define a general mapping function using cartopy"
   ]
  },
  {
   "cell_type": "code",
   "execution_count": null,
   "metadata": {},
   "outputs": [],
   "source": [
    "#def make_map(ds, var='', title=None, units=None):\n",
    "def make_map():\n",
    "    # create figure and axes instances\n",
    "    fig = plt.figure()\n",
    "    ax = fig.add_subplot(111, projection=ccrs.Stereographic(central_latitude=60))\n",
    "    #ax.coastlines(resolution='50m', linewidth=0.5)\n",
    "    ax.set_extent([-10, 15, 49, 60], crs=ccrs.PlateCarree())\n",
    "    \n",
    "    gl = ax.gridlines(draw_labels=False)\n",
    "    \n",
    "    feature = cartopy.feature.NaturalEarthFeature(name='coastline',\n",
    "                                                  category='physical',\n",
    "                                                  scale='50m',\n",
    "                                                  edgecolor='0.5',\n",
    "                                                  facecolor='0.8')\n",
    "    ax.add_feature(feature)\n",
    "    return fig, ax\n",
    "\n",
    "make_map();"
   ]
  },
  {
   "cell_type": "code",
   "execution_count": null,
   "metadata": {},
   "outputs": [],
   "source": [
    "latc = GETM.coords['latc']\n",
    "lonc = GETM.coords['lonc']\n",
    "\n",
    "var = GETM.temp.sel(time='1996-02-02T01:00:00', level=21)\n",
    "\n",
    "# create arrays of coordinates for contourf\n",
    "# lon2d, lat2d = np.meshgrid(lonc, latc)\n",
    "\n",
    "fig, ax = make_map()\n",
    "# draw filled contours.\n",
    "h = ax.contourf(lonc, latc, var, 50, cmap=plt.cm.coolwarm, transform=ccrs.PlateCarree())\n",
    "\n",
    "# add colorbar.\n",
    "cbar = fig.colorbar(h)\n",
    "cbar.set_label(var.units)\n",
    "\n",
    "# add title\n",
    "ax.set_title(f'A slice of {var.long_name}');"
   ]
  },
  {
   "cell_type": "code",
   "execution_count": null,
   "metadata": {},
   "outputs": [],
   "source": [
    "# But often, this will do\n",
    "#GETM.temp.isel(time=0, level=0).plot();\n",
    "GETM.temp.sel(time='1996-02-02T01:00:00', level=21).plot();"
   ]
  },
  {
   "cell_type": "markdown",
   "metadata": {},
   "source": [
    "## Arithmetic operations"
   ]
  },
  {
   "cell_type": "code",
   "execution_count": null,
   "metadata": {},
   "outputs": [],
   "source": [
    "top = GETM['temp'].isel(time=0, level=4)\n",
    "bottom = GETM['temp'].isel(time=0, level=0)\n",
    "\n",
    "diff = top - bottom\n",
    "\n",
    "diff.plot()"
   ]
  },
  {
   "cell_type": "markdown",
   "metadata": {},
   "source": [
    "### Calculate average along a dimension"
   ]
  },
  {
   "cell_type": "code",
   "execution_count": null,
   "metadata": {},
   "outputs": [],
   "source": [
    "# average over time\n",
    "time_ave = GETM['temp'].mean('time')\n",
    "\n",
    "#average over time and level (vertical)\n",
    "time_and_level_ave = GETM['temp'].mean(['time','level'])\n",
    "\n",
    "time_and_level_ave.plot()"
   ]
  },
  {
   "cell_type": "code",
   "execution_count": null,
   "metadata": {},
   "outputs": [],
   "source": [
    "#zonal average (vertical)\n",
    "timelon_ave = GETM['temp'].mean(['time','lonc']).isel(level=4)\n",
    "\n",
    "timelon_ave.plot()"
   ]
  },
  {
   "cell_type": "markdown",
   "metadata": {},
   "source": [
    "Using **xarray** we have the data access power of **netCDF4** with all the intelligent selection, arithmetic, statistical methods and plotting of **pandas**"
   ]
  },
  {
   "cell_type": "markdown",
   "metadata": {},
   "source": [
    "## A dataset can easily be saved to a netCDF file"
   ]
  },
  {
   "cell_type": "code",
   "execution_count": null,
   "metadata": {},
   "outputs": [],
   "source": [
    "ds = GETM[['temp']].mean('time','level')\n",
    "ds.to_netcdf('../data/temp_avg_level_time.nc')"
   ]
  },
  {
   "cell_type": "markdown",
   "metadata": {},
   "source": [
    "## Exercise\n",
    "\n",
    "* Extract the bathymetry\n",
    "* Extract the time averaged seabed temperature (level=0)\n",
    "* Produce a scatter plot of depth vs. seabed temperature\n"
   ]
  },
  {
   "cell_type": "code",
   "execution_count": null,
   "metadata": {},
   "outputs": [],
   "source": [
    "GETM.data_vars.keys()"
   ]
  },
  {
   "cell_type": "code",
   "execution_count": null,
   "metadata": {},
   "outputs": [],
   "source": [
    "# Your code here"
   ]
  },
  {
   "cell_type": "code",
   "execution_count": null,
   "metadata": {},
   "outputs": [],
   "source": []
  },
  {
   "cell_type": "code",
   "execution_count": null,
   "metadata": {},
   "outputs": [],
   "source": []
  },
  {
   "cell_type": "code",
   "execution_count": null,
   "metadata": {},
   "outputs": [],
   "source": []
  },
  {
   "cell_type": "code",
   "execution_count": null,
   "metadata": {},
   "outputs": [],
   "source": [
    "# Scroll down for a solution"
   ]
  },
  {
   "cell_type": "code",
   "execution_count": null,
   "metadata": {},
   "outputs": [],
   "source": []
  },
  {
   "cell_type": "code",
   "execution_count": null,
   "metadata": {},
   "outputs": [],
   "source": []
  },
  {
   "cell_type": "code",
   "execution_count": null,
   "metadata": {},
   "outputs": [],
   "source": []
  },
  {
   "cell_type": "code",
   "execution_count": null,
   "metadata": {},
   "outputs": [],
   "source": [
    "# First get the bathy and temp data\n",
    "bathy=GETM['bathymetry']\n",
    "bedtemp=GETM['temp'].mean('time').isel(level=0)"
   ]
  },
  {
   "cell_type": "code",
   "execution_count": null,
   "metadata": {},
   "outputs": [],
   "source": [
    "bathy.plot();"
   ]
  },
  {
   "cell_type": "code",
   "execution_count": null,
   "metadata": {},
   "outputs": [],
   "source": [
    "bedtemp.plot()"
   ]
  },
  {
   "cell_type": "code",
   "execution_count": null,
   "metadata": {},
   "outputs": [],
   "source": [
    "# Make a simple scatter plot\n",
    "fig, ax = plt.subplots()\n",
    "ax.scatter(bathy,bedtemp,marker='.',s=1.0)\n",
    "ax.set_xlabel('Bathymetry (m)')\n",
    "ax.set_ylabel('Bottom temperature (deg. C)');"
   ]
  },
  {
   "cell_type": "markdown",
   "metadata": {},
   "source": [
    "## Import remote dataset\n",
    "\n",
    "xarray supports OpenDAP. This means that a dataset can be accessed remotely and subsetted as needed. Only the selected parts are downloaded."
   ]
  },
  {
   "cell_type": "code",
   "execution_count": null,
   "metadata": {},
   "outputs": [],
   "source": [
    "remote_data = xr.open_dataset(\n",
    "      'http://iridl.ldeo.columbia.edu/SOURCES/.OSU/.PRISM/.monthly/dods',\n",
    "      decode_times=False)\n",
    "remote_data"
   ]
  },
  {
   "cell_type": "markdown",
   "metadata": {},
   "source": [
    "# Excercise:\n",
    "Import data from a netCDF or csv file and start exploring it. Some ideas:\n",
    "- Use pandas to get quick statistics\n",
    "- Do some data cleaning and calculations wtih numpy\n",
    "- Plot it up with matplotlib, pandas, seaborn or cartopy as you prefer\n",
    "\n",
    "I encourage you to use your own data if you have some. If not, we have some sample datasets you can explore:"
   ]
  },
  {
   "cell_type": "markdown",
   "metadata": {},
   "source": [
    "### Earthquake data (csv file)\n",
    "US Geological Survey (USGS) provides various [earthquakes data](https://earthquake.usgs.gov/data/data.php#eq) on a global scale. Its Earthquake Catalog contains earthquake source parameters (e.g. hypocenters, magnitudes, phase picks and amplitudes) and other products (e.g. moment tensor solutions, macroseismic information, tectonic summaries, maps) produced by contributing seismic networks.\n",
    "\n",
    "If you follow this [link](http://earthquake.usgs.gov/earthquakes/search/), you can search throught the catalog and filter data by the magnitude, time and geographic region. In the `data/` folder, we provide an [example dataset](../data/earthquakes_2015_2016_gt45.csv) of earthquakes with magnitude >4.5 that occurred around the world over the period of a year.\n",
    "\n",
    "To get you started, the following cell loads the data into a pandas DataFrame"
   ]
  },
  {
   "cell_type": "code",
   "execution_count": null,
   "metadata": {},
   "outputs": [],
   "source": [
    "#import pandas as pd\n",
    "#df = pd.read_csv('../data/earthquakes_2015_2016_gt45.csv', parse_dates = ['time',], index_col='time')\n",
    "#df.head()"
   ]
  },
  {
   "cell_type": "markdown",
   "metadata": {},
   "source": [
    "If you want to build your project on these data, some possible ideas are:\n",
    "* `pandas` package will be most useful to read in the data, as well as analyse them\n",
    "* Use `cartopy` to plot the data using longitude and latitude columns\n",
    "* Explore `pandas`' `groupby()` method, which you can use to aggregate data by time or other parameter\n",
    "* Create a histogram of earthquakes magnitude"
   ]
  },
  {
   "cell_type": "markdown",
   "metadata": {},
   "source": [
    "### Arctic Sea Ice (netCDF files)\n",
    "* In this project you are offered to use NOAA/NSIDC Climate Data Record of Passive Microwave Sea Ice Concentration.\n",
    "* In the `../data/` directory, there are 2 netCDF files `seaice_conc_monthly*` that correspond to September 1991  and September 2012 .\n",
    "* If you want to download data for other months, visit the [NSIDC's data portal](https://nsidc.org/data/search/#keywords=sea+ice/sortKeys=score,,desc/facetFilters=%257B%257D/pageNumber=1/itemsPerPage=25)."
   ]
  },
  {
   "cell_type": "markdown",
   "metadata": {},
   "source": [
    "For this project, I recommend that you:\n",
    "* use `xarray` for opening and reading the netCDF files\n",
    "* use `cartopy` for creating a plot with a correct map projection\n",
    "* use appropriate colormaps for the sea ice concentration and difference between the two years"
   ]
  },
  {
   "cell_type": "markdown",
   "metadata": {},
   "source": [
    "Some code to get you started:"
   ]
  },
  {
   "cell_type": "code",
   "execution_count": null,
   "metadata": {},
   "outputs": [],
   "source": [
    "#import cartopy.crs as ccrs\n",
    "#import matplotlib.pyplot as plt\n",
    "#import xarray as xr"
   ]
  },
  {
   "cell_type": "code",
   "execution_count": null,
   "metadata": {},
   "outputs": [],
   "source": [
    "#ds1 = xr.open_dataset('../data/seaice_conc_monthly_nh_f08_199109_v02r00.nc')\n",
    "#ds2 = xr.open_dataset('../data/seaice_conc_monthly_nh_f17_201209_v02r00.nc')"
   ]
  },
  {
   "cell_type": "code",
   "execution_count": null,
   "metadata": {},
   "outputs": [],
   "source": [
    "## Code for creating a map\n",
    "#fig = plt.figure()\n",
    "#ax = fig.add_subplot(111, projection=ccrs.???(central_longitude=0))\n",
    "#ax.coastlines(resolution='110m', linewidth=0.5)\n",
    "\n",
    "#ax.gridlines()\n",
    "#ax.set_extent([-180, 180, 40, 90], crs=ccrs.PlateCarree())"
   ]
  }
 ],
 "metadata": {
  "anaconda-cloud": {},
  "kernelspec": {
   "display_name": "Python 3",
   "language": "python",
   "name": "python3"
  },
  "language_info": {
   "codemirror_mode": {
    "name": "ipython",
    "version": 3
   },
   "file_extension": ".py",
   "mimetype": "text/x-python",
   "name": "python",
   "nbconvert_exporter": "python",
   "pygments_lexer": "ipython3",
   "version": "3.8.5"
  }
 },
 "nbformat": 4,
 "nbformat_minor": 1
}
