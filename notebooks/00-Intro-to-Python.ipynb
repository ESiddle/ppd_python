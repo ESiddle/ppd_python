{
 "cells": [
  {
   "cell_type": "markdown",
   "metadata": {},
   "source": [
    "# Introduction to Python"
   ]
  },
  {
   "cell_type": "markdown",
   "metadata": {},
   "source": [
    "##  Brief history and some facts"
   ]
  },
  {
   "cell_type": "markdown",
   "metadata": {},
   "source": [
    "* Created and maintained by Guido Van Rossum, aka a \"Benevolent Dictator For Life\" (BDFL)\n",
    "* Implementation started in December 1989, first published in February 1991\n",
    "* Started as a successor to the ABC programming language\n",
    "* Influenced by Modula-3, Lisp, C, and other programming languages"
   ]
  },
  {
   "cell_type": "markdown",
   "metadata": {},
   "source": [
    "* Python 2.0 was released in 2000\n",
    "* Major new features: garbage collection and Unicode support\n",
    "* A move to transparency and community-driven development\n",
    "* [Python 2 support ends in 2020](https://pythonclock.org/)\n"
   ]
  },
  {
   "cell_type": "markdown",
   "metadata": {},
   "source": [
    "* Python 3.0 was released in 2008\n",
    "* Update to the 'modern way' of doing things\n",
    "* By fixing major flaws, it became backward-incompatible (most Python 2 code doesn't run under Python 3)\n",
    "* All essential scientific packages are ported to Python 3\n",
    "* The latest major version is **Python 3.7** which is used in this course. [Python 3.7 will be supported until 2023](https://python-release-cycle.glitch.me/)"
   ]
  },
  {
   "cell_type": "markdown",
   "metadata": {},
   "source": [
    "## Reasons to use Python"
   ]
  },
  {
   "cell_type": "markdown",
   "metadata": {},
   "source": [
    "* Free software, promotes open science\n",
    "* Very versatile \"glue\" language: interoperability with other languages and extensibility.\n",
    "* Originally developed as a teaching language, highly readable and easy to learn\"executable pseudocode\"\n",
    "* Lots of batteries included functionality\n",
    "* 1000s of specialist libraries for all purposes"
   ]
  },
  {
   "cell_type": "markdown",
   "metadata": {},
   "source": [
    "<img src=\"../figures/scipy-ecosystem.png\" style=\"height:60%; width:60%;\">"
   ]
  },
  {
   "cell_type": "markdown",
   "metadata": {},
   "source": [
    "Strong institutional suport from\n",
    "* UK Met Office\n",
    "* British Atmospheric Data Centre (BADC)\n",
    "* Cefas\n",
    "* National Centre for Atmospheric Science (NCAS)\n",
    "* European Centre for Medium-Range Weather Forecasts (ECMRWF)\n",
    "* EUMETSAT\n",
    "* US National Center for Atmospheric Research (NCAR)\n",
    "* many-many more"
   ]
  },
  {
   "cell_type": "markdown",
   "metadata": {},
   "source": [
    "Popularity not limited to scientific computing. **No.1 on Stack Overflow as of this year!**"
   ]
  },
  {
   "cell_type": "markdown",
   "metadata": {},
   "source": [
    "https://insights.stackoverflow.com/trends?tags=java%2Cc%2B%2B%2Cpython%2Cc%23%2Cjavascript%2Cphp%2Cr%2Cmatlab\n",
    "![](../figures/stack-insight.png)"
   ]
  },
  {
   "cell_type": "markdown",
   "metadata": {},
   "source": [
    "This awesome image by [Dr Katie Bouwman](https://www.theguardian.com/science/2019/apr/11/katie-bouman-black-hole-photo) and the team at Caltech\n",
    "![](../figures/black_hole.png)"
   ]
  },
  {
   "cell_type": "markdown",
   "metadata": {},
   "source": [
    "And the earlier [discovery of gravitional waves](https://github.com/gwastro)"
   ]
  },
  {
   "cell_type": "markdown",
   "metadata": {},
   "source": [
    "Usage is not limited to the scientific community. Amongst other things Python powers:\n",
    "* Deep learning (AI) tools [TensorFlow](https://www.tensorflow.org/), [Keras](https://keras.io/) and [Pytorch](https://pytorch.org/)\n",
    "* [Reddit](https://www.reddit.com/)\n",
    "* [The 2018 Nobel Prize for Economics](https://paulromer.net/jupyter-mathematica-and-the-future-of-the-research-paper/)"
   ]
  },
  {
   "cell_type": "markdown",
   "metadata": {},
   "source": [
    "## Python, anaconda, spyder and Jupyter Notebooks"
   ]
  },
  {
   "cell_type": "markdown",
   "metadata": {},
   "source": [
    "**anaconda** is a data science distribution that greatly simplifies downloading and managing **Python** packages. The base installation includes several useful packages for importing, manipulating and plotting data which we will use today."
   ]
  },
  {
   "cell_type": "markdown",
   "metadata": {},
   "source": [
    "A **Jupyter Notebook** is an interactive environment for writing, running and sharing code. All the teaching materials and excercises for this course are organised in Jupyter Notebooks."
   ]
  },
  {
   "cell_type": "markdown",
   "metadata": {},
   "source": [
    "#### Notebook Cells\n",
    "\n",
    "- A Notebook is a series of \"cells\".\n",
    "- The active cell has an outline around it.\n",
    "- Navigate to different cells with the arrow keys.\n",
    "- A cell can be either be code, markdown, or \"raw\".\n",
    "    - Code\n",
    "        - Python\n",
    "        - R\n",
    "        - Julia\n",
    "        - [Many Others](https://github.com/ipython/ipython/wiki/IPython-kernels-for-other-languages)\n",
    "- Create cells from the Notebook menu or using keyboard shortcuts.\n",
    "    - `h`: Bring up keyboard shortcuts screen.\n",
    "    - `b` Make a new cell below the current cell\n",
    "    - `Enter` To enter edit mode for the current cell (or double click it)\n",
    "    - `Ctrl`-`Enter` Run the current cell\n",
    "    - `Esc` Exit edit mode\n",
    "    - `Ctrl`-`s`: Save Notebook"
   ]
  },
  {
   "cell_type": "markdown",
   "metadata": {},
   "source": [
    "#### Other features\n",
    "- tab autocompletion, start typing something and hit tab for suggestions\n",
    "- inline documentation, type a command name followed by a question mark `open?`\n",
    "- run shell commands with \"!\" `!ls`\n",
    "- embed images and videos, load remote code and more. [More on jupyter notebooks](https://nbviewer.jupyter.org/github/ueapy/pythoncourse2019-materials/blob/master/notebooks/02-Jupyter-Notebook.ipynb)\n",
    "- Share python code with NBviewer or Binder"
   ]
  },
  {
   "cell_type": "markdown",
   "metadata": {},
   "source": [
    "[Spyder](https://www.spyder-ide.org/) is an Integrated Development Environment (IDE) similar to R studio or MATLAB for writing Python code. It is included with Anaconda\n",
    "\n",
    "[Pycharm](https://www.jetbrains.com/pycharm/) is a free, open source and feature rich IDE that can do just about anything. It's a little more complicated to set up but boasts autocompletion, error detection, code profiling and plugins for vim keybindings, a markdown editor and more"
   ]
  },
  {
   "cell_type": "markdown",
   "metadata": {},
   "source": [
    "Once you have **Python** installed on your computer through **anaconda** you can run python code in **Jupyter Notebooks**, **spyder, Pycharm** or straight from the command line as you prefer. Experiment with different code editors and find a setup that works for you"
   ]
  }
 ],
 "metadata": {
  "kernelspec": {
   "display_name": "Python 3",
   "language": "python",
   "name": "python3"
  },
  "language_info": {
   "codemirror_mode": {
    "name": "ipython",
    "version": 3
   },
   "file_extension": ".py",
   "mimetype": "text/x-python",
   "name": "python",
   "nbconvert_exporter": "python",
   "pygments_lexer": "ipython3",
   "version": "3.7.3"
  }
 },
 "nbformat": 4,
 "nbformat_minor": 2
}
