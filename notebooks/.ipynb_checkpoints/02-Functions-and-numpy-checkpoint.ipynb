{
 "cells": [
  {
   "cell_type": "markdown",
   "metadata": {},
   "source": [
    "# Modules in Python"
   ]
  },
  {
   "cell_type": "markdown",
   "metadata": {},
   "source": [
    "One of the advantages of Python that makes it so versatile for a wide range of tasks is the broad ecosystem of tools and packages that offer more specialized functionality on top of the \"bare\" Python."
   ]
  },
  {
   "cell_type": "markdown",
   "metadata": {},
   "source": [
    "## Loading Modules: the ``import`` Statement\n",
    "\n",
    "For loading built-in and third-party modules, Python provides the ``import`` statement."
   ]
  },
  {
   "cell_type": "markdown",
   "metadata": {},
   "source": [
    "#### <font color='green'>Good</font>\n",
    "import <font color='green'>sys</font>\n",
    "\n",
    "from os import <font color='green'>path</font>\n",
    "\n",
    "import statistics <font color='green'>as stats</font>\n",
    "\n",
    "from custom_package import <font color='green'>mode</font>\n",
    "\n",
    "from statistics import <font color='green'>mean, median</font>"
   ]
  },
  {
   "cell_type": "markdown",
   "metadata": {},
   "source": [
    "#### <font color='red'>Bad:</font> silently overwrites previous imports\n",
    "from math import <font color='red'><b>*</b></font>\n",
    "\n",
    "from pylab import <font color='red'><b>*</b></font>"
   ]
  },
  {
   "cell_type": "markdown",
   "metadata": {},
   "source": [
    "For today we will import the **numpy** module. A powerful and flexible maths package"
   ]
  },
  {
   "cell_type": "code",
   "execution_count": 1,
   "metadata": {},
   "outputs": [],
   "source": [
    "import numpy as np # Because I am too lazy to write numpy every time"
   ]
  },
  {
   "cell_type": "markdown",
   "metadata": {},
   "source": [
    "# ![](http://www.numpy.org/_static/numpy_logo.png) \n",
    "##### NumPy supports arrays which are very useful to numerical computations\n",
    "* Arrays are N dimensional: 1d (vector), 2d (plane),...,N dim\n",
    "* Arrays are (generally) faster than lists\n",
    "* Many packages use numpy arrays to store data\n",
    "* Arrays can be used to make calculations in one command, without `for` loops or list compreension"
   ]
  },
  {
   "cell_type": "markdown",
   "metadata": {},
   "source": [
    "We will start with some randomly generated data to test numpy's functionality:"
   ]
  },
  {
   "cell_type": "code",
   "execution_count": 17,
   "metadata": {},
   "outputs": [
    {
     "data": {
      "text/plain": [
       "array([[ 9,  9,  4,  8, -6],\n",
       "       [ 8,  2,  3,  5,  5],\n",
       "       [ 3, -6, -2, -1,  6],\n",
       "       [ 5,  3, -1, -5,  7],\n",
       "       [-2, -7, -8, -2,  7]])"
      ]
     },
     "execution_count": 17,
     "metadata": {},
     "output_type": "execute_result"
    }
   ],
   "source": [
    "a = np.random.randint(-10,high=10,size=(5,5))\n",
    "a\n",
    "# How does this function work? Try uncommenting the next line to read the documentation for this function\n",
    "#np.random.randint?"
   ]
  },
  {
   "cell_type": "code",
   "execution_count": null,
   "metadata": {},
   "outputs": [],
   "source": []
  }
 ],
 "metadata": {
  "kernelspec": {
   "display_name": "Python 3",
   "language": "python",
   "name": "python3"
  },
  "language_info": {
   "codemirror_mode": {
    "name": "ipython",
    "version": 3
   },
   "file_extension": ".py",
   "mimetype": "text/x-python",
   "name": "python",
   "nbconvert_exporter": "python",
   "pygments_lexer": "ipython3",
   "version": "3.7.2"
  }
 },
 "nbformat": 4,
 "nbformat_minor": 2
}
